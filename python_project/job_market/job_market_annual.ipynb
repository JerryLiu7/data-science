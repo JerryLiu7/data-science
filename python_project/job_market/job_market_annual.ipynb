{
 "cells": [
  {
   "cell_type": "markdown",
   "id": "b5f918e2",
   "metadata": {},
   "source": [
    "## 1. Get data from two sources:  \n",
    "• Collects data of your choosing from an API (i.e. Wikipedia, NYT, or other)  \n",
    "• Collects data from a web page using scraping with BeautifulSoup (it is also possible to\n",
    "use Selenium)  "
   ]
  },
  {
   "cell_type": "markdown",
   "id": "a48ed18c",
   "metadata": {},
   "source": [
    "### my choice:\n",
    "DATA from API:  articles related to \"data scientist\" in NYT api   \n",
    "Web scraping data: U.S. News'  Best Jobs"
   ]
  },
  {
   "cell_type": "code",
   "execution_count": 1,
   "id": "dd8aa645",
   "metadata": {},
   "outputs": [
    {
     "name": "stdout",
     "output_type": "stream",
     "text": [
      "Requirement already satisfied: requests in d:\\anakonda\\lib\\site-packages (2.31.0)\n",
      "Requirement already satisfied: charset-normalizer<4,>=2 in d:\\anakonda\\lib\\site-packages (from requests) (2.0.4)\n",
      "Requirement already satisfied: idna<4,>=2.5 in d:\\anakonda\\lib\\site-packages (from requests) (3.4)\n",
      "Requirement already satisfied: urllib3<3,>=1.21.1 in d:\\anakonda\\lib\\site-packages (from requests) (1.26.16)\n",
      "Requirement already satisfied: certifi>=2017.4.17 in d:\\anakonda\\lib\\site-packages (from requests) (2023.7.22)\n"
     ]
    }
   ],
   "source": [
    "## imports\n",
    "!pip install requests\n",
    "import requests as rq\n",
    "from urllib.parse import urlencode\n",
    "import pandas as pd\n",
    "import seaborn as sns\n",
    "import matplotlib.pyplot as plt\n",
    "import json\n",
    "import numpy as np\n",
    "import copy\n",
    "from bs4 import BeautifulSoup as bs\n",
    "import re\n",
    "from time import sleep\n",
    "import statsmodels.api as sm\n",
    "from statsmodels.formula.api import ols\n",
    "import statsmodels.formula.api as smf"
   ]
  },
  {
   "cell_type": "markdown",
   "id": "6dd2ae7d",
   "metadata": {},
   "source": [
    "###  get data from API (NYT)"
   ]
  },
  {
   "cell_type": "code",
   "execution_count": 2,
   "id": "83547c24",
   "metadata": {},
   "outputs": [],
   "source": [
    "## access NYT API , set the key word to be \"data scientist\"\n",
    "api_key = 'ITqGKYBATC61fM67Lr6RvuhQKCRkEwgt'\n",
    "query = \"data scientist\""
   ]
  },
  {
   "cell_type": "code",
   "execution_count": 3,
   "id": "fd3f7c2d",
   "metadata": {},
   "outputs": [
    {
     "data": {
      "text/plain": [
       "<Response [200]>"
      ]
     },
     "execution_count": 3,
     "metadata": {},
     "output_type": "execute_result"
    }
   ],
   "source": [
    "base_url=\"https://api.nytimes.com/svc/search/v2/articlesearch.json?\"\n",
    "\n",
    "params={\"q\":query,\"api-key\":api_key,\"fq\": 'body:\"data scientist\"',\"begin_date\":\"20230101\"}\n",
    "response=rq.get(base_url+urlencode(params))\n",
    "response"
   ]
  },
  {
   "cell_type": "code",
   "execution_count": 4,
   "id": "970acaec",
   "metadata": {},
   "outputs": [],
   "source": [
    "## turn the response data into json \n",
    "response=response.json()"
   ]
  },
  {
   "cell_type": "markdown",
   "id": "c66a008b",
   "metadata": {},
   "source": [
    "Got data from API"
   ]
  },
  {
   "cell_type": "markdown",
   "id": "0c7c35b2",
   "metadata": {},
   "source": [
    "---"
   ]
  },
  {
   "cell_type": "markdown",
   "id": "8f5f9ff4",
   "metadata": {},
   "source": [
    "### get data using web scraping"
   ]
  },
  {
   "cell_type": "markdown",
   "id": "941ff8f4",
   "metadata": {},
   "source": [
    "Web scraping data: U.S. News' Best Jobs in different fields  https://money.usnews.com/careers/best-jobs/rankings"
   ]
  },
  {
   "cell_type": "code",
   "execution_count": 5,
   "id": "67109ead",
   "metadata": {},
   "outputs": [
    {
     "data": {
      "text/plain": [
       "<Response [200]>"
      ]
     },
     "execution_count": 5,
     "metadata": {},
     "output_type": "execute_result"
    }
   ],
   "source": [
    "## test if we can access the website by web scraping\n",
    "HEADERS = {\"User-agent\": \"Mozilla/5.0 (iPad; CPU OS 12_2 like Mac OS X) AppleWebKit/605.1.15 (KHTML, like Gecko) Mobile/15E148\"}\n",
    "page_raw = rq.get(\"https://money.usnews.com/careers/best-jobs/rankings\",headers=HEADERS)\n",
    "page_raw"
   ]
  },
  {
   "cell_type": "code",
   "execution_count": 6,
   "id": "c79e99db",
   "metadata": {},
   "outputs": [
    {
     "data": {
      "text/plain": [
       "17"
      ]
     },
     "execution_count": 6,
     "metadata": {},
     "output_type": "execute_result"
    }
   ],
   "source": [
    "## turn the entire page into beautifulsoup\n",
    "page_soup = bs(page_raw.text)\n",
    " \n",
    "## now we need to access many job ranking pages from this website\n",
    "## ranking information are put in two different places in the website,so i decide to deal with each of them then put them into one list.\n",
    "rankings_soup = page_soup.find_all(\n",
    "    \"li\", class_=\"rankings-index__ListItemStyled-n9ivl8-1 Cell-sc-1abjmm4-0-rankings-index__ListItemStyled hUGzM ghhnDt\")\n",
    "rankings_soup2=page_soup.find_all(\n",
    "    \"li\", class_=\"rankings-index__ListItemStyled-n9ivl8-1 Cell-sc-1abjmm4-0-rankings-index__ListItemStyled hUGzM keXiNB\")\n",
    "ranking_page_soup=rankings_soup+rankings_soup2\n",
    "len(ranking_page_soup)"
   ]
  },
  {
   "cell_type": "markdown",
   "id": "78a5bcda",
   "metadata": {},
   "source": [
    "now, inside this list(ranking_soup), there are 17 rankings. i'll start to explore each of them and pick out information we need for a dataframe"
   ]
  },
  {
   "cell_type": "code",
   "execution_count": 7,
   "id": "a1597211",
   "metadata": {},
   "outputs": [
    {
     "data": {
      "text/plain": [
       "<li class=\"rankings-index__ListItemStyled-n9ivl8-1 Cell-sc-1abjmm4-0-rankings-index__ListItemStyled hUGzM ghhnDt\"><div class=\"CardRanking__CardContainer-sc-7t385z-1 wwtQd rankings-index__CardRankingStyled-n9ivl8-4 gCZXDH t-font-fam border\"><div class=\"CardRanking__CardBgImage-sc-7t385z-0 iNqbGV\"><a class=\"Anchor-byh49a-0 eMEqFO\" href=\"https://money.usnews.com/careers/best-jobs/rankings/the-100-best-jobs\"></a></div><div class=\"CardRanking__ContentBox-sc-7t385z-2 fvZkqh p2\"><h3 class=\"Heading-sc-1w5xk2o-0 eKEGBN\" style=\"position:relative\"><a class=\"Anchor-byh49a-0 dKVMQA\" href=\"https://money.usnews.com/careers/best-jobs/rankings/the-100-best-jobs\">The 100 Best Jobs</a></h3><ul class=\"RankList__List-sc-2xewen-0 hIzLil rank-list\" font-size=\"4\" spacing=\"0\"><li class=\"RankList__ListItem-sc-2xewen-1 dofuo rank-list-item\"><a class=\"RankList__RankLink-sc-2xewen-3 iJNAOy has-badge\" href=\"https://money.usnews.com/careers/best-jobs/software-developer\"><div class=\"RankList__Rank-sc-2xewen-2 dXcKoP ranked has-badge\"><strong data-test-id=\"The 100 Best Jobs Software Developer rank\">#<!-- -->1</strong></div><div>Software Developer</div></a></li><li class=\"RankList__ListItem-sc-2xewen-1 dofuo rank-list-item\"><a class=\"RankList__RankLink-sc-2xewen-3 iJNAOy has-badge\" href=\"https://money.usnews.com/careers/best-jobs/nurse-practitioner\"><div class=\"RankList__Rank-sc-2xewen-2 dXcKoP ranked has-badge\"><strong data-test-id=\"The 100 Best Jobs Nurse Practitioner rank\">#<!-- -->2</strong></div><div>Nurse Practitioner</div></a></li><li class=\"RankList__ListItem-sc-2xewen-1 dofuo rank-list-item\"><a class=\"RankList__RankLink-sc-2xewen-3 iJNAOy has-badge\" href=\"https://money.usnews.com/careers/best-jobs/medical-and-health-services-manager\"><div class=\"RankList__Rank-sc-2xewen-2 dXcKoP ranked has-badge\"><strong data-test-id=\"The 100 Best Jobs Medical and Health Services Manager rank\">#<!-- -->3</strong></div><div>Medical and Health Services Manager</div></a></li></ul><a class=\"Anchor-byh49a-0 hoKIRh\" href=\"https://money.usnews.com/careers/best-jobs/rankings/the-100-best-jobs\">See Full Rankings List</a></div></div></li>"
      ]
     },
     "execution_count": 7,
     "metadata": {},
     "output_type": "execute_result"
    }
   ],
   "source": [
    "ranking_page_soup[0]"
   ]
  },
  {
   "cell_type": "code",
   "execution_count": 8,
   "id": "def5eb12",
   "metadata": {},
   "outputs": [],
   "source": [
    "## first, before we enter those 17 rankings, i'll store the names of ranking lists as a new list.\n",
    "## since all the jobs in the rankings are under the same catagory as the name of the ranking, let's name the list to be job catagory:\n",
    "job_cata=[]\n",
    "for i in ranking_page_soup:\n",
    "    title=i.find_all(\"h3\",class_=\"Heading-sc-1w5xk2o-0 eKEGBN\")\n",
    "    title2=i.find_all(\"h3\",class_=\"Heading-sc-1w5xk2o-0 Card__CardHeading-lfbmbq-1 jUptUn gqyhvg\")\n",
    "    job_cata=job_cata+title+title2\n",
    "    "
   ]
  },
  {
   "cell_type": "code",
   "execution_count": 9,
   "id": "44e50cff",
   "metadata": {},
   "outputs": [
    {
     "name": "stdout",
     "output_type": "stream",
     "text": [
      "The 100 Best Jobs\n",
      "Best Health Care Jobs\n",
      "Best-Paying Jobs\n",
      "Best Business Jobs\n",
      "Best Technology Jobs\n",
      "Best STEM Jobs\n",
      "Best Health Care Support Jobs\n",
      "Best Jobs Without a College Degree\n",
      "Highest Paying Jobs Without a Degree\n",
      "Best Science Jobs\n",
      "Best Construction Jobs\n",
      "Best Sales and Marketing Jobs\n",
      "Best Creative and Media Jobs\n",
      "Best Education Jobs\n",
      "Best Maintenance and Repair Jobs\n",
      "Best Social Services Jobs\n",
      "Best Engineering Jobs\n"
     ]
    }
   ],
   "source": [
    "## let's see what kind of rankings we got:\n",
    "for i in job_cata:\n",
    "    print(i.text)"
   ]
  },
  {
   "cell_type": "code",
   "execution_count": 10,
   "id": "c3f1f31f",
   "metadata": {},
   "outputs": [
    {
     "name": "stdout",
     "output_type": "stream",
     "text": [
      "Best Health Care Jobs\n",
      "Best Business Jobs\n",
      "Best Technology Jobs\n",
      "Best STEM Jobs\n",
      "Best Health Care Support Jobs\n",
      "Best Science Jobs\n",
      "Best Construction Jobs\n",
      "Best Sales and Marketing Jobs\n",
      "Best Creative and Media Jobs\n",
      "Best Education Jobs\n",
      "Best Maintenance and Repair Jobs\n",
      "Best Social Services Jobs\n",
      "Best Engineering Jobs\n",
      "13\n"
     ]
    }
   ],
   "source": [
    "## some of the rankings don't consist jobs in the same field,which don't fulfull our need.(like\"100 best jobs\") \n",
    "## so we kick them off\n",
    "\n",
    "list_delete=[\"The 100 Best Jobs\",\"Best-Paying Jobs\",\"Highest Paying Jobs Without a Degree\",\"Best Jobs Without a College Degree\"]\n",
    "for i in range(5):\n",
    "    for i in job_cata:\n",
    "        if i.text in list_delete:\n",
    "            job_cata.remove(job_cata[job_cata.index(i)])\n",
    "            \n",
    "## now we got the rankings we want            \n",
    "for i in job_cata:\n",
    "    print(i.text)\n",
    "\n",
    "print(len(job_cata))"
   ]
  },
  {
   "cell_type": "code",
   "execution_count": 11,
   "id": "d3df314b",
   "metadata": {},
   "outputs": [
    {
     "data": {
      "text/plain": [
       "{'Best Health Care Jobs': 'https://money.usnews.com/careers/best-jobs/rankings/best-healthcare-jobs',\n",
       " 'Best Business Jobs': 'https://money.usnews.com/careers/best-jobs/rankings/best-business-jobs',\n",
       " 'Best Technology Jobs': 'https://money.usnews.com/careers/best-jobs/rankings/best-technology-jobs',\n",
       " 'Best STEM Jobs': 'https://money.usnews.com/careers/best-jobs/rankings/best-stem-jobs',\n",
       " 'Best Health Care Support Jobs': 'https://money.usnews.com/careers/best-jobs/rankings/best-health-care-support-jobs',\n",
       " 'Best Science Jobs': 'https://money.usnews.com/careers/best-jobs/rankings/best-science-jobs',\n",
       " 'Best Construction Jobs': 'https://money.usnews.com/careers/best-jobs/rankings/best-construction-jobs',\n",
       " 'Best Sales and Marketing Jobs': 'https://money.usnews.com/careers/best-jobs/rankings/best-sales-and-marketing-jobs',\n",
       " 'Best Creative and Media Jobs': 'https://money.usnews.com/careers/best-jobs/rankings/best-creative-and-media-jobs',\n",
       " 'Best Education Jobs': 'https://money.usnews.com/careers/best-jobs/rankings/best-education-jobs',\n",
       " 'Best Maintenance and Repair Jobs': 'https://money.usnews.com/careers/best-jobs/rankings/best-maintenance-and-repair-jobs',\n",
       " 'Best Social Services Jobs': 'https://money.usnews.com/careers/best-jobs/rankings/best-social-services-jobs',\n",
       " 'Best Engineering Jobs': 'https://money.usnews.com/careers/best-jobs/rankings/best-engineering-jobs'}"
      ]
     },
     "execution_count": 11,
     "metadata": {},
     "output_type": "execute_result"
    }
   ],
   "source": [
    "## now get names of rankings and ranking web-sites \n",
    "\n",
    "names=[]\n",
    "urls=[]\n",
    "rankings={}\n",
    "for i in job_cata:\n",
    "    names.append(i.text)\n",
    "for i in job_cata[:5]:\n",
    "    urls.append(i.a[\"href\"])\n",
    "for i in rankings_soup2:\n",
    "    urls.append(i.a[\"href\"])\n",
    "\n",
    "for i in range(13):\n",
    "    rankings[names[i]]=urls[i]\n",
    "rankings\n",
    "\n",
    "## as i mentioned before, rankings are put in different positions in the website,\n",
    "## so the structure of soups are different.that's why I collect url seperatly here"
   ]
  },
  {
   "cell_type": "markdown",
   "id": "9c61fa2c",
   "metadata": {},
   "source": [
    "now everything's prepared for making dataframes"
   ]
  },
  {
   "cell_type": "markdown",
   "id": "f223eb38",
   "metadata": {},
   "source": [
    "Got web scraping data"
   ]
  },
  {
   "cell_type": "markdown",
   "id": "6ac5da37",
   "metadata": {},
   "source": [
    "----"
   ]
  },
  {
   "cell_type": "markdown",
   "id": "6018b5f0",
   "metadata": {},
   "source": [
    "# 2. turn data into dataframes\n",
    "• Turns the data from each of these sources into DataFrames. These data can be separate   \n",
    "DataFrames or one joint DataFrame if you would prefer. They do not need to be theoretically related.  \n",
    "\n",
    "• Provides a reflection and description of: \n",
    "1. The data you collected  \n",
    "2. The process for collecting those data   \n",
    "3. Ethical considerations about the data  \n",
    "4. Relevant decisions made when writing your code (e.g. variable names, how to count avariable, etc.)  \n",
    "\n",
    "• Saves your data as a csv file  "
   ]
  },
  {
   "cell_type": "markdown",
   "id": "f527993b",
   "metadata": {},
   "source": [
    "### Things to notice about dataframes:\n",
    "in terms of the data you collect and DataFrame(s) you create, they should contain the following:  \n",
    "\n",
    "• Each DataFrame should begin with at least four variables, i.e. before you create any new variables from the existing ones. Please make sure to collect enough data/types of data to ensure this.  \n",
    "• Conduct a word count that’s relevant to each observation in one of your DataFrames.  \n",
    "• Find the most popular word in a text variable in your DataFrame. Create a new variable that indicates the number of times that word is used for each observation in the data. Then create another variable that indicates what the most popular word for each observation is.   \n",
    "• For at least one of the DataFrames make sure that there are two continuous variables, two binary variables, and one non-binary categorical variable (i.e. a variable with more than 2 categories) that would be relevant for analysis of the data. "
   ]
  },
  {
   "cell_type": "markdown",
   "id": "1784a192",
   "metadata": {},
   "source": [
    "---"
   ]
  },
  {
   "cell_type": "markdown",
   "id": "787d22c1",
   "metadata": {},
   "source": [
    "### API dataframe"
   ]
  },
  {
   "cell_type": "code",
   "execution_count": 12,
   "id": "80a90162",
   "metadata": {
    "scrolled": true
   },
   "outputs": [
    {
     "name": "stdout",
     "output_type": "stream",
     "text": [
      "length of our dataframe is: 10\n",
      "abstract : Mainstream companies have concerns about the lineage of the data that powers A.I. applications. An industry group is addressing that challenge.\n",
      "\n",
      "web_url : https://www.nytimes.com/2023/11/30/business/ai-data-standards.html\n",
      "\n",
      "snippet : Mainstream companies have concerns about the lineage of the data that powers A.I. applications. An industry group is addressing that challenge.\n",
      "\n",
      "lead_paragraph : Data is the fuel of artificial intelligence. It is also a bottleneck for big businesses, because they are reluctant to fully embrace the technology without knowing more about the data used to build A.I. programs.\n",
      "\n",
      "print_section : B\n",
      "\n",
      "print_page : 3\n",
      "\n",
      "source : The New York Times\n",
      "\n",
      "multimedia : [{'rank': 0, 'subtype': 'xlarge', 'caption': None, 'credit': None, 'type': 'image', 'url': 'images/2023/12/01/multimedia/30AI-DATA-print-jlqc/30AI-DATA-jlqc-articleLarge.jpg', 'height': 900, 'width': 600, 'legacy': {'xlarge': 'images/2023/12/01/multimedia/30AI-DATA-print-jlqc/30AI-DATA-jlqc-articleLarge.jpg', 'xlargewidth': 600, 'xlargeheight': 900}, 'subType': 'xlarge', 'crop_name': 'articleLarge'}, {'rank': 0, 'subtype': 'popup', 'caption': None, 'credit': None, 'type': 'image', 'url': 'images/2023/12/01/multimedia/30AI-DATA-print-jlqc/30AI-DATA-jlqc-popup.jpg', 'height': 500, 'width': 334, 'legacy': {}, 'subType': 'popup', 'crop_name': 'popup'}, {'rank': 0, 'subtype': 'blog480', 'caption': None, 'credit': None, 'type': 'image', 'url': 'images/2023/12/01/multimedia/30AI-DATA-print-jlqc/30AI-DATA-jlqc-blog480.jpg', 'height': 720, 'width': 480, 'legacy': {}, 'subType': 'blog480', 'crop_name': 'blog480'}, {'rank': 0, 'subtype': 'blog533', 'caption': None, 'credit': None, 'type': 'image', 'url': 'images/2023/12/01/multimedia/30AI-DATA-print-jlqc/30AI-DATA-jlqc-blog533.jpg', 'height': 800, 'width': 533, 'legacy': {}, 'subType': 'blog533', 'crop_name': 'blog533'}, {'rank': 0, 'subtype': 'blog427', 'caption': None, 'credit': None, 'type': 'image', 'url': 'images/2023/12/01/multimedia/30AI-DATA-print-jlqc/30AI-DATA-jlqc-blog427.jpg', 'height': 641, 'width': 427, 'legacy': {}, 'subType': 'blog427', 'crop_name': 'blog427'}, {'rank': 0, 'subtype': 'tmagSF', 'caption': None, 'credit': None, 'type': 'image', 'url': 'images/2023/12/01/multimedia/30AI-DATA-print-jlqc/30AI-DATA-jlqc-tmagSF.jpg', 'height': 543, 'width': 362, 'legacy': {}, 'subType': 'tmagSF', 'crop_name': 'tmagSF'}, {'rank': 0, 'subtype': 'tmagArticle', 'caption': None, 'credit': None, 'type': 'image', 'url': 'images/2023/12/01/multimedia/30AI-DATA-print-jlqc/30AI-DATA-jlqc-tmagArticle.jpg', 'height': 888, 'width': 592, 'legacy': {}, 'subType': 'tmagArticle', 'crop_name': 'tmagArticle'}, {'rank': 0, 'subtype': 'slide', 'caption': None, 'credit': None, 'type': 'image', 'url': 'images/2023/12/01/multimedia/30AI-DATA-print-jlqc/30AI-DATA-jlqc-slide.jpg', 'height': 500, 'width': 334, 'legacy': {}, 'subType': 'slide', 'crop_name': 'slide'}, {'rank': 0, 'subtype': 'jumbo', 'caption': None, 'credit': None, 'type': 'image', 'url': 'images/2023/12/01/multimedia/30AI-DATA-print-jlqc/30AI-DATA-jlqc-jumbo.jpg', 'height': 1024, 'width': 683, 'legacy': {}, 'subType': 'jumbo', 'crop_name': 'jumbo'}, {'rank': 0, 'subtype': 'superJumbo', 'caption': None, 'credit': None, 'type': 'image', 'url': 'images/2023/12/01/multimedia/30AI-DATA-print-jlqc/30AI-DATA-jlqc-superJumbo.jpg', 'height': 2048, 'width': 1365, 'legacy': {}, 'subType': 'superJumbo', 'crop_name': 'superJumbo'}, {'rank': 0, 'subtype': 'blog225', 'caption': None, 'credit': None, 'type': 'image', 'url': 'images/2023/12/01/multimedia/30AI-DATA-print-jlqc/30AI-DATA-jlqc-blog225.jpg', 'height': 338, 'width': 225, 'legacy': {}, 'subType': 'blog225', 'crop_name': 'blog225'}, {'rank': 0, 'subtype': 'master1050', 'caption': None, 'credit': None, 'type': 'image', 'url': 'images/2023/12/01/multimedia/30AI-DATA-print-jlqc/30AI-DATA-jlqc-master1050.jpg', 'height': 1575, 'width': 1050, 'legacy': {}, 'subType': 'master1050', 'crop_name': 'master1050'}, {'rank': 0, 'subtype': 'master675', 'caption': None, 'credit': None, 'type': 'image', 'url': 'images/2023/12/01/multimedia/30AI-DATA-print-jlqc/30AI-DATA-jlqc-master675.jpg', 'height': 1013, 'width': 675, 'legacy': {}, 'subType': 'master675', 'crop_name': 'master675'}, {'rank': 0, 'subtype': 'master495', 'caption': None, 'credit': None, 'type': 'image', 'url': 'images/2023/12/01/multimedia/30AI-DATA-print-jlqc/30AI-DATA-jlqc-master495.jpg', 'height': 743, 'width': 495, 'legacy': {}, 'subType': 'master495', 'crop_name': 'master495'}, {'rank': 0, 'subtype': 'master180', 'caption': None, 'credit': None, 'type': 'image', 'url': 'images/2023/12/01/multimedia/30AI-DATA-print-jlqc/30AI-DATA-jlqc-master180.jpg', 'height': 270, 'width': 180, 'legacy': {}, 'subType': 'master180', 'crop_name': 'master180'}, {'rank': 0, 'subtype': 'master315', 'caption': None, 'credit': None, 'type': 'image', 'url': 'images/2023/12/01/multimedia/30AI-DATA-print-jlqc/30AI-DATA-jlqc-master315.jpg', 'height': 473, 'width': 315, 'legacy': {}, 'subType': 'master315', 'crop_name': 'master315'}, {'rank': 0, 'subtype': 'master768', 'caption': None, 'credit': None, 'type': 'image', 'url': 'images/2023/12/01/multimedia/30AI-DATA-print-jlqc/30AI-DATA-jlqc-master768.jpg', 'height': 1152, 'width': 768, 'legacy': {}, 'subType': 'master768', 'crop_name': 'master768'}, {'rank': 0, 'subtype': 'thumbnail', 'caption': None, 'credit': None, 'type': 'image', 'url': 'images/2023/12/01/multimedia/30AI-DATA-print-jlqc/30AI-DATA-jlqc-thumbStandard.jpg', 'height': 75, 'width': 75, 'legacy': {'thumbnail': 'images/2023/12/01/multimedia/30AI-DATA-print-jlqc/30AI-DATA-jlqc-thumbStandard.jpg', 'thumbnailwidth': 75, 'thumbnailheight': 75}, 'subType': 'thumbnail', 'crop_name': 'thumbStandard'}, {'rank': 0, 'subtype': 'blogSmallThumb', 'caption': None, 'credit': None, 'type': 'image', 'url': 'images/2023/12/01/multimedia/30AI-DATA-print-jlqc/30AI-DATA-jlqc-blogSmallThumb.jpg', 'height': 50, 'width': 50, 'legacy': {}, 'subType': 'blogSmallThumb', 'crop_name': 'blogSmallThumb'}, {'rank': 0, 'subtype': 'thumbLarge', 'caption': None, 'credit': None, 'type': 'image', 'url': 'images/2023/12/01/multimedia/30AI-DATA-print-jlqc/30AI-DATA-jlqc-thumbLarge.jpg', 'height': 150, 'width': 150, 'legacy': {}, 'subType': 'thumbLarge', 'crop_name': 'thumbLarge'}, {'rank': 0, 'subtype': 'smallSquare168', 'caption': None, 'credit': None, 'type': 'image', 'url': 'images/2023/12/01/multimedia/30AI-DATA-print-jlqc/30AI-DATA-jlqc-smallSquare168.jpg', 'height': 168, 'width': 168, 'legacy': {}, 'subType': 'smallSquare168', 'crop_name': 'smallSquare168'}, {'rank': 0, 'subtype': 'smallSquare252', 'caption': None, 'credit': None, 'type': 'image', 'url': 'images/2023/12/01/multimedia/30AI-DATA-print-jlqc/30AI-DATA-jlqc-smallSquare252.jpg', 'height': 252, 'width': 252, 'legacy': {}, 'subType': 'smallSquare252', 'crop_name': 'smallSquare252'}, {'rank': 0, 'subtype': 'square320', 'caption': None, 'credit': None, 'type': 'image', 'url': 'images/2023/12/01/multimedia/30AI-DATA-print-jlqc/30AI-DATA-jlqc-square320.jpg', 'height': 320, 'width': 320, 'legacy': {}, 'subType': 'square320', 'crop_name': 'square320'}, {'rank': 0, 'subtype': 'moth', 'caption': None, 'credit': None, 'type': 'image', 'url': 'images/2023/12/01/multimedia/30AI-DATA-print-jlqc/30AI-DATA-jlqc-moth.jpg', 'height': 151, 'width': 151, 'legacy': {}, 'subType': 'moth', 'crop_name': 'moth'}, {'rank': 0, 'subtype': 'filmstrip', 'caption': None, 'credit': None, 'type': 'image', 'url': 'images/2023/12/01/multimedia/30AI-DATA-print-jlqc/30AI-DATA-jlqc-filmstrip.jpg', 'height': 190, 'width': 190, 'legacy': {}, 'subType': 'filmstrip', 'crop_name': 'filmstrip'}, {'rank': 0, 'subtype': 'square640', 'caption': None, 'credit': None, 'type': 'image', 'url': 'images/2023/12/01/multimedia/30AI-DATA-print-jlqc/30AI-DATA-jlqc-square640.jpg', 'height': 640, 'width': 640, 'legacy': {}, 'subType': 'square640', 'crop_name': 'square640'}, {'rank': 0, 'subtype': 'mediumSquare149', 'caption': None, 'credit': None, 'type': 'image', 'url': 'images/2023/12/01/multimedia/30AI-DATA-print-jlqc/30AI-DATA-jlqc-mediumSquare149.jpg', 'height': 149, 'width': 149, 'legacy': {}, 'subType': 'mediumSquare149', 'crop_name': 'mediumSquare149'}, {'rank': 0, 'subtype': 'mediumSquareAt3X', 'caption': None, 'credit': None, 'type': 'image', 'url': 'images/2023/12/01/multimedia/30AI-DATA-print-jlqc/30AI-DATA-jlqc-mediumSquareAt3X.jpg', 'height': 1799, 'width': 1800, 'legacy': {}, 'subType': 'mediumSquareAt3X', 'crop_name': 'mediumSquareAt3X'}, {'rank': 0, 'subtype': 'sfSpan', 'caption': None, 'credit': None, 'type': 'image', 'url': 'images/2023/12/01/multimedia/30AI-DATA-print-jlqc/30AI-DATA-jlqc-sfSpan.jpg', 'height': 263, 'width': 395, 'legacy': {}, 'subType': 'sfSpan', 'crop_name': 'sfSpan'}, {'rank': 0, 'subtype': 'largeHorizontal375', 'caption': None, 'credit': None, 'type': 'image', 'url': 'images/2023/12/01/multimedia/30AI-DATA-print-jlqc/30AI-DATA-jlqc-largeHorizontal375.jpg', 'height': 250, 'width': 375, 'legacy': {}, 'subType': 'largeHorizontal375', 'crop_name': 'largeHorizontal375'}, {'rank': 0, 'subtype': 'largeHorizontalJumbo', 'caption': None, 'credit': None, 'type': 'image', 'url': 'images/2023/12/01/multimedia/30AI-DATA-print-jlqc/30AI-DATA-jlqc-largeHorizontalJumbo.jpg', 'height': 682, 'width': 1024, 'legacy': {}, 'subType': 'largeHorizontalJumbo', 'crop_name': 'largeHorizontalJumbo'}, {'rank': 0, 'subtype': 'horizontalMediumAt2X', 'caption': None, 'credit': None, 'type': 'image', 'url': 'images/2023/12/01/multimedia/30AI-DATA-print-jlqc/30AI-DATA-jlqc-horizontalMediumAt2X.jpg', 'height': 1776, 'width': 2666, 'legacy': {}, 'subType': 'horizontalMediumAt2X', 'crop_name': 'horizontalMediumAt2X'}, {'rank': 0, 'subtype': 'hpLarge', 'caption': None, 'credit': None, 'type': 'image', 'url': 'images/2023/12/01/multimedia/30AI-DATA-print-jlqc/30AI-DATA-jlqc-hpLarge.jpg', 'height': 287, 'width': 511, 'legacy': {}, 'subType': 'hpLarge', 'crop_name': 'hpLarge'}, {'rank': 0, 'subtype': 'largeWidescreen573', 'caption': None, 'credit': None, 'type': 'image', 'url': 'images/2023/12/01/multimedia/30AI-DATA-print-jlqc/30AI-DATA-jlqc-largeWidescreen573.jpg', 'height': 322, 'width': 573, 'legacy': {}, 'subType': 'largeWidescreen573', 'crop_name': 'largeWidescreen573'}, {'rank': 0, 'subtype': 'largeWidescreen1050', 'caption': None, 'credit': None, 'type': 'image', 'url': 'images/2023/12/01/multimedia/30AI-DATA-print-jlqc/30AI-DATA-jlqc-largeWidescreen1050.jpg', 'height': 590, 'width': 1050, 'legacy': {}, 'subType': 'largeWidescreen1050', 'crop_name': 'largeWidescreen1050'}, {'rank': 0, 'subtype': 'wide', 'caption': None, 'credit': None, 'type': 'image', 'url': 'images/2023/12/01/multimedia/30AI-DATA-print-jlqc/30AI-DATA-jlqc-thumbWide.jpg', 'height': 126, 'width': 190, 'legacy': {'widewidth': 190, 'wideheight': 126, 'wide': 'images/2023/12/01/multimedia/30AI-DATA-print-jlqc/30AI-DATA-jlqc-thumbWide.jpg'}, 'subType': 'wide', 'crop_name': 'thumbWide'}, {'rank': 0, 'subtype': 'videoThumb', 'caption': None, 'credit': None, 'type': 'image', 'url': 'images/2023/12/01/multimedia/30AI-DATA-print-jlqc/30AI-DATA-jlqc-videoThumb.jpg', 'height': 50, 'width': 75, 'legacy': {}, 'subType': 'videoThumb', 'crop_name': 'videoThumb'}, {'rank': 0, 'subtype': 'videoLarge', 'caption': None, 'credit': None, 'type': 'image', 'url': 'images/2023/12/01/multimedia/30AI-DATA-print-jlqc/30AI-DATA-jlqc-videoLarge.jpg', 'height': 507, 'width': 768, 'legacy': {}, 'subType': 'videoLarge', 'crop_name': 'videoLarge'}, {'rank': 0, 'subtype': 'mediumThreeByTwo210', 'caption': None, 'credit': None, 'type': 'image', 'url': 'images/2023/12/01/multimedia/30AI-DATA-print-jlqc/30AI-DATA-jlqc-mediumThreeByTwo210.jpg', 'height': 140, 'width': 210, 'legacy': {}, 'subType': 'mediumThreeByTwo210', 'crop_name': 'mediumThreeByTwo210'}, {'rank': 0, 'subtype': 'mediumThreeByTwo225', 'caption': None, 'credit': None, 'type': 'image', 'url': 'images/2023/12/01/multimedia/30AI-DATA-print-jlqc/30AI-DATA-jlqc-mediumThreeByTwo225.jpg', 'height': 150, 'width': 225, 'legacy': {}, 'subType': 'mediumThreeByTwo225', 'crop_name': 'mediumThreeByTwo225'}, {'rank': 0, 'subtype': 'mediumThreeByTwo440', 'caption': None, 'credit': None, 'type': 'image', 'url': 'images/2023/12/01/multimedia/30AI-DATA-print-jlqc/30AI-DATA-jlqc-mediumThreeByTwo440.jpg', 'height': 293, 'width': 440, 'legacy': {}, 'subType': 'mediumThreeByTwo440', 'crop_name': 'mediumThreeByTwo440'}, {'rank': 0, 'subtype': 'mediumThreeByTwo252', 'caption': None, 'credit': None, 'type': 'image', 'url': 'images/2023/12/01/multimedia/30AI-DATA-print-jlqc/30AI-DATA-jlqc-mediumThreeByTwo252.jpg', 'height': 168, 'width': 252, 'legacy': {}, 'subType': 'mediumThreeByTwo252', 'crop_name': 'mediumThreeByTwo252'}, {'rank': 0, 'subtype': 'mediumThreeByTwo378', 'caption': None, 'credit': None, 'type': 'image', 'url': 'images/2023/12/01/multimedia/30AI-DATA-print-jlqc/30AI-DATA-jlqc-mediumThreeByTwo378.jpg', 'height': 252, 'width': 378, 'legacy': {}, 'subType': 'mediumThreeByTwo378', 'crop_name': 'mediumThreeByTwo378'}, {'rank': 0, 'subtype': 'threeByTwoLargeAt2X', 'caption': None, 'credit': None, 'type': 'image', 'url': 'images/2023/12/01/multimedia/30AI-DATA-print-jlqc/30AI-DATA-jlqc-threeByTwoLargeAt2X.jpg', 'height': 1764, 'width': 2647, 'legacy': {}, 'subType': 'threeByTwoLargeAt2X', 'crop_name': 'threeByTwoLargeAt2X'}, {'rank': 0, 'subtype': 'threeByTwoMediumAt2X', 'caption': None, 'credit': None, 'type': 'image', 'url': 'images/2023/12/01/multimedia/30AI-DATA-print-jlqc/30AI-DATA-jlqc-threeByTwoMediumAt2X.jpg', 'height': 1000, 'width': 1500, 'legacy': {}, 'subType': 'threeByTwoMediumAt2X', 'crop_name': 'threeByTwoMediumAt2X'}, {'rank': 0, 'subtype': 'threeByTwoSmallAt2X', 'caption': None, 'credit': None, 'type': 'image', 'url': 'images/2023/12/01/multimedia/30AI-DATA-print-jlqc/30AI-DATA-jlqc-threeByTwoSmallAt2X.jpg', 'height': 400, 'width': 600, 'legacy': {}, 'subType': 'threeByTwoSmallAt2X', 'crop_name': 'threeByTwoSmallAt2X'}, {'rank': 0, 'subtype': 'articleInline', 'caption': None, 'credit': None, 'type': 'image', 'url': 'images/2023/12/01/multimedia/30AI-DATA-print-jlqc/30AI-DATA-jlqc-articleInline.jpg', 'height': 285, 'width': 190, 'legacy': {}, 'subType': 'articleInline', 'crop_name': 'articleInline'}, {'rank': 0, 'subtype': 'hpSmall', 'caption': None, 'credit': None, 'type': 'image', 'url': 'images/2023/12/01/multimedia/30AI-DATA-print-jlqc/30AI-DATA-jlqc-hpSmall.jpg', 'height': 245, 'width': 163, 'legacy': {}, 'subType': 'hpSmall', 'crop_name': 'hpSmall'}, {'rank': 0, 'subtype': 'blogSmallInline', 'caption': None, 'credit': None, 'type': 'image', 'url': 'images/2023/12/01/multimedia/30AI-DATA-print-jlqc/30AI-DATA-jlqc-blogSmallInline.jpg', 'height': 227, 'width': 151, 'legacy': {}, 'subType': 'blogSmallInline', 'crop_name': 'blogSmallInline'}, {'rank': 0, 'subtype': 'mediumFlexible177', 'caption': None, 'credit': None, 'type': 'image', 'url': 'images/2023/12/01/multimedia/30AI-DATA-print-jlqc/30AI-DATA-jlqc-mediumFlexible177.jpg', 'height': 266, 'width': 177, 'legacy': {}, 'subType': 'mediumFlexible177', 'crop_name': 'mediumFlexible177'}, {'rank': 0, 'subtype': 'videoSmall', 'caption': None, 'credit': None, 'type': 'image', 'url': 'images/2023/12/01/multimedia/30AI-DATA-print-jlqc/30AI-DATA-jlqc-videoSmall.jpg', 'height': 281, 'width': 500, 'legacy': {}, 'subType': 'videoSmall', 'crop_name': 'videoSmall'}, {'rank': 0, 'subtype': 'videoHpMedium', 'caption': None, 'credit': None, 'type': 'image', 'url': 'images/2023/12/01/multimedia/30AI-DATA-print-jlqc/30AI-DATA-jlqc-videoHpMedium.jpg', 'height': 211, 'width': 375, 'legacy': {}, 'subType': 'videoHpMedium', 'crop_name': 'videoHpMedium'}, {'rank': 0, 'subtype': 'videoSixteenByNine600', 'caption': None, 'credit': None, 'type': 'image', 'url': 'images/2023/12/01/multimedia/30AI-DATA-print-jlqc/30AI-DATA-jlqc-videoSixteenByNine600.jpg', 'height': 338, 'width': 600, 'legacy': {}, 'subType': 'videoSixteenByNine600', 'crop_name': 'videoSixteenByNine600'}, {'rank': 0, 'subtype': 'videoSixteenByNine540', 'caption': None, 'credit': None, 'type': 'image', 'url': 'images/2023/12/01/multimedia/30AI-DATA-print-jlqc/30AI-DATA-jlqc-videoSixteenByNine540.jpg', 'height': 304, 'width': 540, 'legacy': {}, 'subType': 'videoSixteenByNine540', 'crop_name': 'videoSixteenByNine540'}, {'rank': 0, 'subtype': 'videoSixteenByNine495', 'caption': None, 'credit': None, 'type': 'image', 'url': 'images/2023/12/01/multimedia/30AI-DATA-print-jlqc/30AI-DATA-jlqc-videoSixteenByNine495.jpg', 'height': 278, 'width': 495, 'legacy': {}, 'subType': 'videoSixteenByNine495', 'crop_name': 'videoSixteenByNine495'}, {'rank': 0, 'subtype': 'videoSixteenByNine390', 'caption': None, 'credit': None, 'type': 'image', 'url': 'images/2023/12/01/multimedia/30AI-DATA-print-jlqc/30AI-DATA-jlqc-videoSixteenByNine390.jpg', 'height': 219, 'width': 390, 'legacy': {}, 'subType': 'videoSixteenByNine390', 'crop_name': 'videoSixteenByNine390'}, {'rank': 0, 'subtype': 'videoSixteenByNine1050', 'caption': None, 'credit': None, 'type': 'image', 'url': 'images/2023/12/01/multimedia/30AI-DATA-print-jlqc/30AI-DATA-jlqc-videoSixteenByNine1050.jpg', 'height': 591, 'width': 1050, 'legacy': {}, 'subType': 'videoSixteenByNine1050', 'crop_name': 'videoSixteenByNine1050'}, {'rank': 0, 'subtype': 'videoSixteenByNine480', 'caption': None, 'credit': None, 'type': 'image', 'url': 'images/2023/12/01/multimedia/30AI-DATA-print-jlqc/30AI-DATA-jlqc-videoSixteenByNine480.jpg', 'height': 270, 'width': 480, 'legacy': {}, 'subType': 'videoSixteenByNine480', 'crop_name': 'videoSixteenByNine480'}, {'rank': 0, 'subtype': 'videoSixteenByNine310', 'caption': None, 'credit': None, 'type': 'image', 'url': 'images/2023/12/01/multimedia/30AI-DATA-print-jlqc/30AI-DATA-jlqc-videoSixteenByNine310.jpg', 'height': 174, 'width': 310, 'legacy': {}, 'subType': 'videoSixteenByNine310', 'crop_name': 'videoSixteenByNine310'}, {'rank': 0, 'subtype': 'videoSixteenByNine225', 'caption': None, 'credit': None, 'type': 'image', 'url': 'images/2023/12/01/multimedia/30AI-DATA-print-jlqc/30AI-DATA-jlqc-videoSixteenByNine225.jpg', 'height': 126, 'width': 225, 'legacy': {}, 'subType': 'videoSixteenByNine225', 'crop_name': 'videoSixteenByNine225'}, {'rank': 0, 'subtype': 'videoSixteenByNine96', 'caption': None, 'credit': None, 'type': 'image', 'url': 'images/2023/12/01/multimedia/30AI-DATA-print-jlqc/30AI-DATA-jlqc-videoSixteenByNine96.jpg', 'height': 54, 'width': 96, 'legacy': {}, 'subType': 'videoSixteenByNine96', 'crop_name': 'videoSixteenByNine96'}, {'rank': 0, 'subtype': 'videoSixteenByNine768', 'caption': None, 'credit': None, 'type': 'image', 'url': 'images/2023/12/01/multimedia/30AI-DATA-print-jlqc/30AI-DATA-jlqc-videoSixteenByNine768.jpg', 'height': 432, 'width': 768, 'legacy': {}, 'subType': 'videoSixteenByNine768', 'crop_name': 'videoSixteenByNine768'}, {'rank': 0, 'subtype': 'videoSixteenByNine150', 'caption': None, 'credit': None, 'type': 'image', 'url': 'images/2023/12/01/multimedia/30AI-DATA-print-jlqc/30AI-DATA-jlqc-videoSixteenByNine150.jpg', 'height': 84, 'width': 150, 'legacy': {}, 'subType': 'videoSixteenByNine150', 'crop_name': 'videoSixteenByNine150'}, {'rank': 0, 'subtype': 'videoSixteenByNineJumbo1600', 'caption': None, 'credit': None, 'type': 'image', 'url': 'images/2023/12/01/multimedia/30AI-DATA-print-jlqc/30AI-DATA-jlqc-videoSixteenByNineJumbo1600.jpg', 'height': 900, 'width': 1600, 'legacy': {}, 'subType': 'videoSixteenByNineJumbo1600', 'crop_name': 'videoSixteenByNineJumbo1600'}, {'rank': 0, 'subtype': 'miniMoth', 'caption': None, 'credit': None, 'type': 'image', 'url': 'images/2023/12/01/multimedia/30AI-DATA-print-jlqc/30AI-DATA-jlqc-miniMoth.jpg', 'height': 70, 'width': 151, 'legacy': {}, 'subType': 'miniMoth', 'crop_name': 'miniMoth'}, {'rank': 0, 'subtype': 'windowsTile336H', 'caption': None, 'credit': None, 'type': 'image', 'url': 'images/2023/12/01/multimedia/30AI-DATA-print-jlqc/30AI-DATA-jlqc-windowsTile336H.jpg', 'height': 336, 'width': 694, 'legacy': {}, 'subType': 'windowsTile336H', 'crop_name': 'windowsTile336H'}, {'rank': 0, 'subtype': 'videoFifteenBySeven1305', 'caption': None, 'credit': None, 'type': 'image', 'url': 'images/2023/12/01/multimedia/30AI-DATA-print-jlqc/30AI-DATA-jlqc-videoFifteenBySeven1305.jpg', 'height': 609, 'width': 1305, 'legacy': {}, 'subType': 'videoFifteenBySeven1305', 'crop_name': 'videoFifteenBySeven1305'}, {'rank': 0, 'subtype': 'videoFifteenBySeven2610', 'caption': None, 'credit': None, 'type': 'image', 'url': 'images/2023/12/01/multimedia/30AI-DATA-print-jlqc/30AI-DATA-jlqc-videoFifteenBySeven2610.jpg', 'height': 1218, 'width': 2610, 'legacy': {}, 'subType': 'videoFifteenBySeven2610', 'crop_name': 'videoFifteenBySeven2610'}, {'rank': 0, 'subtype': 'facebookJumbo', 'caption': None, 'credit': None, 'type': 'image', 'url': 'images/2023/12/01/multimedia/30AI-DATA-print-jlqc/30AI-DATA-jlqc-facebookJumbo.jpg', 'height': 549, 'width': 1050, 'legacy': {}, 'subType': 'facebookJumbo', 'crop_name': 'facebookJumbo'}, {'rank': 0, 'subtype': 'watch308', 'caption': None, 'credit': None, 'type': 'image', 'url': 'images/2023/12/01/multimedia/30AI-DATA-print-jlqc/30AI-DATA-jlqc-watch308.jpg', 'height': 348, 'width': 312, 'legacy': {}, 'subType': 'watch308', 'crop_name': 'watch308'}, {'rank': 0, 'subtype': 'watch268', 'caption': None, 'credit': None, 'type': 'image', 'url': 'images/2023/12/01/multimedia/30AI-DATA-print-jlqc/30AI-DATA-jlqc-watch268.jpg', 'height': 303, 'width': 272, 'legacy': {}, 'subType': 'watch268', 'crop_name': 'watch268'}, {'rank': 0, 'subtype': 'verticalTwoByThree735', 'caption': None, 'credit': None, 'type': 'image', 'url': 'images/2023/12/01/multimedia/30AI-DATA-print-jlqc/30AI-DATA-jlqc-verticalTwoByThree735.jpg', 'height': 1103, 'width': 735, 'legacy': {}, 'subType': 'verticalTwoByThree735', 'crop_name': 'verticalTwoByThree735'}, {'rank': 0, 'subtype': 'mobileMasterAt3x', 'caption': None, 'credit': None, 'type': 'image', 'url': 'images/2023/12/01/multimedia/30AI-DATA-print-jlqc/30AI-DATA-jlqc-mobileMasterAt3x.jpg', 'height': 2701, 'width': 1800, 'legacy': {}, 'subType': 'mobileMasterAt3x', 'crop_name': 'mobileMasterAt3x'}]\n",
      "\n",
      "headline : {'main': 'Big Companies Find a Way to Identify A.I. Data They Can Trust', 'kicker': None, 'content_kicker': None, 'print_headline': 'Companies Find Way to Spot Trustworthy A.I. Data', 'name': None, 'seo': None, 'sub': None}\n",
      "\n",
      "keywords : [{'name': 'subject', 'value': 'Corporations', 'rank': 1, 'major': 'N'}, {'name': 'subject', 'value': 'Artificial Intelligence', 'rank': 2, 'major': 'N'}, {'name': 'subject', 'value': 'Computers and the Internet', 'rank': 3, 'major': 'N'}, {'name': 'subject', 'value': 'Enterprise Computing', 'rank': 4, 'major': 'N'}, {'name': 'organizations', 'value': 'OpenAI Labs', 'rank': 5, 'major': 'N'}]\n",
      "\n",
      "pub_date : 2023-11-30T11:00:14+0000\n",
      "\n",
      "document_type : article\n",
      "\n",
      "news_desk : Business\n",
      "\n",
      "section_name : Business Day\n",
      "\n",
      "byline : {'original': 'By Steve Lohr', 'person': [{'firstname': 'Steve', 'middlename': None, 'lastname': 'Lohr', 'qualifier': None, 'title': None, 'role': 'reported', 'organization': '', 'rank': 1}], 'organization': None}\n",
      "\n",
      "type_of_material : News\n",
      "\n",
      "_id : nyt://article/1b29e531-57e1-54be-9810-0c81efa984a9\n",
      "\n",
      "word_count : 879\n",
      "\n",
      "uri : nyt://article/1b29e531-57e1-54be-9810-0c81efa984a9\n",
      "\n"
     ]
    }
   ],
   "source": [
    "## check the content of data we collected\n",
    "## the json file looks like a mess, so we print it out in a more readable way:\n",
    "print(\"length of our dataframe is:\",len(response[\"response\"][\"docs\"]))\n",
    "\n",
    "for i in response[\"response\"][\"docs\"][0].keys():\n",
    "    print(i,\":\",response[\"response\"][\"docs\"][0][i])\n",
    "    print(\"\")\n",
    "\n",
    "## save information about 10 articles into a variable (for later use)\n",
    "arti=response[\"response\"][\"docs\"] # arti = articles"
   ]
  },
  {
   "cell_type": "code",
   "execution_count": 13,
   "id": "b2e8ecf5",
   "metadata": {},
   "outputs": [
    {
     "data": {
      "text/html": [
       "<div>\n",
       "<style scoped>\n",
       "    .dataframe tbody tr th:only-of-type {\n",
       "        vertical-align: middle;\n",
       "    }\n",
       "\n",
       "    .dataframe tbody tr th {\n",
       "        vertical-align: top;\n",
       "    }\n",
       "\n",
       "    .dataframe thead th {\n",
       "        text-align: right;\n",
       "    }\n",
       "</style>\n",
       "<table border=\"1\" class=\"dataframe\">\n",
       "  <thead>\n",
       "    <tr style=\"text-align: right;\">\n",
       "      <th></th>\n",
       "      <th>abstract</th>\n",
       "      <th>url</th>\n",
       "      <th>lead_paragragh</th>\n",
       "      <th>key_words</th>\n",
       "      <th>pub_data</th>\n",
       "      <th>section_name</th>\n",
       "      <th>type_of_material</th>\n",
       "      <th>word_count</th>\n",
       "    </tr>\n",
       "  </thead>\n",
       "  <tbody>\n",
       "    <tr>\n",
       "      <th>0</th>\n",
       "      <td>Mainstream companies have concerns about the l...</td>\n",
       "      <td>https://www.nytimes.com/2023/11/30/business/ai...</td>\n",
       "      <td>Data is the fuel of artificial intelligence. I...</td>\n",
       "      <td>[{'name': 'subject', 'value': 'Corporations', ...</td>\n",
       "      <td>2023-11-30T11:00:14+0000</td>\n",
       "      <td>Business Day</td>\n",
       "      <td>News</td>\n",
       "      <td>879</td>\n",
       "    </tr>\n",
       "    <tr>\n",
       "      <th>1</th>\n",
       "      <td>Three years ago we were caught flat-footed, an...</td>\n",
       "      <td>https://www.nytimes.com/2023/04/30/opinion/pan...</td>\n",
       "      <td>This is part of a series on preparing for futu...</td>\n",
       "      <td>[{'name': 'subject', 'value': 'Coronavirus (20...</td>\n",
       "      <td>2023-04-30T10:00:05+0000</td>\n",
       "      <td>Opinion</td>\n",
       "      <td>Op-Ed</td>\n",
       "      <td>1258</td>\n",
       "    </tr>\n",
       "  </tbody>\n",
       "</table>\n",
       "</div>"
      ],
      "text/plain": [
       "                                            abstract  \\\n",
       "0  Mainstream companies have concerns about the l...   \n",
       "1  Three years ago we were caught flat-footed, an...   \n",
       "\n",
       "                                                 url  \\\n",
       "0  https://www.nytimes.com/2023/11/30/business/ai...   \n",
       "1  https://www.nytimes.com/2023/04/30/opinion/pan...   \n",
       "\n",
       "                                      lead_paragragh  \\\n",
       "0  Data is the fuel of artificial intelligence. I...   \n",
       "1  This is part of a series on preparing for futu...   \n",
       "\n",
       "                                           key_words  \\\n",
       "0  [{'name': 'subject', 'value': 'Corporations', ...   \n",
       "1  [{'name': 'subject', 'value': 'Coronavirus (20...   \n",
       "\n",
       "                   pub_data  section_name type_of_material  word_count  \n",
       "0  2023-11-30T11:00:14+0000  Business Day             News         879  \n",
       "1  2023-04-30T10:00:05+0000       Opinion            Op-Ed        1258  "
      ]
     },
     "execution_count": 13,
     "metadata": {},
     "output_type": "execute_result"
    }
   ],
   "source": [
    "## now i decide to include these variables in my dataframe:\n",
    "## abstract,url,lead_paragragh ,key words,pub_data, section_name,type_of_material, word_count\n",
    "\n",
    "## loop through all the 10 articles and put each kind of data into its own list:\n",
    "abstract=[]\n",
    "url=[]\n",
    "leadp=[]\n",
    "keyw=[]\n",
    "pubday=[]\n",
    "section=[]\n",
    "type_ofm=[]\n",
    "wordc=[]\n",
    "\n",
    "for i in arti:\n",
    "    abstract.append(i[\"abstract\"])\n",
    "    url.append(i[\"web_url\"])\n",
    "    leadp.append(i[\"lead_paragraph\"])\n",
    "    keyw.append(i[\"keywords\"])\n",
    "    pubday.append(i[\"pub_date\"])\n",
    "    section.append(i[\"section_name\"])\n",
    "    type_ofm.append(i[\"type_of_material\"])\n",
    "    wordc.append(i[\"word_count\"])\n",
    "    \n",
    "newsdf=pd.DataFrame(abstract)\n",
    "newsdf.columns = [\"abstract\"]\n",
    "newsdf[\"url\"]=url\n",
    "newsdf[\"lead_paragragh\"]=leadp\n",
    "newsdf[\"key_words\"]=keyw\n",
    "newsdf[\"pub_data\"]=pubday\n",
    "newsdf[\"section_name\"]=section\n",
    "newsdf[\"type_of_material\"]=type_ofm\n",
    "newsdf[\"word_count\"]=wordc\n",
    "newsdf.head(2)"
   ]
  },
  {
   "cell_type": "markdown",
   "id": "a329d2d1",
   "metadata": {},
   "source": [
    "our dataframe looks like above. some columns still look a little messy, so I'll start some cleaning."
   ]
  },
  {
   "cell_type": "code",
   "execution_count": 14,
   "id": "6ff2d780",
   "metadata": {},
   "outputs": [
    {
     "name": "stdout",
     "output_type": "stream",
     "text": [
      "['Corporations', 'Artificial Intelligence', 'Computers and the Internet', 'Enterprise Computing', 'OpenAI Labs']\n",
      "['Coronavirus (2019-nCoV)', 'Deaths (Fatalities)', 'Epidemics', 'Coronavirus Risks and Safety Concerns', 'Security and Warning Systems', 'Disease Rates', 'Centers for Disease Control and Prevention', 'Biden, Joseph R Jr', 'United States', 'States (US)']\n",
      "['Artificial Intelligence', 'Computers and the Internet', 'Creativity', 'Doomsday']\n",
      "['Abortion', 'United States', \"Dobbs v Jackson Women's Health Organization (Supreme Court Decision)\", 'Law and Legislation', 'States (US)']\n",
      "['Amazon.com Inc', 'Artificial Intelligence', 'Speakers (Audio)', 'Voice and Speech', 'Ireland', 'Dublin (Ireland)', 'English Language', 'Computers and the Internet']\n",
      "['Coronavirus (2019-nCoV)', 'Sewers and Sewage', 'Disease Rates', 'Urban Areas', 'States (US)', 'Centers for Disease Control and Prevention', 'United States', 'your-feed-health', 'your-feed-science']\n",
      "['Global Warming', 'Rain', 'Mountains', 'Floods', 'Landslides and Mudslides', 'Snow and Snowstorms', 'Research', 'Nature (Journal)']\n",
      "['Social Media', 'Layoffs and Job Reductions', 'Twitter', 'Musk, Elon', 'Labor and Jobs']\n",
      "['Coronavirus (2019-nCoV)', 'Coronavirus Origins Investigation', 'China', 'Wuhan (China)', 'Wuhan Institute of Virology (China)', 'Espionage and Intelligence Services', 'Laboratories and Scientific Equipment', 'Research', 'Wildlife Trade and Poaching', 'Energy Department', 'Biden, Joseph R Jr', 'Trump, Donald J', 'United States Politics and Government']\n",
      "['Coronavirus (2019-nCoV)', 'Long Covid', 'Coronavirus Risks and Safety Concerns', 'Chronic Condition (Health)', 'Content Type: Service', 'Research']\n"
     ]
    }
   ],
   "source": [
    "## keywords:  clean it until there's only a list of key words left\n",
    "\n",
    "lis_column=[]\n",
    "for i in newsdf[\"key_words\"]:\n",
    "    lis=[]\n",
    "    for n in i:\n",
    "        lis.append(n[\"value\"])\n",
    "    print(lis)\n",
    "    lis_column.append(lis)\n",
    "        \n",
    "newsdf[\"key_words\"]=lis_column"
   ]
  },
  {
   "cell_type": "code",
   "execution_count": 15,
   "id": "8d099b84",
   "metadata": {},
   "outputs": [],
   "source": [
    "## pub_date: leave only year-month-date\n",
    "lis_data=[]\n",
    "for i in newsdf[\"pub_data\"]:\n",
    "    lis_data.append(i[:10])\n",
    "\n",
    "newsdf[\"pub_data\"]=lis_data"
   ]
  },
  {
   "cell_type": "code",
   "execution_count": 16,
   "id": "61278bcd",
   "metadata": {},
   "outputs": [
    {
     "name": "stdout",
     "output_type": "stream",
     "text": [
      "abstract              object\n",
      "url                   object\n",
      "lead_paragragh        object\n",
      "key_words             object\n",
      "pub_data              object\n",
      "section_name        category\n",
      "type_of_material    category\n",
      "word_count             int64\n",
      "dtype: object\n"
     ]
    }
   ],
   "source": [
    "## section_name : change data type into category\n",
    "newsdf[\"section_name\"] = newsdf[\"section_name\"].astype(\"category\")\n",
    "newsdf[\"type_of_material\"] = newsdf[\"type_of_material\"].astype(\"category\")\n",
    "\n",
    "print(newsdf.dtypes)"
   ]
  },
  {
   "cell_type": "markdown",
   "id": "067e9fc9",
   "metadata": {},
   "source": [
    "now it's done"
   ]
  },
  {
   "cell_type": "code",
   "execution_count": 17,
   "id": "6e98e7ef",
   "metadata": {},
   "outputs": [
    {
     "data": {
      "text/html": [
       "<div>\n",
       "<style scoped>\n",
       "    .dataframe tbody tr th:only-of-type {\n",
       "        vertical-align: middle;\n",
       "    }\n",
       "\n",
       "    .dataframe tbody tr th {\n",
       "        vertical-align: top;\n",
       "    }\n",
       "\n",
       "    .dataframe thead th {\n",
       "        text-align: right;\n",
       "    }\n",
       "</style>\n",
       "<table border=\"1\" class=\"dataframe\">\n",
       "  <thead>\n",
       "    <tr style=\"text-align: right;\">\n",
       "      <th></th>\n",
       "      <th>abstract</th>\n",
       "      <th>url</th>\n",
       "      <th>lead_paragragh</th>\n",
       "      <th>key_words</th>\n",
       "      <th>pub_data</th>\n",
       "      <th>section_name</th>\n",
       "      <th>type_of_material</th>\n",
       "      <th>word_count</th>\n",
       "    </tr>\n",
       "  </thead>\n",
       "  <tbody>\n",
       "    <tr>\n",
       "      <th>0</th>\n",
       "      <td>Mainstream companies have concerns about the l...</td>\n",
       "      <td>https://www.nytimes.com/2023/11/30/business/ai...</td>\n",
       "      <td>Data is the fuel of artificial intelligence. I...</td>\n",
       "      <td>[Corporations, Artificial Intelligence, Comput...</td>\n",
       "      <td>2023-11-30</td>\n",
       "      <td>Business Day</td>\n",
       "      <td>News</td>\n",
       "      <td>879</td>\n",
       "    </tr>\n",
       "    <tr>\n",
       "      <th>1</th>\n",
       "      <td>Three years ago we were caught flat-footed, an...</td>\n",
       "      <td>https://www.nytimes.com/2023/04/30/opinion/pan...</td>\n",
       "      <td>This is part of a series on preparing for futu...</td>\n",
       "      <td>[Coronavirus (2019-nCoV), Deaths (Fatalities),...</td>\n",
       "      <td>2023-04-30</td>\n",
       "      <td>Opinion</td>\n",
       "      <td>Op-Ed</td>\n",
       "      <td>1258</td>\n",
       "    </tr>\n",
       "    <tr>\n",
       "      <th>2</th>\n",
       "      <td>Five A.I. practitioners — an industry godfathe...</td>\n",
       "      <td>https://www.nytimes.com/interactive/2023/06/01...</td>\n",
       "      <td>Five A.I. practitioners — an industry godfathe...</td>\n",
       "      <td>[Artificial Intelligence, Computers and the In...</td>\n",
       "      <td>2023-06-01</td>\n",
       "      <td>Opinion</td>\n",
       "      <td>Interactive Feature</td>\n",
       "      <td>0</td>\n",
       "    </tr>\n",
       "    <tr>\n",
       "      <th>3</th>\n",
       "      <td>In eight states, the estimated number of abort...</td>\n",
       "      <td>https://www.nytimes.com/interactive/2023/09/07...</td>\n",
       "      <td>In eight states, the estimated number of abort...</td>\n",
       "      <td>[Abortion, United States, Dobbs v Jackson Wome...</td>\n",
       "      <td>2023-09-07</td>\n",
       "      <td>U.S.</td>\n",
       "      <td>Interactive Feature</td>\n",
       "      <td>0</td>\n",
       "    </tr>\n",
       "    <tr>\n",
       "      <th>4</th>\n",
       "      <td>For Alexa to speak like a Dubliner, Amazon res...</td>\n",
       "      <td>https://www.nytimes.com/2023/07/01/technology/...</td>\n",
       "      <td>Like Henry Higgins, the phonetician from Georg...</td>\n",
       "      <td>[Amazon.com Inc, Artificial Intelligence, Spea...</td>\n",
       "      <td>2023-07-01</td>\n",
       "      <td>Technology</td>\n",
       "      <td>News</td>\n",
       "      <td>1178</td>\n",
       "    </tr>\n",
       "    <tr>\n",
       "      <th>5</th>\n",
       "      <td>With other virus tracking efforts winding down...</td>\n",
       "      <td>https://www.nytimes.com/2023/05/11/health/covi...</td>\n",
       "      <td>When the Covid-19 public health emergency expi...</td>\n",
       "      <td>[Coronavirus (2019-nCoV), Sewers and Sewage, D...</td>\n",
       "      <td>2023-05-11</td>\n",
       "      <td>Health</td>\n",
       "      <td>News</td>\n",
       "      <td>1305</td>\n",
       "    </tr>\n",
       "    <tr>\n",
       "      <th>6</th>\n",
       "      <td>High-altitude regions will get more extreme ra...</td>\n",
       "      <td>https://www.nytimes.com/2023/06/28/climate/mou...</td>\n",
       "      <td>As the climate warms, mountain regions will ge...</td>\n",
       "      <td>[Global Warming, Rain, Mountains, Floods, Land...</td>\n",
       "      <td>2023-06-28</td>\n",
       "      <td>Climate</td>\n",
       "      <td>News</td>\n",
       "      <td>764</td>\n",
       "    </tr>\n",
       "    <tr>\n",
       "      <th>7</th>\n",
       "      <td>The social media platform now has a work force...</td>\n",
       "      <td>https://www.nytimes.com/2023/02/26/technology/...</td>\n",
       "      <td>Twitter laid off at least 200 of its employees...</td>\n",
       "      <td>[Social Media, Layoffs and Job Reductions, Twi...</td>\n",
       "      <td>2023-02-27</td>\n",
       "      <td>Technology</td>\n",
       "      <td>News</td>\n",
       "      <td>430</td>\n",
       "    </tr>\n",
       "    <tr>\n",
       "      <th>8</th>\n",
       "      <td>Scientists and spy agencies have tried for yea...</td>\n",
       "      <td>https://www.nytimes.com/article/covid-origin-l...</td>\n",
       "      <td>WASHINGTON — Long after the Covid pandemic eme...</td>\n",
       "      <td>[Coronavirus (2019-nCoV), Coronavirus Origins ...</td>\n",
       "      <td>2023-02-28</td>\n",
       "      <td>U.S.</td>\n",
       "      <td>News</td>\n",
       "      <td>1592</td>\n",
       "    </tr>\n",
       "    <tr>\n",
       "      <th>9</th>\n",
       "      <td>Reinfections are becoming more common. Experts...</td>\n",
       "      <td>https://www.nytimes.com/2023/08/17/well/live/c...</td>\n",
       "      <td>Doctors and scientists who study Covid-19 agre...</td>\n",
       "      <td>[Coronavirus (2019-nCoV), Long Covid, Coronavi...</td>\n",
       "      <td>2023-08-17</td>\n",
       "      <td>Well</td>\n",
       "      <td>News</td>\n",
       "      <td>801</td>\n",
       "    </tr>\n",
       "  </tbody>\n",
       "</table>\n",
       "</div>"
      ],
      "text/plain": [
       "                                            abstract  \\\n",
       "0  Mainstream companies have concerns about the l...   \n",
       "1  Three years ago we were caught flat-footed, an...   \n",
       "2  Five A.I. practitioners — an industry godfathe...   \n",
       "3  In eight states, the estimated number of abort...   \n",
       "4  For Alexa to speak like a Dubliner, Amazon res...   \n",
       "5  With other virus tracking efforts winding down...   \n",
       "6  High-altitude regions will get more extreme ra...   \n",
       "7  The social media platform now has a work force...   \n",
       "8  Scientists and spy agencies have tried for yea...   \n",
       "9  Reinfections are becoming more common. Experts...   \n",
       "\n",
       "                                                 url  \\\n",
       "0  https://www.nytimes.com/2023/11/30/business/ai...   \n",
       "1  https://www.nytimes.com/2023/04/30/opinion/pan...   \n",
       "2  https://www.nytimes.com/interactive/2023/06/01...   \n",
       "3  https://www.nytimes.com/interactive/2023/09/07...   \n",
       "4  https://www.nytimes.com/2023/07/01/technology/...   \n",
       "5  https://www.nytimes.com/2023/05/11/health/covi...   \n",
       "6  https://www.nytimes.com/2023/06/28/climate/mou...   \n",
       "7  https://www.nytimes.com/2023/02/26/technology/...   \n",
       "8  https://www.nytimes.com/article/covid-origin-l...   \n",
       "9  https://www.nytimes.com/2023/08/17/well/live/c...   \n",
       "\n",
       "                                      lead_paragragh  \\\n",
       "0  Data is the fuel of artificial intelligence. I...   \n",
       "1  This is part of a series on preparing for futu...   \n",
       "2  Five A.I. practitioners — an industry godfathe...   \n",
       "3  In eight states, the estimated number of abort...   \n",
       "4  Like Henry Higgins, the phonetician from Georg...   \n",
       "5  When the Covid-19 public health emergency expi...   \n",
       "6  As the climate warms, mountain regions will ge...   \n",
       "7  Twitter laid off at least 200 of its employees...   \n",
       "8  WASHINGTON — Long after the Covid pandemic eme...   \n",
       "9  Doctors and scientists who study Covid-19 agre...   \n",
       "\n",
       "                                           key_words    pub_data  \\\n",
       "0  [Corporations, Artificial Intelligence, Comput...  2023-11-30   \n",
       "1  [Coronavirus (2019-nCoV), Deaths (Fatalities),...  2023-04-30   \n",
       "2  [Artificial Intelligence, Computers and the In...  2023-06-01   \n",
       "3  [Abortion, United States, Dobbs v Jackson Wome...  2023-09-07   \n",
       "4  [Amazon.com Inc, Artificial Intelligence, Spea...  2023-07-01   \n",
       "5  [Coronavirus (2019-nCoV), Sewers and Sewage, D...  2023-05-11   \n",
       "6  [Global Warming, Rain, Mountains, Floods, Land...  2023-06-28   \n",
       "7  [Social Media, Layoffs and Job Reductions, Twi...  2023-02-27   \n",
       "8  [Coronavirus (2019-nCoV), Coronavirus Origins ...  2023-02-28   \n",
       "9  [Coronavirus (2019-nCoV), Long Covid, Coronavi...  2023-08-17   \n",
       "\n",
       "   section_name     type_of_material  word_count  \n",
       "0  Business Day                 News         879  \n",
       "1       Opinion                Op-Ed        1258  \n",
       "2       Opinion  Interactive Feature           0  \n",
       "3          U.S.  Interactive Feature           0  \n",
       "4    Technology                 News        1178  \n",
       "5        Health                 News        1305  \n",
       "6       Climate                 News         764  \n",
       "7    Technology                 News         430  \n",
       "8          U.S.                 News        1592  \n",
       "9          Well                 News         801  "
      ]
     },
     "execution_count": 17,
     "metadata": {},
     "output_type": "execute_result"
    }
   ],
   "source": [
    "newsdf"
   ]
  },
  {
   "cell_type": "markdown",
   "id": "0854d227",
   "metadata": {},
   "source": [
    "Ethical concerns:  \n"
   ]
  },
  {
   "cell_type": "markdown",
   "id": "9d022dc4",
   "metadata": {},
   "source": [
    "1. followed the rules of using NYT api. As said in \"terms of use\" of this API, no commercial purpose use, not for developing software product,not for any purpose that violates any law or regulation,etc.\n",
    "2. we should keep the data safe from being seen or broken. do not let others get data they shouldn't see.\n",
    "3. respect privacy within the data"
   ]
  },
  {
   "cell_type": "markdown",
   "id": "658fff4e",
   "metadata": {},
   "source": [
    "---\n"
   ]
  },
  {
   "cell_type": "markdown",
   "id": "698b97dc",
   "metadata": {},
   "source": [
    "### Web scraping dataframe"
   ]
  },
  {
   "cell_type": "code",
   "execution_count": 18,
   "id": "fa3ad89e",
   "metadata": {},
   "outputs": [
    {
     "name": "stdout",
     "output_type": "stream",
     "text": [
      "<Response [200]>\n",
      "<Response [200]>\n",
      "<Response [200]>\n",
      "<Response [200]>\n",
      "<Response [200]>\n",
      "<Response [200]>\n",
      "<Response [200]>\n",
      "<Response [200]>\n",
      "<Response [200]>\n",
      "<Response [200]>\n",
      "<Response [200]>\n",
      "<Response [200]>\n",
      "<Response [200]>\n"
     ]
    }
   ],
   "source": [
    "## rankings is a dictionary that consists of names of rankings as key,web urls as values.\n",
    "rank_soups=[]\n",
    "responses=[]\n",
    "for i in rankings.values():\n",
    "    rank_response = rq.get(i,headers=HEADERS)\n",
    "    print(rank_response)\n",
    "    responses.append(rank_response)\n",
    "    sleep(1)"
   ]
  },
  {
   "cell_type": "code",
   "execution_count": 19,
   "id": "4739ad64",
   "metadata": {},
   "outputs": [],
   "source": [
    "for i in responses:\n",
    "    soup=bs(i.text)\n",
    "    rank_soups.append(soup)"
   ]
  },
  {
   "cell_type": "code",
   "execution_count": 20,
   "id": "9c2e1f0e",
   "metadata": {},
   "outputs": [],
   "source": [
    "## next, build a dictionary to store catagory as key and soup of all the jobs as values. \n",
    "job_with_cata={}\n",
    "for i in rank_soups:\n",
    "    lis=i.find_all(\"div\", class_=\"DetailCardJob__Layout-csuvu4-0 ctCFxf\")\n",
    "    job_with_cata[list(rankings.keys())[rank_soups.index(i)]]=lis"
   ]
  },
  {
   "cell_type": "code",
   "execution_count": 21,
   "id": "d812eb1a",
   "metadata": {},
   "outputs": [],
   "source": [
    "## in each job-ranking list, we need the information of \"job name\",\"median salary\",\"education needed\",\"job description\" which is \n",
    "## shown on this page of job ranking. at the same time ,there's a link for each job that leads to another page to show further \n",
    "## diecriptions of the job. so we also need to save that url for each job.\n",
    "\n",
    "## first step of officially build our dataframe, i will get all the names of jobs,their descriptions \n",
    "## and attach the catagories(which is the name of ranking)\n",
    "\n",
    "job_names=[]\n",
    "job_category=[]\n",
    "job_description=[]\n",
    "job_url=[]\n",
    "\n",
    "for i in job_with_cata.keys():\n",
    "        for n in job_with_cata[i]:\n",
    "            job_names.append(n.h2.text)\n",
    "            job_category.append(i[5:-5])\n",
    "            job_description.append(n.find(\"p\", class_=\"Paragraph-sc-1iyax29-0 ckzlaT Hide-kg09cx-0 hWOBmI\").text[:-10])\n",
    "            job_url.append(\"https://money.usnews.com\"+n.find(\"a\", class_=\"Anchor-byh49a-0 gEQmsG\")[\"href\"])"
   ]
  },
  {
   "cell_type": "code",
   "execution_count": 22,
   "id": "dc3227bd",
   "metadata": {},
   "outputs": [
    {
     "name": "stdout",
     "output_type": "stream",
     "text": [
      "going on\n",
      "going on\n",
      "going on\n",
      "going on\n",
      "going on\n",
      "going on\n",
      "going on\n",
      "going on\n",
      "going on\n",
      "going on\n",
      "going on\n"
     ]
    }
   ],
   "source": [
    "## from now on, i'll dive into the url and get more data and make sure the dataframe fullfull the needs for analysis.\n",
    "\n",
    "jobs_requests=[]\n",
    "n=0\n",
    "for i in job_url:   ## \"i\" representsthe website of each job\n",
    "    n+=1\n",
    "    request=rq.get(i,headers=HEADERS)\n",
    "    jobs_requests.append(request)\n",
    "    if n%10==0:\n",
    "        print(\"going on\")"
   ]
  },
  {
   "cell_type": "code",
   "execution_count": 23,
   "id": "1518fb82",
   "metadata": {},
   "outputs": [
    {
     "name": "stdout",
     "output_type": "stream",
     "text": [
      "117\n"
     ]
    }
   ],
   "source": [
    "## soups for all the job \n",
    "job_soup=[]\n",
    "for i in jobs_requests:\n",
    "    soup=bs(i.text).find(\"div\", class_=\"Content-sc-837ada-0 kkKJUL content\")\n",
    "    job_soup.append(soup)\n",
    "\n",
    "print(len(job_soup))"
   ]
  },
  {
   "cell_type": "code",
   "execution_count": 24,
   "id": "d327c5ae",
   "metadata": {},
   "outputs": [],
   "source": [
    "## now pick out data under these columns:\n",
    "median_salary=[]\n",
    "growth_in_ten=[]  # the total number of new jobs that are expected to be created for an occupation in a 10-year span\n",
    "overall_score=[]\n",
    "salary_score=[]\n",
    "job_market_score=[]\n",
    "future_growth_score=[]\n",
    "stress_score=[]\n",
    "work_life_balance_score=[]\n",
    "upward=[]        # opportunities for advancements and salary\n",
    "stress_level=[]  # work environment and complexities of the job's responsibilities\n",
    "flexibility=[]   # alternative working schedule and work life balance\n",
    "how_to_become=[]\n",
    "\n",
    "for i in job_soup:\n",
    "    median_salary.append((i.find(\"dd\", attrs={\"data-test-id\":\"median_salary\"})).text)\n",
    "    growth_in_ten.append((i.find(\"dd\", attrs={\"data-test-id\": \"job_growth * 1000\"})).text)\n",
    "    overall_score.append(float((i.find(\"b\", attrs={\"data-test-id\": \"overall_score\"})).text))\n",
    "    salary_score.append(float((i.find(\"span\", attrs={\"data-test-id\": \"salary\"})).text))\n",
    "    future_growth_score.append(float((i.find(\"span\", attrs={\"data-test-id\": \"future_growth\"})).text))\n",
    "    stress_score.append(float((i.find(\"span\", attrs={\"data-test-id\": \"stress\"})).text))\n",
    "    work_life_balance_score.append(float((i.find(\"span\", attrs={\"data-test-id\": \"work_life_balance\"})).text))\n",
    "    upward.append((i.find(\"span\", attrs={\"data-test-id\": \"upward_mobility\"})).text)\n",
    "    stress_level.append((i.find(\"span\", attrs={\"data-test-id\": \"stress_level\"})).text)\n",
    "    flexibility.append((i.find(\"span\", attrs={\"data-test-id\": \"flexibility\"})).text)\n",
    "    \n",
    "    paragragh=i.find_all(\"div\",class_=\"Raw-slyvem-0 gwxvgX\")\n",
    "    para=\"\"\n",
    "    for n in paragragh:\n",
    "        para+= n.text+\" \"\n",
    "    how_to_become.append(para)\n",
    "    \n",
    "    ## there are missing values in job_market_score, so i used try and except to use nan to fill in the blanks\n",
    "    try:\n",
    "        infor= i.find(\"span\", attrs={\"data-test-id\": \"job_market\"})\n",
    "        infor=infor.text\n",
    "        job_market_score.append(float(infor))\n",
    "    except:\n",
    "        job_market_score.append(np.nan)\n",
    "        \n",
    "        \n",
    "## data in \"median_salary\" and \"growth\" is string, need to turn them into numbers\n",
    "m_salary=[]\n",
    "for i in median_salary:\n",
    "    i=i[1:]\n",
    "    i=i[:-4]+i[-3:]\n",
    "    m_salary.append(float(i))\n",
    "    \n",
    "growth=[]\n",
    "for i in growth_in_ten:\n",
    "    i=i[:-4]+i[-3:]\n",
    "    growth.append(float(i))"
   ]
  },
  {
   "cell_type": "code",
   "execution_count": 25,
   "id": "9147726f",
   "metadata": {},
   "outputs": [],
   "source": [
    "## build a dataframe\n",
    "data = {\"job\": job_names,\"job_category\": job_category,\"job_description\": job_description,\"median_salary\": m_salary,\"growth_in_ten\": growth,\"overall_score\":overall_score,\"salary_score\": salary_score,\n",
    "         \"job_market_score\":job_market_score,\"future_growth_score\":future_growth_score,\"stress_score\":stress_score,\"work_life_balance_score\":work_life_balance_score,\"upward_mobility\":upward,\"stress_level\":stress_level,\"flexibility\":flexibility,\n",
    "         \"how_to_become\":how_to_become,\"url\": job_url}\n",
    "\n",
    "jobs_df = pd.DataFrame(data)"
   ]
  },
  {
   "cell_type": "code",
   "execution_count": 26,
   "id": "f00781be",
   "metadata": {},
   "outputs": [
    {
     "data": {
      "text/html": [
       "<div>\n",
       "<style scoped>\n",
       "    .dataframe tbody tr th:only-of-type {\n",
       "        vertical-align: middle;\n",
       "    }\n",
       "\n",
       "    .dataframe tbody tr th {\n",
       "        vertical-align: top;\n",
       "    }\n",
       "\n",
       "    .dataframe thead th {\n",
       "        text-align: right;\n",
       "    }\n",
       "</style>\n",
       "<table border=\"1\" class=\"dataframe\">\n",
       "  <thead>\n",
       "    <tr style=\"text-align: right;\">\n",
       "      <th></th>\n",
       "      <th>job</th>\n",
       "      <th>job_category</th>\n",
       "      <th>job_description</th>\n",
       "      <th>median_salary</th>\n",
       "      <th>growth_in_ten</th>\n",
       "      <th>overall_score</th>\n",
       "      <th>salary_score</th>\n",
       "      <th>job_market_score</th>\n",
       "      <th>future_growth_score</th>\n",
       "      <th>stress_score</th>\n",
       "      <th>work_life_balance_score</th>\n",
       "      <th>upward_mobility</th>\n",
       "      <th>stress_level</th>\n",
       "      <th>flexibility</th>\n",
       "      <th>how_to_become</th>\n",
       "      <th>url</th>\n",
       "      <th>work_life_balance</th>\n",
       "      <th>promising_job</th>\n",
       "    </tr>\n",
       "  </thead>\n",
       "  <tbody>\n",
       "    <tr>\n",
       "      <th>0</th>\n",
       "      <td>Nurse Practitioner</td>\n",
       "      <td>Health Care</td>\n",
       "      <td>Nurse practitioners perform a lot of the same ...</td>\n",
       "      <td>120680.0</td>\n",
       "      <td>112700.0</td>\n",
       "      <td>8.8</td>\n",
       "      <td>8.7</td>\n",
       "      <td>10.0</td>\n",
       "      <td>8.0</td>\n",
       "      <td>4.0</td>\n",
       "      <td>4.0</td>\n",
       "      <td>Above Average</td>\n",
       "      <td>Above Average</td>\n",
       "      <td>Below Average</td>\n",
       "      <td>Nurse Practitioners made a median salary of $1...</td>\n",
       "      <td>https://money.usnews.com/careers/best-jobs/nur...</td>\n",
       "      <td>0</td>\n",
       "      <td>1</td>\n",
       "    </tr>\n",
       "    <tr>\n",
       "      <th>1</th>\n",
       "      <td>Physician Assistant</td>\n",
       "      <td>Health Care</td>\n",
       "      <td>Physician assistants diagnose illnesses, devel...</td>\n",
       "      <td>121530.0</td>\n",
       "      <td>38400.0</td>\n",
       "      <td>8.3</td>\n",
       "      <td>8.7</td>\n",
       "      <td>8.0</td>\n",
       "      <td>8.0</td>\n",
       "      <td>4.0</td>\n",
       "      <td>8.0</td>\n",
       "      <td>Average</td>\n",
       "      <td>Above Average</td>\n",
       "      <td>Above Average</td>\n",
       "      <td>Physician Assistants made a median salary of $...</td>\n",
       "      <td>https://money.usnews.com/careers/best-jobs/phy...</td>\n",
       "      <td>1</td>\n",
       "      <td>1</td>\n",
       "    </tr>\n",
       "    <tr>\n",
       "      <th>2</th>\n",
       "      <td>Physical Therapist</td>\n",
       "      <td>Health Care</td>\n",
       "      <td>The role of a physical therapist is to help pa...</td>\n",
       "      <td>95620.0</td>\n",
       "      <td>40400.0</td>\n",
       "      <td>8.0</td>\n",
       "      <td>7.7</td>\n",
       "      <td>10.0</td>\n",
       "      <td>8.0</td>\n",
       "      <td>4.0</td>\n",
       "      <td>6.0</td>\n",
       "      <td>Average</td>\n",
       "      <td>Above Average</td>\n",
       "      <td>Average</td>\n",
       "      <td>Physical Therapists made a median salary of $9...</td>\n",
       "      <td>https://money.usnews.com/careers/best-jobs/phy...</td>\n",
       "      <td>1</td>\n",
       "      <td>1</td>\n",
       "    </tr>\n",
       "    <tr>\n",
       "      <th>3</th>\n",
       "      <td>Dentist</td>\n",
       "      <td>Health Care</td>\n",
       "      <td>From filling cavities to whitening teeth, dent...</td>\n",
       "      <td>160370.0</td>\n",
       "      <td>7700.0</td>\n",
       "      <td>7.5</td>\n",
       "      <td>10.0</td>\n",
       "      <td>10.0</td>\n",
       "      <td>6.0</td>\n",
       "      <td>6.0</td>\n",
       "      <td>8.0</td>\n",
       "      <td>Average</td>\n",
       "      <td>Average</td>\n",
       "      <td>Above Average</td>\n",
       "      <td>Dentists made a median salary of $160,370 in 2...</td>\n",
       "      <td>https://money.usnews.com/careers/best-jobs/den...</td>\n",
       "      <td>1</td>\n",
       "      <td>1</td>\n",
       "    </tr>\n",
       "    <tr>\n",
       "      <th>4</th>\n",
       "      <td>Veterinarian</td>\n",
       "      <td>Health Care</td>\n",
       "      <td>An average day as a veterinarian might include...</td>\n",
       "      <td>100370.0</td>\n",
       "      <td>16800.0</td>\n",
       "      <td>7.5</td>\n",
       "      <td>7.9</td>\n",
       "      <td>10.0</td>\n",
       "      <td>6.0</td>\n",
       "      <td>4.0</td>\n",
       "      <td>4.0</td>\n",
       "      <td>Average</td>\n",
       "      <td>Above Average</td>\n",
       "      <td>Below Average</td>\n",
       "      <td>Veterinarians made a median salary of $100,370...</td>\n",
       "      <td>https://money.usnews.com/careers/best-jobs/vet...</td>\n",
       "      <td>0</td>\n",
       "      <td>1</td>\n",
       "    </tr>\n",
       "  </tbody>\n",
       "</table>\n",
       "</div>"
      ],
      "text/plain": [
       "                   job job_category  \\\n",
       "0   Nurse Practitioner  Health Care   \n",
       "1  Physician Assistant  Health Care   \n",
       "2   Physical Therapist  Health Care   \n",
       "3              Dentist  Health Care   \n",
       "4         Veterinarian  Health Care   \n",
       "\n",
       "                                     job_description  median_salary  \\\n",
       "0  Nurse practitioners perform a lot of the same ...       120680.0   \n",
       "1  Physician assistants diagnose illnesses, devel...       121530.0   \n",
       "2  The role of a physical therapist is to help pa...        95620.0   \n",
       "3  From filling cavities to whitening teeth, dent...       160370.0   \n",
       "4  An average day as a veterinarian might include...       100370.0   \n",
       "\n",
       "   growth_in_ten  overall_score  salary_score  job_market_score  \\\n",
       "0       112700.0            8.8           8.7              10.0   \n",
       "1        38400.0            8.3           8.7               8.0   \n",
       "2        40400.0            8.0           7.7              10.0   \n",
       "3         7700.0            7.5          10.0              10.0   \n",
       "4        16800.0            7.5           7.9              10.0   \n",
       "\n",
       "   future_growth_score  stress_score  work_life_balance_score upward_mobility  \\\n",
       "0                  8.0           4.0                      4.0   Above Average   \n",
       "1                  8.0           4.0                      8.0         Average   \n",
       "2                  8.0           4.0                      6.0         Average   \n",
       "3                  6.0           6.0                      8.0         Average   \n",
       "4                  6.0           4.0                      4.0         Average   \n",
       "\n",
       "    stress_level    flexibility  \\\n",
       "0  Above Average  Below Average   \n",
       "1  Above Average  Above Average   \n",
       "2  Above Average        Average   \n",
       "3        Average  Above Average   \n",
       "4  Above Average  Below Average   \n",
       "\n",
       "                                       how_to_become  \\\n",
       "0  Nurse Practitioners made a median salary of $1...   \n",
       "1  Physician Assistants made a median salary of $...   \n",
       "2  Physical Therapists made a median salary of $9...   \n",
       "3  Dentists made a median salary of $160,370 in 2...   \n",
       "4  Veterinarians made a median salary of $100,370...   \n",
       "\n",
       "                                                 url  work_life_balance  \\\n",
       "0  https://money.usnews.com/careers/best-jobs/nur...                  0   \n",
       "1  https://money.usnews.com/careers/best-jobs/phy...                  1   \n",
       "2  https://money.usnews.com/careers/best-jobs/phy...                  1   \n",
       "3  https://money.usnews.com/careers/best-jobs/den...                  1   \n",
       "4  https://money.usnews.com/careers/best-jobs/vet...                  0   \n",
       "\n",
       "   promising_job  \n",
       "0              1  \n",
       "1              1  \n",
       "2              1  \n",
       "3              1  \n",
       "4              1  "
      ]
     },
     "execution_count": 26,
     "metadata": {},
     "output_type": "execute_result"
    }
   ],
   "source": [
    "## create two binary variables:\n",
    "\n",
    "## if a job has work_life_balance_score that is bigger than 6.0, we say the job is WL-balance.\n",
    "WL_balance=[]\n",
    "for i in jobs_df[\"work_life_balance_score\"]:\n",
    "    if i>=6.0:\n",
    "        WL_balance.append(1) # if the job is wl-balanced, the value will be 1\n",
    "    else:\n",
    "        WL_balance.append(0)\n",
    "        \n",
    "## similarly, if a job has future_growth>6.0, then we consider it a promising job\n",
    "promising = []\n",
    "for i in jobs_df[\"future_growth_score\"]:\n",
    "    if i>=6.0:\n",
    "        promising.append(1) # if the job is promising, the value will be 1\n",
    "    else:\n",
    "        promising.append(0)\n",
    "\n",
    "data_ = {\"work_life_balance\": WL_balance,\"promising_job\": promising}\n",
    "\n",
    "data_add = pd.DataFrame(data_)\n",
    "jobs_df=pd.concat([jobs_df,data_add],axis=1)\n",
    "jobs_df.head()"
   ]
  },
  {
   "cell_type": "code",
   "execution_count": 27,
   "id": "779f5782",
   "metadata": {},
   "outputs": [],
   "source": [
    "## get the list of stop words ready\n",
    "stop_words='a\\nabout\\nabove\\nacross\\nafter\\nafterwards\\nagain\\nagainst\\nall\\nalmost\\nalone\\nalong\\nalready\\nalso\\nalthough\\nalways\\nam\\namong\\namongst\\namoungst\\namount\\nan\\nand\\nanother\\nany\\nanyhow\\nanyone\\nanything\\nanyway\\nanywhere\\nare\\naround\\nas\\nat\\nback\\nbe\\nbecame\\ns\\nbecause\\nbecome\\nbecomes\\nbecoming\\nbeen\\nbefore\\nbeforehand\\nbehind\\nbeing\\nbelow\\nbeside\\nbesides\\nbetween\\nbeyond\\nbill\\nboth\\nbottom\\nbut\\nby\\ncall\\ncan\\ncannot\\ncant\\nco\\ncomputer\\ncon\\ncould\\ncouldnt\\ncry\\nde\\ndescribe\\ndetail\\ndo\\ndone\\ndown\\ndue\\nduring\\neach\\neg\\neight\\neither\\neleven\\nelse\\nelsewhere\\nempty\\nenough\\netc\\neven\\never\\nevery\\neveryone\\neverything\\neverywhere\\nexcept\\nfew\\nfifteen\\nfify\\nfill\\nfind\\nfire\\nfirst\\nfive\\nfor\\nformer\\nformerly\\nforty\\nfound\\nfour\\nfrom\\nfront\\nfull\\nfurther\\nget\\ngive\\ngo\\nhad\\nhas\\nhasnt\\nhave\\nhe\\nhence\\nher\\nhere\\nhereafter\\nhereby\\nherein\\nhereupon\\nhers\\nherself\\nhim\\nhimself\\nhis\\nhow\\nhowever\\nhundred\\ni\\nie\\nif\\nin\\ninc\\nindeed\\ninterest\\ninto\\nis\\nit\\nits\\nitself\\nkeep\\nlast\\nlatter\\nlatterly\\nleast\\nless\\nll\\nltd\\nmade\\nmany\\nmay\\nme\\nmeanwhile\\nmight\\nmill\\nmine\\nmore\\nmoreover\\nmost\\nmostly\\nmove\\nmuch\\nmust\\nmy\\nmyself\\nname\\nnamely\\nneither\\nnever\\nnevertheless\\nnext\\nnine\\nno\\nnobody\\nnone\\nnoone\\nnor\\nnot\\nnothing\\nnow\\nnowhere\\nof\\noff\\noften\\non\\nonce\\none\\nonly\\nonto\\nor\\nother\\nothers\\notherwise\\nour\\nours\\nourselves\\nout\\nover\\nown\\npart\\nper\\nperhaps\\nplease\\nput\\nrather\\nre\\nsame\\nsee\\nseem\\nseemed\\nseeming\\nseems\\nserious\\nseveral\\nshe\\nshould\\nshow\\nside\\nsince\\nsincere\\nsix\\nsixty\\nso\\nsome\\nsomehow\\nsomeone\\nsomething\\nsometime\\nsometimes\\nsomewhere\\nstill\\nsuch\\nsystem\\ntake\\nten\\nthan\\nthat\\nthe\\ntheir\\nthem\\nthemselves\\nthen\\nthence\\nthere\\nthereafter\\nthereby\\ntherefore\\ntherein\\nthereupon\\nthese\\nthey\\nthick\\nthin\\nthird\\nthis\\nthose\\nthough\\nthree\\nthrough\\nthroughout\\nthru\\nthus\\nto\\ntogether\\ntoo\\ntop\\ntoward\\ntowards\\ntwelve\\ntwenty\\ntwo\\nun\\nunder\\nuntil\\nup\\nupon\\nus\\nvery\\nvia\\nwas\\nwe\\nwell\\nwere\\nwhat\\nwhatever\\nwhen\\nwhence\\nwhenever\\nwhere\\nwhereafter\\nwhereas\\nwhereby\\nwherein\\nwhereupon\\nwherever\\nwhether\\nwhich\\nwhile\\nwhither\\nwho\\nwhoever\\nwhole\\nwhom\\nwhose\\nwhy\\nwill\\nwith\\nwithin\\nwithout\\nwould\\nyet\\nyou\\nyour\\nyours\\nyourself\\nyourselves'\n",
    "stop_words_list=stop_words.split(\"\\n\")"
   ]
  },
  {
   "cell_type": "code",
   "execution_count": 28,
   "id": "a9b01734",
   "metadata": {
    "scrolled": true
   },
   "outputs": [],
   "source": [
    "## put words of each job_description(cleaned version)into a list\n",
    "words_in_each=[]\n",
    "popular_word=[] ## indicates what the most popular word for each observation is\n",
    "times_pop=[] ## how many times the most popular word appears in one each observation\n",
    "\n",
    "for i in jobs_df[\"how_to_become\"]:\n",
    "    i=i.lower()\n",
    "    only_words = re.sub(r'\\W|\\d',' ',i)\n",
    "    words=only_words.split()\n",
    "    words=[i for i in words if i not in stop_words_list]\n",
    "    words_in_each.append(words)\n",
    "    \n",
    "    dic={}\n",
    "    for n in words:\n",
    "        if n not in dic.keys():\n",
    "            dic[n]=1\n",
    "        else:\n",
    "            dic[n]+=1\n",
    "    pop_word=max(dic,key=dic.get)\n",
    "    popular_word.append(pop_word)\n",
    "    times_pop.append(dic[pop_word])"
   ]
  },
  {
   "cell_type": "code",
   "execution_count": 29,
   "id": "a5fa54d8",
   "metadata": {},
   "outputs": [
    {
     "data": {
      "text/plain": [
       "'paid'"
      ]
     },
     "execution_count": 29,
     "metadata": {},
     "output_type": "execute_result"
    }
   ],
   "source": [
    "## find out the most popular word in a text variable(how_to_become)\n",
    "all_words=[]\n",
    "for n in words_in_each:\n",
    "    all_words+=n\n",
    "\n",
    "dic={}\n",
    "for n in all_words:\n",
    "    if n not in dic.keys():\n",
    "        dic[n]=1\n",
    "    else:\n",
    "        dic[n]+=1\n",
    "pop_word=max(dic,key=dic.get)\n",
    "pop_word"
   ]
  },
  {
   "cell_type": "code",
   "execution_count": 30,
   "id": "d3cd6bed",
   "metadata": {},
   "outputs": [],
   "source": [
    "paid_count=[]  ## the number of times \"paid\" appears in each observation\n",
    "\n",
    "count=0\n",
    "for i in words_in_each:\n",
    "    for n in i:\n",
    "        if n ==\"paid\":\n",
    "            count+=1\n",
    "    paid_count.append(count)"
   ]
  },
  {
   "cell_type": "code",
   "execution_count": 31,
   "id": "643c40ae",
   "metadata": {},
   "outputs": [
    {
     "data": {
      "text/html": [
       "<div>\n",
       "<style scoped>\n",
       "    .dataframe tbody tr th:only-of-type {\n",
       "        vertical-align: middle;\n",
       "    }\n",
       "\n",
       "    .dataframe tbody tr th {\n",
       "        vertical-align: top;\n",
       "    }\n",
       "\n",
       "    .dataframe thead th {\n",
       "        text-align: right;\n",
       "    }\n",
       "</style>\n",
       "<table border=\"1\" class=\"dataframe\">\n",
       "  <thead>\n",
       "    <tr style=\"text-align: right;\">\n",
       "      <th></th>\n",
       "      <th>job</th>\n",
       "      <th>job_category</th>\n",
       "      <th>job_description</th>\n",
       "      <th>median_salary</th>\n",
       "      <th>growth_in_ten</th>\n",
       "      <th>overall_score</th>\n",
       "      <th>salary_score</th>\n",
       "      <th>job_market_score</th>\n",
       "      <th>future_growth_score</th>\n",
       "      <th>stress_score</th>\n",
       "      <th>...</th>\n",
       "      <th>upward_mobility</th>\n",
       "      <th>stress_level</th>\n",
       "      <th>flexibility</th>\n",
       "      <th>how_to_become</th>\n",
       "      <th>url</th>\n",
       "      <th>work_life_balance</th>\n",
       "      <th>promising_job</th>\n",
       "      <th>popular_word</th>\n",
       "      <th>times_pop</th>\n",
       "      <th>paid_count</th>\n",
       "    </tr>\n",
       "  </thead>\n",
       "  <tbody>\n",
       "    <tr>\n",
       "      <th>0</th>\n",
       "      <td>Nurse Practitioner</td>\n",
       "      <td>Health Care</td>\n",
       "      <td>Nurse practitioners perform a lot of the same ...</td>\n",
       "      <td>120680.0</td>\n",
       "      <td>112700.0</td>\n",
       "      <td>8.8</td>\n",
       "      <td>8.7</td>\n",
       "      <td>10.0</td>\n",
       "      <td>8.0</td>\n",
       "      <td>4.0</td>\n",
       "      <td>...</td>\n",
       "      <td>Above Average</td>\n",
       "      <td>Above Average</td>\n",
       "      <td>Below Average</td>\n",
       "      <td>Nurse Practitioners made a median salary of $1...</td>\n",
       "      <td>https://money.usnews.com/careers/best-jobs/nur...</td>\n",
       "      <td>0</td>\n",
       "      <td>1</td>\n",
       "      <td>degree</td>\n",
       "      <td>3</td>\n",
       "      <td>2</td>\n",
       "    </tr>\n",
       "    <tr>\n",
       "      <th>1</th>\n",
       "      <td>Physician Assistant</td>\n",
       "      <td>Health Care</td>\n",
       "      <td>Physician assistants diagnose illnesses, devel...</td>\n",
       "      <td>121530.0</td>\n",
       "      <td>38400.0</td>\n",
       "      <td>8.3</td>\n",
       "      <td>8.7</td>\n",
       "      <td>8.0</td>\n",
       "      <td>8.0</td>\n",
       "      <td>4.0</td>\n",
       "      <td>...</td>\n",
       "      <td>Average</td>\n",
       "      <td>Above Average</td>\n",
       "      <td>Above Average</td>\n",
       "      <td>Physician Assistants made a median salary of $...</td>\n",
       "      <td>https://money.usnews.com/careers/best-jobs/phy...</td>\n",
       "      <td>1</td>\n",
       "      <td>1</td>\n",
       "      <td>physician</td>\n",
       "      <td>8</td>\n",
       "      <td>4</td>\n",
       "    </tr>\n",
       "    <tr>\n",
       "      <th>2</th>\n",
       "      <td>Physical Therapist</td>\n",
       "      <td>Health Care</td>\n",
       "      <td>The role of a physical therapist is to help pa...</td>\n",
       "      <td>95620.0</td>\n",
       "      <td>40400.0</td>\n",
       "      <td>8.0</td>\n",
       "      <td>7.7</td>\n",
       "      <td>10.0</td>\n",
       "      <td>8.0</td>\n",
       "      <td>4.0</td>\n",
       "      <td>...</td>\n",
       "      <td>Average</td>\n",
       "      <td>Above Average</td>\n",
       "      <td>Average</td>\n",
       "      <td>Physical Therapists made a median salary of $9...</td>\n",
       "      <td>https://money.usnews.com/careers/best-jobs/phy...</td>\n",
       "      <td>1</td>\n",
       "      <td>1</td>\n",
       "      <td>physical</td>\n",
       "      <td>12</td>\n",
       "      <td>6</td>\n",
       "    </tr>\n",
       "    <tr>\n",
       "      <th>3</th>\n",
       "      <td>Dentist</td>\n",
       "      <td>Health Care</td>\n",
       "      <td>From filling cavities to whitening teeth, dent...</td>\n",
       "      <td>160370.0</td>\n",
       "      <td>7700.0</td>\n",
       "      <td>7.5</td>\n",
       "      <td>10.0</td>\n",
       "      <td>10.0</td>\n",
       "      <td>6.0</td>\n",
       "      <td>6.0</td>\n",
       "      <td>...</td>\n",
       "      <td>Average</td>\n",
       "      <td>Average</td>\n",
       "      <td>Above Average</td>\n",
       "      <td>Dentists made a median salary of $160,370 in 2...</td>\n",
       "      <td>https://money.usnews.com/careers/best-jobs/den...</td>\n",
       "      <td>1</td>\n",
       "      <td>1</td>\n",
       "      <td>dentists</td>\n",
       "      <td>8</td>\n",
       "      <td>8</td>\n",
       "    </tr>\n",
       "    <tr>\n",
       "      <th>4</th>\n",
       "      <td>Veterinarian</td>\n",
       "      <td>Health Care</td>\n",
       "      <td>An average day as a veterinarian might include...</td>\n",
       "      <td>100370.0</td>\n",
       "      <td>16800.0</td>\n",
       "      <td>7.5</td>\n",
       "      <td>7.9</td>\n",
       "      <td>10.0</td>\n",
       "      <td>6.0</td>\n",
       "      <td>4.0</td>\n",
       "      <td>...</td>\n",
       "      <td>Average</td>\n",
       "      <td>Above Average</td>\n",
       "      <td>Below Average</td>\n",
       "      <td>Veterinarians made a median salary of $100,370...</td>\n",
       "      <td>https://money.usnews.com/careers/best-jobs/vet...</td>\n",
       "      <td>0</td>\n",
       "      <td>1</td>\n",
       "      <td>veterinary</td>\n",
       "      <td>7</td>\n",
       "      <td>10</td>\n",
       "    </tr>\n",
       "  </tbody>\n",
       "</table>\n",
       "<p>5 rows × 21 columns</p>\n",
       "</div>"
      ],
      "text/plain": [
       "                   job job_category  \\\n",
       "0   Nurse Practitioner  Health Care   \n",
       "1  Physician Assistant  Health Care   \n",
       "2   Physical Therapist  Health Care   \n",
       "3              Dentist  Health Care   \n",
       "4         Veterinarian  Health Care   \n",
       "\n",
       "                                     job_description  median_salary  \\\n",
       "0  Nurse practitioners perform a lot of the same ...       120680.0   \n",
       "1  Physician assistants diagnose illnesses, devel...       121530.0   \n",
       "2  The role of a physical therapist is to help pa...        95620.0   \n",
       "3  From filling cavities to whitening teeth, dent...       160370.0   \n",
       "4  An average day as a veterinarian might include...       100370.0   \n",
       "\n",
       "   growth_in_ten  overall_score  salary_score  job_market_score  \\\n",
       "0       112700.0            8.8           8.7              10.0   \n",
       "1        38400.0            8.3           8.7               8.0   \n",
       "2        40400.0            8.0           7.7              10.0   \n",
       "3         7700.0            7.5          10.0              10.0   \n",
       "4        16800.0            7.5           7.9              10.0   \n",
       "\n",
       "   future_growth_score  stress_score  ...  upward_mobility   stress_level  \\\n",
       "0                  8.0           4.0  ...    Above Average  Above Average   \n",
       "1                  8.0           4.0  ...          Average  Above Average   \n",
       "2                  8.0           4.0  ...          Average  Above Average   \n",
       "3                  6.0           6.0  ...          Average        Average   \n",
       "4                  6.0           4.0  ...          Average  Above Average   \n",
       "\n",
       "     flexibility                                      how_to_become  \\\n",
       "0  Below Average  Nurse Practitioners made a median salary of $1...   \n",
       "1  Above Average  Physician Assistants made a median salary of $...   \n",
       "2        Average  Physical Therapists made a median salary of $9...   \n",
       "3  Above Average  Dentists made a median salary of $160,370 in 2...   \n",
       "4  Below Average  Veterinarians made a median salary of $100,370...   \n",
       "\n",
       "                                                 url work_life_balance  \\\n",
       "0  https://money.usnews.com/careers/best-jobs/nur...                 0   \n",
       "1  https://money.usnews.com/careers/best-jobs/phy...                 1   \n",
       "2  https://money.usnews.com/careers/best-jobs/phy...                 1   \n",
       "3  https://money.usnews.com/careers/best-jobs/den...                 1   \n",
       "4  https://money.usnews.com/careers/best-jobs/vet...                 0   \n",
       "\n",
       "   promising_job  popular_word times_pop  paid_count  \n",
       "0              1        degree         3           2  \n",
       "1              1     physician         8           4  \n",
       "2              1      physical        12           6  \n",
       "3              1      dentists         8           8  \n",
       "4              1    veterinary         7          10  \n",
       "\n",
       "[5 rows x 21 columns]"
      ]
     },
     "execution_count": 31,
     "metadata": {},
     "output_type": "execute_result"
    }
   ],
   "source": [
    "data_ = {\"popular_word\":popular_word,\"times_pop\":times_pop,\"paid_count\":paid_count}\n",
    "\n",
    "data_add = pd.DataFrame(data_)\n",
    "jobs_df=pd.concat([jobs_df,data_add],axis=1)\n",
    "jobs_df = jobs_df.drop_duplicates(subset='job', keep='first') ## delete rows that overlap\n",
    "jobs_df.head()"
   ]
  },
  {
   "cell_type": "markdown",
   "id": "57c257ba",
   "metadata": {},
   "source": [
    "As required for the dataframe:\n",
    "\n",
    "• For at least one of the DataFrames make sure that there are two continuous variables, two binary variables, and one non-binary categorical variable (i.e. a variable with more than 2 categories) that would be relevant for analysis of the data.\n",
    "\n",
    "continuous variables: median_salary,growth_in_ten,overall_score...\n",
    "\n",
    "two binary variable:WL_balance,promising_job\n",
    "\n",
    "non-binary categorical variable: upward_mobility; stress_level; flexibility\n",
    "\n",
    "All done "
   ]
  },
  {
   "cell_type": "markdown",
   "id": "f1da8afb",
   "metadata": {},
   "source": [
    "#### Ethical concerns:  \n"
   ]
  },
  {
   "cell_type": "markdown",
   "id": "eeab438a",
   "metadata": {},
   "source": [
    "first we need to make sure the website we are going to scrape doesn't forbid scraping.  \n",
    "if the content we got from scraping consists of privacy or materials with copyrights, then we need to be careful not to do that and raise legal issues.  \n",
    "we need to be careful of the way we use the data and make sure not to harm any individuals and organizations."
   ]
  },
  {
   "cell_type": "markdown",
   "id": "67156ca2",
   "metadata": {},
   "source": [
    "Saves data as csv files"
   ]
  },
  {
   "cell_type": "code",
   "execution_count": 32,
   "id": "8a23a156",
   "metadata": {},
   "outputs": [],
   "source": [
    "file_news = 'data_news.csv'\n",
    "file_jobs = 'data_jobs.csv'\n",
    "\n",
    "newsdf.to_csv(file_news, index=False)\n",
    "jobs_df.to_csv(file_jobs, index=False)"
   ]
  },
  {
   "cell_type": "markdown",
   "id": "0fd2f069",
   "metadata": {},
   "source": [
    "---"
   ]
  },
  {
   "cell_type": "markdown",
   "id": "d1b5ec08",
   "metadata": {},
   "source": [
    "## Data Analysis"
   ]
  },
  {
   "cell_type": "markdown",
   "id": "5c42b62b",
   "metadata": {},
   "source": [
    "first: clean the dataframe and leave only the columns that are relevant for analysis.  \n",
    "leave 2 continuous variavles, two binary variables and non-binary catagorical variable"
   ]
  },
  {
   "cell_type": "code",
   "execution_count": 33,
   "id": "6da3e31a",
   "metadata": {},
   "outputs": [],
   "source": [
    "jobs_df=jobs_df[[\"job\",\"median_salary\",\"growth_in_ten\",\"future_growth_score\",\"stress_score\",\"work_life_balance\",\"promising_job\",\"flexibility\",\"stress_level\"]]"
   ]
  },
  {
   "cell_type": "code",
   "execution_count": 34,
   "id": "929a4ad2",
   "metadata": {},
   "outputs": [
    {
     "data": {
      "text/html": [
       "<div>\n",
       "<style scoped>\n",
       "    .dataframe tbody tr th:only-of-type {\n",
       "        vertical-align: middle;\n",
       "    }\n",
       "\n",
       "    .dataframe tbody tr th {\n",
       "        vertical-align: top;\n",
       "    }\n",
       "\n",
       "    .dataframe thead th {\n",
       "        text-align: right;\n",
       "    }\n",
       "</style>\n",
       "<table border=\"1\" class=\"dataframe\">\n",
       "  <thead>\n",
       "    <tr style=\"text-align: right;\">\n",
       "      <th></th>\n",
       "      <th>job</th>\n",
       "      <th>median_salary</th>\n",
       "      <th>growth_in_ten</th>\n",
       "      <th>future_growth_score</th>\n",
       "      <th>stress_score</th>\n",
       "      <th>work_life_balance</th>\n",
       "      <th>promising_job</th>\n",
       "      <th>flexibility</th>\n",
       "      <th>stress_level</th>\n",
       "    </tr>\n",
       "  </thead>\n",
       "  <tbody>\n",
       "    <tr>\n",
       "      <th>0</th>\n",
       "      <td>Nurse Practitioner</td>\n",
       "      <td>120680.0</td>\n",
       "      <td>112700.0</td>\n",
       "      <td>8.0</td>\n",
       "      <td>4.0</td>\n",
       "      <td>0</td>\n",
       "      <td>1</td>\n",
       "      <td>Below Average</td>\n",
       "      <td>Above Average</td>\n",
       "    </tr>\n",
       "    <tr>\n",
       "      <th>1</th>\n",
       "      <td>Physician Assistant</td>\n",
       "      <td>121530.0</td>\n",
       "      <td>38400.0</td>\n",
       "      <td>8.0</td>\n",
       "      <td>4.0</td>\n",
       "      <td>1</td>\n",
       "      <td>1</td>\n",
       "      <td>Above Average</td>\n",
       "      <td>Above Average</td>\n",
       "    </tr>\n",
       "    <tr>\n",
       "      <th>2</th>\n",
       "      <td>Physical Therapist</td>\n",
       "      <td>95620.0</td>\n",
       "      <td>40400.0</td>\n",
       "      <td>8.0</td>\n",
       "      <td>4.0</td>\n",
       "      <td>1</td>\n",
       "      <td>1</td>\n",
       "      <td>Average</td>\n",
       "      <td>Above Average</td>\n",
       "    </tr>\n",
       "    <tr>\n",
       "      <th>3</th>\n",
       "      <td>Dentist</td>\n",
       "      <td>160370.0</td>\n",
       "      <td>7700.0</td>\n",
       "      <td>6.0</td>\n",
       "      <td>6.0</td>\n",
       "      <td>1</td>\n",
       "      <td>1</td>\n",
       "      <td>Above Average</td>\n",
       "      <td>Average</td>\n",
       "    </tr>\n",
       "    <tr>\n",
       "      <th>4</th>\n",
       "      <td>Veterinarian</td>\n",
       "      <td>100370.0</td>\n",
       "      <td>16800.0</td>\n",
       "      <td>6.0</td>\n",
       "      <td>4.0</td>\n",
       "      <td>0</td>\n",
       "      <td>1</td>\n",
       "      <td>Below Average</td>\n",
       "      <td>Above Average</td>\n",
       "    </tr>\n",
       "    <tr>\n",
       "      <th>5</th>\n",
       "      <td>Physician</td>\n",
       "      <td>208000.0</td>\n",
       "      <td>19400.0</td>\n",
       "      <td>8.0</td>\n",
       "      <td>2.0</td>\n",
       "      <td>1</td>\n",
       "      <td>1</td>\n",
       "      <td>Average</td>\n",
       "      <td>High</td>\n",
       "    </tr>\n",
       "    <tr>\n",
       "      <th>6</th>\n",
       "      <td>Orthodontist</td>\n",
       "      <td>208000.0</td>\n",
       "      <td>300.0</td>\n",
       "      <td>6.0</td>\n",
       "      <td>8.0</td>\n",
       "      <td>1</td>\n",
       "      <td>1</td>\n",
       "      <td>Above Average</td>\n",
       "      <td>Below Average</td>\n",
       "    </tr>\n",
       "    <tr>\n",
       "      <th>7</th>\n",
       "      <td>Registered Nurse</td>\n",
       "      <td>77600.0</td>\n",
       "      <td>195400.0</td>\n",
       "      <td>9.0</td>\n",
       "      <td>4.0</td>\n",
       "      <td>0</td>\n",
       "      <td>1</td>\n",
       "      <td>Below Average</td>\n",
       "      <td>Above Average</td>\n",
       "    </tr>\n",
       "    <tr>\n",
       "      <th>8</th>\n",
       "      <td>Oral and Maxillofacial Surgeon</td>\n",
       "      <td>208000.0</td>\n",
       "      <td>300.0</td>\n",
       "      <td>6.0</td>\n",
       "      <td>4.0</td>\n",
       "      <td>0</td>\n",
       "      <td>1</td>\n",
       "      <td>Below Average</td>\n",
       "      <td>Above Average</td>\n",
       "    </tr>\n",
       "    <tr>\n",
       "      <th>9</th>\n",
       "      <td>Nurse Anesthetist</td>\n",
       "      <td>195610.0</td>\n",
       "      <td>5300.0</td>\n",
       "      <td>6.0</td>\n",
       "      <td>4.0</td>\n",
       "      <td>0</td>\n",
       "      <td>1</td>\n",
       "      <td>Below Average</td>\n",
       "      <td>Above Average</td>\n",
       "    </tr>\n",
       "  </tbody>\n",
       "</table>\n",
       "</div>"
      ],
      "text/plain": [
       "                              job  median_salary  growth_in_ten  \\\n",
       "0              Nurse Practitioner       120680.0       112700.0   \n",
       "1             Physician Assistant       121530.0        38400.0   \n",
       "2              Physical Therapist        95620.0        40400.0   \n",
       "3                         Dentist       160370.0         7700.0   \n",
       "4                    Veterinarian       100370.0        16800.0   \n",
       "5                       Physician       208000.0        19400.0   \n",
       "6                    Orthodontist       208000.0          300.0   \n",
       "7                Registered Nurse        77600.0       195400.0   \n",
       "8  Oral and Maxillofacial Surgeon       208000.0          300.0   \n",
       "9               Nurse Anesthetist       195610.0         5300.0   \n",
       "\n",
       "   future_growth_score  stress_score  work_life_balance  promising_job  \\\n",
       "0                  8.0           4.0                  0              1   \n",
       "1                  8.0           4.0                  1              1   \n",
       "2                  8.0           4.0                  1              1   \n",
       "3                  6.0           6.0                  1              1   \n",
       "4                  6.0           4.0                  0              1   \n",
       "5                  8.0           2.0                  1              1   \n",
       "6                  6.0           8.0                  1              1   \n",
       "7                  9.0           4.0                  0              1   \n",
       "8                  6.0           4.0                  0              1   \n",
       "9                  6.0           4.0                  0              1   \n",
       "\n",
       "     flexibility   stress_level  \n",
       "0  Below Average  Above Average  \n",
       "1  Above Average  Above Average  \n",
       "2        Average  Above Average  \n",
       "3  Above Average        Average  \n",
       "4  Below Average  Above Average  \n",
       "5        Average           High  \n",
       "6  Above Average  Below Average  \n",
       "7  Below Average  Above Average  \n",
       "8  Below Average  Above Average  \n",
       "9  Below Average  Above Average  "
      ]
     },
     "execution_count": 34,
     "metadata": {},
     "output_type": "execute_result"
    }
   ],
   "source": [
    "jobs_df.head(10)"
   ]
  },
  {
   "cell_type": "markdown",
   "id": "a9faa36f",
   "metadata": {},
   "source": [
    "#### Visualization\n",
    "• Visualize your data with MatPlotLib (or Seaborne) by:  \n",
    "• Plotting each of the outcome variables on their own in a relevant plot type  "
   ]
  },
  {
   "cell_type": "code",
   "execution_count": 35,
   "id": "24b769c7",
   "metadata": {
    "scrolled": false
   },
   "outputs": [
    {
     "data": {
      "image/png": "[encoded data removed]",
      "text/plain": [
       "<Figure size 1200x1800 with 8 Axes>"
      ]
     },
     "metadata": {},
     "output_type": "display_data"
    }
   ],
   "source": [
    "fig, axes = plt.subplots(4, 2, figsize=(12, 18))\n",
    "axes = axes.flatten()\n",
    "\n",
    "## put different kind of columns into different lists\n",
    "num_cols = ['median_salary', 'growth_in_ten', 'future_growth_score', 'stress_score']\n",
    "cate_cols = ['work_life_balance', 'promising_job', 'flexibility', 'stress_level']\n",
    "\n",
    "## use histpolt to show numerical variables\n",
    "for i, col in enumerate(num_cols):\n",
    "    sns.histplot(x=jobs_df[col], ax=axes[i])\n",
    "    axes[i].set_title(f'plot for {col}')\n",
    "\n",
    "## use countplots to show categorical variables\n",
    "for i, col in enumerate(cate_cols, start=len(num_cols)):\n",
    "    sns.countplot(x=col, data=jobs_df, ax=axes[i])\n",
    "    axes[i].set_title(f'plot for {col}')\n",
    "    axes[i].set_xlabel(col)\n",
    "    axes[i].set_ylabel('count')\n",
    "\n",
    "plt.tight_layout()\n",
    "plt.show()"
   ]
  },
  {
   "cell_type": "markdown",
   "id": "5a9810b0",
   "metadata": {},
   "source": [
    "as we see in the plot of growth_in_ten, there are some outcomes that are too far away from others, so we kick them out for the benifits of our later analysis. "
   ]
  },
  {
   "cell_type": "code",
   "execution_count": 36,
   "id": "1a7c6d45",
   "metadata": {},
   "outputs": [],
   "source": [
    "jobs_df=jobs_df[jobs_df[\"growth_in_ten\"]<200000]"
   ]
  },
  {
   "cell_type": "code",
   "execution_count": 37,
   "id": "0e089a21",
   "metadata": {},
   "outputs": [
    {
     "data": {
      "image/png": "[encoded data removed]",
      "text/plain": [
       "<Figure size 640x480 with 1 Axes>"
      ]
     },
     "metadata": {},
     "output_type": "display_data"
    }
   ],
   "source": [
    "sns.histplot(data=jobs_df[\"growth_in_ten\"]);"
   ]
  },
  {
   "cell_type": "markdown",
   "id": "ea9f53ca",
   "metadata": {},
   "source": [
    "now it's much better"
   ]
  },
  {
   "cell_type": "markdown",
   "id": "3b50a905",
   "metadata": {},
   "source": [
    "### Making two bivariate plots containing the outcome variable and two predictors (one predictor per plot)  "
   ]
  },
  {
   "cell_type": "markdown",
   "id": "b9d9015e",
   "metadata": {},
   "source": [
    "outcome variable: median_salary  \n",
    "predictor: growth_in_ten, stress_score"
   ]
  },
  {
   "cell_type": "code",
   "execution_count": 38,
   "id": "02a17ad1",
   "metadata": {},
   "outputs": [
    {
     "data": {
      "image/png": "[encoded data removed]",
      "text/plain": [
       "<Figure size 1400x600 with 2 Axes>"
      ]
     },
     "metadata": {},
     "output_type": "display_data"
    }
   ],
   "source": [
    "fig, axes = plt.subplots(1, 2, figsize=(14, 6))\n",
    "\n",
    "sns.scatterplot(x=\"growth_in_ten\", y=\"median_salary\", data=jobs_df, ax=axes[0])\n",
    "axes[0].set_title('median_salary - growth_in_ten')\n",
    "\n",
    "sns.scatterplot(x=\"stress_score\", y=\"median_salary\", data=jobs_df, ax=axes[1])\n",
    "axes[1].set_title('median_salary - stress_score')\n",
    "\n",
    "plt.tight_layout()\n",
    "plt.show()"
   ]
  },
  {
   "cell_type": "markdown",
   "id": "def8f44f",
   "metadata": {},
   "source": [
    "#### linear regression models:  \n",
    "• A regression model for one of your continuous/interval outcome variables and a predictor of interest  \n",
    "(e.g. predicting the number of language translations for a Wikipedia page as a function of the length of the page) "
   ]
  },
  {
   "cell_type": "markdown",
   "id": "775535cb",
   "metadata": {},
   "source": [
    "outcome variable: median_salary   \n",
    "since salary consists of very large numbers and is of different magnitudes, i chose to take log here   \n",
    "predictor: stress_score"
   ]
  },
  {
   "cell_type": "markdown",
   "id": "9ec210a6",
   "metadata": {},
   "source": [
    "\n",
    "• Interpret each of the coefficients in all models you run  \n",
    "• For the interpretation of the logistic regression coefficient, you only need to interpret the sign (i.e. -/+) of the coefficient and whether it is statistically significant.\n",
    "• Explain whether you should include a squared or log term for any of your predictors or whether you should take the log of your outcome"
   ]
  },
  {
   "cell_type": "code",
   "execution_count": 39,
   "id": "d3437e44",
   "metadata": {},
   "outputs": [
    {
     "data": {
      "text/html": [
       "<table class=\"simpletable\">\n",
       "<tr>\n",
       "        <td></td>          <th>coef</th>     <th>std err</th>      <th>t</th>      <th>P>|t|</th>  <th>[0.025</th>    <th>0.975]</th>  \n",
       "</tr>\n",
       "<tr>\n",
       "  <th>Intercept</th>    <td>   11.5900</td> <td>    0.136</td> <td>   84.977</td> <td> 0.000</td> <td>   11.319</td> <td>   11.861</td>\n",
       "</tr>\n",
       "<tr>\n",
       "  <th>stress_score</th> <td>   -0.0861</td> <td>    0.026</td> <td>   -3.343</td> <td> 0.001</td> <td>   -0.137</td> <td>   -0.035</td>\n",
       "</tr>\n",
       "</table>"
      ],
      "text/latex": [
       "\\begin{center}\n",
       "\\begin{tabular}{lcccccc}\n",
       "\\toprule\n",
       "                       & \\textbf{coef} & \\textbf{std err} & \\textbf{t} & \\textbf{P$> |$t$|$} & \\textbf{[0.025} & \\textbf{0.975]}  \\\\\n",
       "\\midrule\n",
       "\\textbf{Intercept}     &      11.5900  &        0.136     &    84.977  &         0.000        &       11.319    &       11.861     \\\\\n",
       "\\textbf{stress\\_score} &      -0.0861  &        0.026     &    -3.343  &         0.001        &       -0.137    &       -0.035     \\\\\n",
       "\\bottomrule\n",
       "\\end{tabular}\n",
       "\\end{center}"
      ],
      "text/plain": [
       "<class 'statsmodels.iolib.table.SimpleTable'>"
      ]
     },
     "execution_count": 39,
     "metadata": {},
     "output_type": "execute_result"
    }
   ],
   "source": [
    "est_mod = ols('np.log(median_salary)~stress_score', data=jobs_df).fit()\n",
    "est_mod.summary().tables[1]"
   ]
  },
  {
   "cell_type": "markdown",
   "id": "22347e55",
   "metadata": {},
   "source": [
    "interpretation:  \n",
    "the coefficient of stress_score(𝛽1)means the effect of stress_score on log(median_salary).  \n",
    "the coef for stess_score is nagitave, which means higher stress_score is linked to relatively lower log(median_salary). one unit of increase in stress_score will cause log(median_salary) to decrease 0.0861 according to this model\n",
    "\n",
    "p<0.05, so we can say the effect of stress_score to future growth is statistically significant. "
   ]
  },
  {
   "cell_type": "code",
   "execution_count": 40,
   "id": "6b002bb8",
   "metadata": {},
   "outputs": [
    {
     "data": {
      "image/png": "[encoded data removed]",
      "text/plain": [
       "<Figure size 640x480 with 1 Axes>"
      ]
     },
     "metadata": {},
     "output_type": "display_data"
    }
   ],
   "source": [
    "# Generate Q-Q plot\n",
    "sm.qqplot(est_mod.resid, line ='45', fit=True);"
   ]
  },
  {
   "cell_type": "markdown",
   "id": "7f12b6b4",
   "metadata": {},
   "source": [
    "data points are generally normally distributed, validating the assumption of normality for the analyzed variable."
   ]
  },
  {
   "cell_type": "markdown",
   "id": "f8a11a8b",
   "metadata": {},
   "source": [
    "#### Conduct a logistic regression:  \n",
    "• A regression model for one of your binary outcome variables and a predictor of interest (e.g. predicting whether the number of language translations for a Wikipedia page is less than 5 as function of the length of the page)  "
   ]
  },
  {
   "cell_type": "markdown",
   "id": "43dc010f",
   "metadata": {},
   "source": [
    "binary outcome variables:work_life_balance  \n",
    "predictor:future_growth_score"
   ]
  },
  {
   "cell_type": "code",
   "execution_count": 41,
   "id": "9bae6bcb",
   "metadata": {},
   "outputs": [
    {
     "name": "stdout",
     "output_type": "stream",
     "text": [
      "Optimization terminated successfully.\n",
      "         Current function value: 0.624537\n",
      "         Iterations 5\n"
     ]
    },
    {
     "data": {
      "text/html": [
       "<table class=\"simpletable\">\n",
       "<tr>\n",
       "           <td></td>              <th>coef</th>     <th>std err</th>      <th>z</th>      <th>P>|z|</th>  <th>[0.025</th>    <th>0.975]</th>  \n",
       "</tr>\n",
       "<tr>\n",
       "  <th>Intercept</th>           <td>    0.9432</td> <td>    0.759</td> <td>    1.242</td> <td> 0.214</td> <td>   -0.545</td> <td>    2.431</td>\n",
       "</tr>\n",
       "<tr>\n",
       "  <th>future_growth_score</th> <td>   -0.0282</td> <td>    0.116</td> <td>   -0.243</td> <td> 0.808</td> <td>   -0.255</td> <td>    0.199</td>\n",
       "</tr>\n",
       "</table>"
      ],
      "text/latex": [
       "\\begin{center}\n",
       "\\begin{tabular}{lcccccc}\n",
       "\\toprule\n",
       "                               & \\textbf{coef} & \\textbf{std err} & \\textbf{z} & \\textbf{P$> |$z$|$} & \\textbf{[0.025} & \\textbf{0.975]}  \\\\\n",
       "\\midrule\n",
       "\\textbf{Intercept}             &       0.9432  &        0.759     &     1.242  &         0.214        &       -0.545    &        2.431     \\\\\n",
       "\\textbf{future\\_growth\\_score} &      -0.0282  &        0.116     &    -0.243  &         0.808        &       -0.255    &        0.199     \\\\\n",
       "\\bottomrule\n",
       "\\end{tabular}\n",
       "\\end{center}"
      ],
      "text/plain": [
       "<class 'statsmodels.iolib.table.SimpleTable'>"
      ]
     },
     "execution_count": 41,
     "metadata": {},
     "output_type": "execute_result"
    }
   ],
   "source": [
    "logm = smf.logit('work_life_balance~future_growth_score',data=jobs_df).fit()\n",
    "logm.summary().tables[1]"
   ]
  },
  {
   "cell_type": "markdown",
   "id": "d1b2b43c",
   "metadata": {},
   "source": [
    "coefficient of future_growth_score is negative, means an increase in future_growth_score is associated with a decreased possibility for work_life_balance to be 1.  \n",
    "p>0.05, means their relationship is not statistically significant"
   ]
  },
  {
   "cell_type": "markdown",
   "id": "636088e9",
   "metadata": {},
   "source": [
    "#### Conduct a linear or logistic model as above, but include a control and explain what happens to the coefficient on your predictor of interest when the control is included (e.g. predicting the number of language translations for a Wikipedia page as a function of the length of the entry, controlling for whether the topic is about politics)  "
   ]
  },
  {
   "cell_type": "markdown",
   "id": "b55ecbea",
   "metadata": {},
   "source": [
    "in clude a control: future_growth_score"
   ]
  },
  {
   "cell_type": "code",
   "execution_count": 42,
   "id": "6ebb1bad",
   "metadata": {},
   "outputs": [
    {
     "data": {
      "text/html": [
       "<table class=\"simpletable\">\n",
       "<tr>\n",
       "           <td></td>              <th>coef</th>     <th>std err</th>      <th>t</th>      <th>P>|t|</th>  <th>[0.025</th>    <th>0.975]</th>  \n",
       "</tr>\n",
       "<tr>\n",
       "  <th>Intercept</th>           <td>   11.4708</td> <td>    0.220</td> <td>   52.067</td> <td> 0.000</td> <td>   11.034</td> <td>   11.908</td>\n",
       "</tr>\n",
       "<tr>\n",
       "  <th>stress_score</th>        <td>   -0.0832</td> <td>    0.026</td> <td>   -3.177</td> <td> 0.002</td> <td>   -0.135</td> <td>   -0.031</td>\n",
       "</tr>\n",
       "<tr>\n",
       "  <th>future_growth_score</th> <td>    0.0166</td> <td>    0.024</td> <td>    0.690</td> <td> 0.492</td> <td>   -0.031</td> <td>    0.064</td>\n",
       "</tr>\n",
       "</table>"
      ],
      "text/latex": [
       "\\begin{center}\n",
       "\\begin{tabular}{lcccccc}\n",
       "\\toprule\n",
       "                               & \\textbf{coef} & \\textbf{std err} & \\textbf{t} & \\textbf{P$> |$t$|$} & \\textbf{[0.025} & \\textbf{0.975]}  \\\\\n",
       "\\midrule\n",
       "\\textbf{Intercept}             &      11.4708  &        0.220     &    52.067  &         0.000        &       11.034    &       11.908     \\\\\n",
       "\\textbf{stress\\_score}         &      -0.0832  &        0.026     &    -3.177  &         0.002        &       -0.135    &       -0.031     \\\\\n",
       "\\textbf{future\\_growth\\_score} &       0.0166  &        0.024     &     0.690  &         0.492        &       -0.031    &        0.064     \\\\\n",
       "\\bottomrule\n",
       "\\end{tabular}\n",
       "\\end{center}"
      ],
      "text/plain": [
       "<class 'statsmodels.iolib.table.SimpleTable'>"
      ]
     },
     "execution_count": 42,
     "metadata": {},
     "output_type": "execute_result"
    }
   ],
   "source": [
    "est_mod = ols('np.log(median_salary)~stress_score+future_growth_score', data=jobs_df).fit()\n",
    "est_mod.summary().tables[1]"
   ]
  },
  {
   "cell_type": "markdown",
   "id": "3865080f",
   "metadata": {},
   "source": [
    "after adding the control variable, the coef of stress_score changed to -0.0832, means the nagative relationship between stress_score and log(median_salary) became weaker. the p value for it also changed from 0.001 to 0.002, means the relationship between stress_score and log(median_salary) became less statistically significant.  \n",
    "\n",
    "the coefficient for stress_score represents how the change of log(median_salary) is associated with one-unit's change in stress_score when the value of future_growth_score is constant. here we can say when future_growth_score is the same, one-unit increase in stress_score will cause log(median_salary) to decrease 0.0832.  \n",
    "The coefficient for future_growth_score means how the change in log(median_salary) is associated change in future_growth_score when stress_score is constant. when stress_score is the same, one-unit increase in future_growth_score will cause log(median_salary) to increase by 0.0166.  \n",
    "\n",
    "the p values of stress_score is <0.05,means the relationship between stress_score and log(salary)is statistically significant.  \n",
    "but p of future_growth_score is >0.05, means this relationship between future_growth_score and log(salary is not statistically significant."
   ]
  },
  {
   "cell_type": "code",
   "execution_count": 43,
   "id": "de87631b",
   "metadata": {},
   "outputs": [
    {
     "data": {
      "image/png": "[encoded data removed]",
      "text/plain": [
       "<Figure size 640x480 with 1 Axes>"
      ]
     },
     "metadata": {},
     "output_type": "display_data"
    }
   ],
   "source": [
    "sm.qqplot(est_mod.resid, line ='45', fit=True);"
   ]
  },
  {
   "cell_type": "markdown",
   "id": "defcf3eb",
   "metadata": {},
   "source": [
    "data points are generally normally distributed, validating the assumption of normality for the analyzed variable."
   ]
  },
  {
   "cell_type": "markdown",
   "id": "40c50447",
   "metadata": {},
   "source": [
    "#### Conduct a linear or logistic regression model as above, but include an interaction between your predictor of interest and another variable (e.g. predicting the number of language translations for a Wikipedia page as a function of the length of the page, whether the topic is about politics, and the interaction between these variables)  "
   ]
  },
  {
   "cell_type": "code",
   "execution_count": 44,
   "id": "4814664a",
   "metadata": {},
   "outputs": [
    {
     "data": {
      "text/html": [
       "<table class=\"simpletable\">\n",
       "<tr>\n",
       "               <td></td>                 <th>coef</th>     <th>std err</th>      <th>t</th>      <th>P>|t|</th>  <th>[0.025</th>    <th>0.975]</th>  \n",
       "</tr>\n",
       "<tr>\n",
       "  <th>Intercept</th>                  <td>   11.2536</td> <td>    0.321</td> <td>   35.026</td> <td> 0.000</td> <td>   10.616</td> <td>   11.891</td>\n",
       "</tr>\n",
       "<tr>\n",
       "  <th>stress_score</th>               <td>   -0.0310</td> <td>    0.059</td> <td>   -0.522</td> <td> 0.603</td> <td>   -0.149</td> <td>    0.087</td>\n",
       "</tr>\n",
       "<tr>\n",
       "  <th>promising_job</th>              <td>    0.4101</td> <td>    0.355</td> <td>    1.155</td> <td> 0.251</td> <td>   -0.294</td> <td>    1.115</td>\n",
       "</tr>\n",
       "<tr>\n",
       "  <th>stress_score:promising_job</th> <td>   -0.0668</td> <td>    0.066</td> <td>   -1.012</td> <td> 0.314</td> <td>   -0.198</td> <td>    0.064</td>\n",
       "</tr>\n",
       "</table>"
      ],
      "text/latex": [
       "\\begin{center}\n",
       "\\begin{tabular}{lcccccc}\n",
       "\\toprule\n",
       "                                      & \\textbf{coef} & \\textbf{std err} & \\textbf{t} & \\textbf{P$> |$t$|$} & \\textbf{[0.025} & \\textbf{0.975]}  \\\\\n",
       "\\midrule\n",
       "\\textbf{Intercept}                    &      11.2536  &        0.321     &    35.026  &         0.000        &       10.616    &       11.891     \\\\\n",
       "\\textbf{stress\\_score}                &      -0.0310  &        0.059     &    -0.522  &         0.603        &       -0.149    &        0.087     \\\\\n",
       "\\textbf{promising\\_job}               &       0.4101  &        0.355     &     1.155  &         0.251        &       -0.294    &        1.115     \\\\\n",
       "\\textbf{stress\\_score:promising\\_job} &      -0.0668  &        0.066     &    -1.012  &         0.314        &       -0.198    &        0.064     \\\\\n",
       "\\bottomrule\n",
       "\\end{tabular}\n",
       "\\end{center}"
      ],
      "text/plain": [
       "<class 'statsmodels.iolib.table.SimpleTable'>"
      ]
     },
     "execution_count": 44,
     "metadata": {},
     "output_type": "execute_result"
    }
   ],
   "source": [
    "# predict the stress_score as a function of log(median_salary), whether it's a promising_job and the interaction between the two variables\n",
    "est_mod = ols('np.log(median_salary)~stress_score+promising_job+stress_score*promising_job', data=jobs_df).fit()\n",
    "est_mod.summary().tables[1]"
   ]
  },
  {
   "cell_type": "markdown",
   "id": "49b6eda8",
   "metadata": {},
   "source": [
    "the coefficient for stress_score represents how the change of log(median_salary) is associated with one-unit's change in stress_score when \"promising_job\" is constant. similarly, the coefficient for promising_job means how the change in log(median_salary) is associated change in promising_job when stress_score is constant.  \n",
    "\n",
    "interaction coefficient indicates how the relationship between stress_score and log(median_salary) changes with the change in promising_job. here it is negative, suggesting that the effect of stress_score on log(median_salary) decreases if it is a promising_job\n",
    "\n",
    "the p values of stress_score is >0.05,means the relationship between stress_score and log(salary)is not statistically significant.  \n",
    "p for promising_job is >0.05, means this relationship between promising_job and log(salary) is not statistically significant.  \n",
    "p for interaction term is >0.05, suggesting the interaction effect in this model isn't statistically significant. "
   ]
  },
  {
   "cell_type": "code",
   "execution_count": 45,
   "id": "07472ec1",
   "metadata": {},
   "outputs": [
    {
     "data": {
      "image/png": "[encoded data removed]",
      "text/plain": [
       "<Figure size 640x480 with 1 Axes>"
      ]
     },
     "metadata": {},
     "output_type": "display_data"
    }
   ],
   "source": [
    "sm.qqplot(est_mod.resid, line ='45', fit=True);"
   ]
  },
  {
   "cell_type": "markdown",
   "id": "641ba493",
   "metadata": {},
   "source": [
    "data points are generally normally distributed, validating the assumption of normality for the analyzed variable."
   ]
  },
  {
   "cell_type": "markdown",
   "id": "a9c3337f",
   "metadata": {},
   "source": [
    "#### Conduct a linear or logistic regression model for any outcome of interest with a non-binary categorical variable (a variable with more than 2 categories) as the predictor   "
   ]
  },
  {
   "cell_type": "markdown",
   "id": "b8ef356d",
   "metadata": {},
   "source": [
    "outcome: median_salary  \n",
    "predictor: flexibility\t"
   ]
  },
  {
   "cell_type": "code",
   "execution_count": 46,
   "id": "1e414d7f",
   "metadata": {},
   "outputs": [
    {
     "data": {
      "text/html": [
       "<table class=\"simpletable\">\n",
       "<tr>\n",
       "                <td></td>                  <th>coef</th>     <th>std err</th>      <th>t</th>      <th>P>|t|</th>  <th>[0.025</th>    <th>0.975]</th>  \n",
       "</tr>\n",
       "<tr>\n",
       "  <th>Intercept</th>                    <td>   11.3234</td> <td>    0.120</td> <td>   94.031</td> <td> 0.000</td> <td>   11.084</td> <td>   11.562</td>\n",
       "</tr>\n",
       "<tr>\n",
       "  <th>flexibility[T.Average]</th>       <td>   -0.2637</td> <td>    0.136</td> <td>   -1.935</td> <td> 0.056</td> <td>   -0.534</td> <td>    0.007</td>\n",
       "</tr>\n",
       "<tr>\n",
       "  <th>flexibility[T.Below Average]</th> <td>   -0.0194</td> <td>    0.144</td> <td>   -0.134</td> <td> 0.894</td> <td>   -0.306</td> <td>    0.267</td>\n",
       "</tr>\n",
       "<tr>\n",
       "  <th>flexibility[T.High]</th>          <td>   -0.4478</td> <td>    0.209</td> <td>   -2.147</td> <td> 0.034</td> <td>   -0.862</td> <td>   -0.034</td>\n",
       "</tr>\n",
       "<tr>\n",
       "  <th>flexibility[T.Low]</th>           <td>   -0.2950</td> <td>    0.466</td> <td>   -0.633</td> <td> 0.528</td> <td>   -1.220</td> <td>    0.630</td>\n",
       "</tr>\n",
       "</table>"
      ],
      "text/latex": [
       "\\begin{center}\n",
       "\\begin{tabular}{lcccccc}\n",
       "\\toprule\n",
       "                                      & \\textbf{coef} & \\textbf{std err} & \\textbf{t} & \\textbf{P$> |$t$|$} & \\textbf{[0.025} & \\textbf{0.975]}  \\\\\n",
       "\\midrule\n",
       "\\textbf{Intercept}                    &      11.3234  &        0.120     &    94.031  &         0.000        &       11.084    &       11.562     \\\\\n",
       "\\textbf{flexibility[T.Average]}       &      -0.2637  &        0.136     &    -1.935  &         0.056        &       -0.534    &        0.007     \\\\\n",
       "\\textbf{flexibility[T.Below Average]} &      -0.0194  &        0.144     &    -0.134  &         0.894        &       -0.306    &        0.267     \\\\\n",
       "\\textbf{flexibility[T.High]}          &      -0.4478  &        0.209     &    -2.147  &         0.034        &       -0.862    &       -0.034     \\\\\n",
       "\\textbf{flexibility[T.Low]}           &      -0.2950  &        0.466     &    -0.633  &         0.528        &       -1.220    &        0.630     \\\\\n",
       "\\bottomrule\n",
       "\\end{tabular}\n",
       "\\end{center}"
      ],
      "text/plain": [
       "<class 'statsmodels.iolib.table.SimpleTable'>"
      ]
     },
     "execution_count": 46,
     "metadata": {},
     "output_type": "execute_result"
    }
   ],
   "source": [
    "est_mod = ols('np.log(median_salary)~flexibility', data=jobs_df).fit()\n",
    "est_mod.summary().tables[1]"
   ]
  },
  {
   "cell_type": "markdown",
   "id": "013d28f8",
   "metadata": {},
   "source": [
    "having an \"Average\" flexibility level is associated with a decrease of 0.2637 in log(median_salary), compared to when flexibility is Above Average. p value (0.056) is >0.05, indicating that this effect is not statistically significant.  \n",
    "having an \"Below Average\" flexibility level is associated with a decrease of 0.0194 in log(median_salary), compared to when flexibility is Above Average. p value (0.894) is >0.05, indicating that this effect is not statistically significant  \n",
    "having an \"High\" flexibility level is associated with a decrease of 0.4478 in log(median_salary), compared to when flexibility is Above Average. p value (0.034) is <0.05, indicating that this effect is statistically significant  \n",
    "having an \"Low\" flexibility level is associated with a decrease of 0.2950 in log(median_salary), compared to when flexibility is Above Average. p value (0.528) is >0.05, indicating that this effect is not statistically significant"
   ]
  }
 ],
 "metadata": {
  "kernelspec": {
   "display_name": "Python 3 (ipykernel)",
   "language": "python",
   "name": "python3"
  },
  "language_info": {
   "codemirror_mode": {
    "name": "ipython",
    "version": 3
   },
   "file_extension": ".py",
   "mimetype": "text/x-python",
   "name": "python",
   "nbconvert_exporter": "python",
   "pygments_lexer": "ipython3",
   "version": "3.11.4"
  }
 },
 "nbformat": 4,
 "nbformat_minor": 5
}
