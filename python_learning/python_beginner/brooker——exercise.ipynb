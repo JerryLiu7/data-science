{
 "cells": [
  {
   "cell_type": "code",
   "execution_count": 1,
   "id": "d8396189",
   "metadata": {},
   "outputs": [
    {
     "name": "stdout",
     "output_type": "stream",
     "text": [
      "1\n"
     ]
    }
   ],
   "source": [
    "\"\"\"\n",
    "Programming with Python for Social Science\n",
    "Phillip Brooker\n",
    "\n",
    "4. 3. FLOW CONTROL (AND WHITESPACE)\n",
    "\"\"\"\n",
    "\n",
    "#Now we can compare things, we can get into more sophisticated stuff. Here is\n",
    "#a script that takes a variable (\"number\") and runs various checks on it. If\n",
    "#the number is evenly divisible by three (i.e. with no remainder), the code\n",
    "#prints the string \"Fizz\". If the number is evenly divisible by five, the code\n",
    "#prints the string \"Buzz\". If a number is evenly divisible by both three and\n",
    "#five, the code prints \"FizzBuzz\".\n",
    "\n",
    "number = 1\n",
    "\n",
    "if number % 5 == 0 and number % 3 == 0:\n",
    "    print(\"FizzBuzz\")\n",
    "elif number % 3 == 0:\n",
    "    print(\"Fizz\")\n",
    "elif number % 5 == 0:\n",
    "    print(\"Buzz\")\n",
    "else:\n",
    "    print(number)\n",
    "\n",
    "#First, run the script - what happens? Is that expected?\n",
    "\n",
    "#Second, change the value of the variable \"number\" in line 14 to the following\n",
    "#values:\n",
    "    #3, 98, 75, 55, 45, 29853\n",
    "#What happens? Is that expected?\n",
    "\n"
   ]
  },
  {
   "cell_type": "code",
   "execution_count": 6,
   "id": "9717f0c2",
   "metadata": {},
   "outputs": [
    {
     "name": "stdout",
     "output_type": "stream",
     "text": [
      "enter a number:8\n",
      "nothing\n"
     ]
    }
   ],
   "source": [
    "num= int(input(\"enter a number:\"))\n",
    "if num%3==0:\n",
    "    if num%5==0:\n",
    "        print(\"Fizzbuz\")\n",
    "    else:\n",
    "        print(\"Fizz\")\n",
    "elif num%5==0:\n",
    "    print(\"Buzz\")\n",
    "else:\n",
    "    print(\"nothing\")"
   ]
  },
  {
   "cell_type": "code",
   "execution_count": 10,
   "id": "42839c57",
   "metadata": {},
   "outputs": [
    {
     "name": "stdout",
     "output_type": "stream",
     "text": [
      "enter a number:15\n",
      "fizzbuzz\n"
     ]
    }
   ],
   "source": [
    "num= int(input(\"enter a number:\"))\n",
    "if num%3==0 and num%5==0:\n",
    "    print(\"fizzbuzz\")\n",
    "elif num%3==0:\n",
    "    print(\"fizz\")\n",
    "elif num%5==0:\n",
    "    print(\"buzz\")\n",
    "else:\n",
    "    print(\"nothing\")"
   ]
  },
  {
   "cell_type": "code",
   "execution_count": 12,
   "id": "03712a16",
   "metadata": {},
   "outputs": [
    {
     "data": {
      "text/plain": [
       "tuple"
      ]
     },
     "execution_count": 12,
     "metadata": {},
     "output_type": "execute_result"
    }
   ],
   "source": [
    "\"\"\"\n",
    "Programming with Python for Social Science\n",
    "Phillip Brooker\n",
    "\n",
    "5. 1. 1. GENERAL PURPOSE COMMANDS\n",
    "\"\"\"\n",
    "\n",
    "#Here are a few 'all-purpose' commands that can be used across lots of\n",
    "#contexts/objects in Python e.g. lists, tuples, dictionaries, strings, etc).\n",
    "#However, bear in mind that some of the 'arguments' you feed them might not\n",
    "#make sense and might produce an error - for instance, what would the absolute\n",
    "#value of a string be?).\n",
    "\n",
    "#The arguments passed to the commands below are just examples to demonstrate\n",
    "#the concepts. You should try out these commands with different types of\n",
    "#variables and objects in the shell, to get a feel for how they work.\n",
    "\n",
    "max(1, 2, 3, 4, 5) #gives the maximum value of the argument\n",
    "min(1, 2, 3, 4, 5) #gives the minimum value of the argument\n",
    "abs(-1) #gives the absolute value of the argument (i.e. turns negative numbers\n",
    "        #to positive values) - applies to integers and floats only\n",
    "type(-50.5) #gives the variable type\n",
    "len(\"This is a string.\") #gives the length of the argument\n",
    "\n",
    "#You can also pass other objects to these commands:\n",
    "var1 = (2, 3, 1, 6, 3, 6, 3, 5)\n",
    "\n",
    "max(var1)\n",
    "min(var1)\n",
    "type(var1)\n",
    "len(var1)\n",
    "\n",
    "#There are LOADS more commands native to Python. LOADS. But this is just about\n",
    "#getting used to the idea that objects have properties that you can call in\n",
    "#Python. We'll be doing this as we get deeper into lists, dictionaries and\n",
    "#string formatting/methods.\n",
    "\n",
    "#EXERCISE: Try typing each of these commands into the shell and see what\n",
    "#happens - can you understand why you see the output that results?"
   ]
  },
  {
   "cell_type": "code",
   "execution_count": null,
   "id": "008afc3f",
   "metadata": {},
   "outputs": [],
   "source": [
    "\"\"\"\n",
    "Programming in Python for Social Science\n",
    "Phillip Brooker\n",
    "\n",
    "5. 1. 2. LISTS AND LIST METHODS\n",
    "\"\"\"\n",
    "#Here is a simple list:\n",
    "animals = [\"dog\", \"cat\", \"bat\"]\n",
    "#Call animals in the shell. Why does it look like that? HINT: look at all the\n",
    "#commands below that Python is enacting when we run this script - lines 14\n",
    "#through 26 (and lines 56 nd 57) are performing tasks which are altering the\n",
    "#original animals list.\n",
    "\n",
    "#Here is a selection of list methods, with which you can play around with lists:\n",
    "animals[2] #Calls the value at index position 2.\n",
    "animals[0] #Calls the first entry in the list (because zero-indexing)\n",
    "animals[-1] #Calls the last entry in the list\n",
    "animals[2] = \"rat\" #replaces \"bat\" with \"rat\" (because zero-indexing)\n",
    "animals.append(\"ibex\") #appends \"ibex\" to the end of the list.\n",
    "animals.sort() #sorts the list alphabetically (or numerically if integer/float)\n",
    "animals.index(\"cat\") #tells you what index position an item is at\n",
    "animals.insert(1, \"llama\") #inserts \"llama\" into index position 1. Everything\n",
    "                           #after that gets knocked on 1 place.\n",
    "animals.pop(3) #removes the item at the denoted index and 'returns' it\n",
    "del(animals[3]) #removes the item at the denoted index but doesn't return it\n",
    "animals.remove(\"dog\") #removes the item if it finds it\n",
    "animals[0:1:1] #calls all the info at index positions from 0 to 1 (not including\n",
    "               #1), in steps of 1. NOTE: if you don't set the step (i.e.\n",
    "               #animals[0:1]) Python assumes you mean in steps of 1.\n",
    "\n",
    "\"\"\"\n",
    "NOTE: There's a difference between round and square brackets here. Round\n",
    "brackets are what Python uses to accept an 'argument'\n",
    "(i.e. animals.index(\"cat\") needs the argument \"cat\" so it knows what index to\n",
    "produce for you). Sometimes no argument is necessary - e.g. you don't need to\n",
    "tell Python any extra information for animals.sort(), it just sorts the list.\n",
    "Square brackets on the other hand are to do with index positions.\n",
    "\"\"\"\n",
    "\n",
    "#You can also have lists within lists:\n",
    "mammals = [\"dog\", \"cat\", \"bat\"]\n",
    "birds = [\"parrot\", \"budgie\", \"eagle\"]\n",
    "reptiles = [\"chameleon\", \"komodo dragon\", \"gecko\"]\n",
    "fish = [\"sturgeon\", \"marlin\", \"shark\"]\n",
    "planet_earth =[mammals, birds, reptiles, fish]\n",
    "\n",
    "#QUESTION: What do you think the following commands will return? Guess first,\n",
    "#then type them out in the shell to verify.\n",
    "planet_earth[1]\n",
    "planet_earth[3]\n",
    "planet_earth[1][1]\n",
    "planet_earth[0][2]\n",
    "\n",
    "#Each of these results can be stored - they're objects in and of themselves.\n",
    "#So let's store an index position as a variable, then use that variable to do\n",
    "#something with a list.\n",
    "cat_index = animals.index(\"cat\")\n",
    "animals.insert(cat_index, \"cobra\")\n",
    "#Can you see what we did in these two lines? We assigned the index position\n",
    "#number of \"cat\" to a variable cat_index, then we used that variable as an\n",
    "#argument in animals.insert() (which requires an index position, which we give\n",
    "#by cat_index rather than by number, and a thing to insert, which we gave as\n",
    "#the string \"cobra\")."
   ]
  },
  {
   "cell_type": "code",
   "execution_count": 42,
   "id": "7f6e6fa6",
   "metadata": {},
   "outputs": [
    {
     "name": "stdout",
     "output_type": "stream",
     "text": [
      "['Elephant', 'cat', 'dog', 'rat']\n"
     ]
    }
   ],
   "source": [
    "animals=[\"cat\",\"dog\",\"Bat\"]\n",
    "animals[2]=\"rat\"\n",
    "animals.append(\"ox\" and \"Elephant\")\n",
    "animals.sort()\n",
    "print(animals)"
   ]
  },
  {
   "cell_type": "code",
   "execution_count": 43,
   "id": "5245f791",
   "metadata": {},
   "outputs": [
    {
     "name": "stdout",
     "output_type": "stream",
     "text": [
      "['Elephant', 'cat', 'puppy', 'dog', 'rat']\n"
     ]
    }
   ],
   "source": [
    "animals.index(\"cat\")\n",
    "animals.insert(2,\"puppy\")\n",
    "#insert:插入到目标位置\n",
    "print(animals)"
   ]
  },
  {
   "cell_type": "code",
   "execution_count": 44,
   "id": "c659e8d6",
   "metadata": {},
   "outputs": [],
   "source": [
    "animals.pop(0)\n",
    "del(animals[2])"
   ]
  },
  {
   "cell_type": "code",
   "execution_count": 45,
   "id": "be83ba59",
   "metadata": {},
   "outputs": [
    {
     "name": "stdout",
     "output_type": "stream",
     "text": [
      "['cat', 'puppy', 'rat']\n"
     ]
    }
   ],
   "source": [
    "print(animals)"
   ]
  },
  {
   "cell_type": "code",
   "execution_count": 46,
   "id": "8ff5de9a",
   "metadata": {},
   "outputs": [
    {
     "data": {
      "text/plain": [
       "['cat']"
      ]
     },
     "execution_count": 46,
     "metadata": {},
     "output_type": "execute_result"
    }
   ],
   "source": [
    "animals[0:1:1]"
   ]
  },
  {
   "cell_type": "code",
   "execution_count": 50,
   "id": "70b71ca4",
   "metadata": {},
   "outputs": [
    {
     "data": {
      "text/plain": [
       "[1, 3, 5]"
      ]
     },
     "execution_count": 50,
     "metadata": {},
     "output_type": "execute_result"
    }
   ],
   "source": [
    "lis=[1,2,3,4,5,6,7,8,9]\n",
    "lis[0:5:2]\n",
    "# 2:the length of steps"
   ]
  },
  {
   "cell_type": "code",
   "execution_count": 51,
   "id": "99617a0c",
   "metadata": {},
   "outputs": [],
   "source": [
    "mammals = [\"dog\", \"cat\", \"bat\"]\n",
    "birds = [\"parrot\", \"budgie\", \"eagle\"]\n",
    "reptiles = [\"chameleon\", \"komodo dragon\", \"gecko\"]\n",
    "fish = [\"sturgeon\", \"marlin\", \"shark\"]\n",
    "planet_earth =[mammals, birds, reptiles, fish]"
   ]
  },
  {
   "cell_type": "code",
   "execution_count": 52,
   "id": "f6e5a27e",
   "metadata": {},
   "outputs": [
    {
     "data": {
      "text/plain": [
       "['parrot', 'budgie', 'eagle']"
      ]
     },
     "execution_count": 52,
     "metadata": {},
     "output_type": "execute_result"
    }
   ],
   "source": [
    "planet_earth[1]"
   ]
  },
  {
   "cell_type": "code",
   "execution_count": 55,
   "id": "f2051fcd",
   "metadata": {},
   "outputs": [
    {
     "data": {
      "text/plain": [
       "'bat'"
      ]
     },
     "execution_count": 55,
     "metadata": {},
     "output_type": "execute_result"
    }
   ],
   "source": [
    "planet_earth[0][2]"
   ]
  },
  {
   "cell_type": "code",
   "execution_count": 56,
   "id": "854ff2cc",
   "metadata": {},
   "outputs": [
    {
     "name": "stdout",
     "output_type": "stream",
     "text": [
      "['rabbit', 'cat', 'puppy', 'rat']\n"
     ]
    }
   ],
   "source": [
    "cat_index=animals.index(\"cat\")\n",
    "animals.insert(cat_index,\"rabbit\")\n",
    "print(animals)"
   ]
  },
  {
   "cell_type": "code",
   "execution_count": 70,
   "id": "7e5d0393",
   "metadata": {},
   "outputs": [
    {
     "data": {
      "text/plain": [
       "'\\nEXERCISE: Can you now:\\n\\n* Break the first 25 numbers in num_list up into batches of 5, each stored in\\n  a list of its own.\\n* Then compile those 5 mini lists into a bigger one.\\n* Then, can you tell me what the third element of the fourth list is?\\n\\nDO ALL THIS USING PYTHON COMMANDS: FIDDLING IN THE ORIGINAL LIST/SCRIPT IS\\nCHEATING!!!\\n'"
      ]
     },
     "execution_count": 70,
     "metadata": {},
     "output_type": "execute_result"
    }
   ],
   "source": [
    "\"\"\"\n",
    "Programming with Python for Social Science\n",
    "Phillip Brooker\n",
    "\n",
    "5. 1. 3. LIST EXERCISE\n",
    "\"\"\"\n",
    "\n",
    "#Look at this big list (which contains a lot of numbers between 0 and 999)!\n",
    "num_list = [387, 729, 730, 94, 727, 535, 367, 59, 446, 740, 588, 307, 225, 956,\n",
    "            175, 961, 332, 731, 875, 362, 53, 738, 647, 258, 888, 421, 941,\n",
    "            710, 955, 192, 935, 93, 335, 748, 987, 20, 937, 404, 191, 586, 847,\n",
    "            906, 6, 504, 821, 218, 532, 688, 358, 568, 22, 245, 573, 689, 942,\n",
    "            171, 15, 781, 353, 856, 17, 697, 879, 845, 877, 968, 279, 547, 935,\n",
    "            331, 660, 725, 394, 617, 874, 648, 863, 53, 59, 494, 178, 650, 113,\n",
    "            141, 215, 616, 811, 377, 745, 349, 898, 944, 286, 183, 307, 910,\n",
    "            910, 348, 922, 111, 409, 549, 883, 633, 899, 414, 827, 446, 132,\n",
    "            125, 371, 281, 496, 224, 828, 942, 350, 424, 9, 1000, 354, 932,\n",
    "            130, 137, 43, 362, 392, 188, 514, 247, 142, 914, 899, 204, 83, 565,\n",
    "            499, 422, 872, 346, 62, 317, 776, 619, 325, 789, 721, 530, 925,\n",
    "            135, 637, 935, 185, 491, 880, 38, 235, 720, 566, 633, 609, 372,\n",
    "            280, 223, 26, 956, 918, 5, 899, 775, 318, 391, 596, 783, 144, 370,\n",
    "            699, 86, 856, 3, 660, 547, 887, 894, 824, 118, 941, 13, 22, 855,\n",
    "            575, 570, 278, 631, 693, 530, 797, 468, 422, 517, 30, 264, 162,\n",
    "            712, 627, 345, 23, 41, 195, 986, 200, 642, 708, 203, 817, 767,\n",
    "            142, 892, 722, 852, 554, 112, 42, 171, 497, 211, 198, 677, 697,\n",
    "            375, 477, 292, 449, 572, 96, 997, 778, 677, 200, 528, 944, 84,\n",
    "            685, 564, 978, 826, 436, 919, 716, 866, 47, 115, 859, 613, 378,\n",
    "            890, 939, 533, 709, 669, 777, 506, 197, 483, 716, 790, 736, 290,\n",
    "            185, 766, 824, 446, 334, 990, 972, 676, 345, 553, 658, 360, 697,\n",
    "            58, 651, 306, 980, 238, 107, 612, 173, 350, 38, 69, 611, 628,\n",
    "            197, 678, 73, 950, 409, 234, 536, 575, 867, 727, 736, 157, 363,\n",
    "            704, 606, 732, 904, 901, 600, 718, 949, 992, 28, 242, 39, 570,\n",
    "            430, 673, 786, 764, 230, 821, 927, 997, 242, 103, 30, 349, 71,\n",
    "            199, 369, 476, 534, 465, 382, 307, 414, 94, 654, 336, 977, 151,\n",
    "            100, 815, 405, 164, 357, 5, 335, 183, 408, 549, 836, 184, 968,\n",
    "            464, 889, 820, 65, 227, 149, 902, 480, 712, 996, 718, 198, 324,\n",
    "            748, 180, 864, 697, 247, 887, 318, 952, 228, 593, 246, 707, 676,\n",
    "            192, 931, 566, 274, 614, 658, 730, 255, 996, 112, 228, 858, 998,\n",
    "            994, 196, 207, 426, 891, 180, 812, 743, 67, 360, 521, 876, 530,\n",
    "            89, 899, 718, 941, 869, 485, 252, 194, 998, 929, 687, 648, 745,\n",
    "            586, 534, 8, 759, 667, 867, 379, 172, 115, 576, 743, 270, 945,\n",
    "            144, 184, 742, 923, 536, 205, 367, 502, 987, 297, 54, 426, 156,\n",
    "            278, 574, 440, 391, 440, 734, 608, 839, 993, 140, 504, 405, 912,\n",
    "            57, 15, 503, 69, 921, 925, 426, 813, 862, 355, 318, 731, 2, 609,\n",
    "            848, 722, 35, 930, 646, 903, 7, 475, 889, 95, 285, 523, 823, 641,\n",
    "            257, 372, 614, 729, 296, 237, 202, 764, 927, 385, 982, 49, 317,\n",
    "            983, 483, 651, 471, 246, 340, 837, 701, 345, 413, 528, 163, 93,\n",
    "            57, 466, 911, 131, 580, 30, 196, 667, 508, 423, 306, 163, 971,\n",
    "            282, 915, 423, 156, 480, 464, 976, 748, 72, 641, 451, 486, 442,\n",
    "            315, 407, 70, 907, 220, 906, 398, 753, 911, 490, 39, 172, 509,\n",
    "            417, 450, 786, 68, 596, 422, 403, 175, 739, 306, 314, 253, 485,\n",
    "            733, 782, 219, 65, 666, 468, 927, 666, 323, 271, 553, 911, 844,\n",
    "            384, 792, 534, 288, 658, 941, 78, 404, 808, 535, 336, 26, 192,\n",
    "            769, 606, 383, 6, 148, 340, 52, 169, 619, 836, 495, 333, 240,\n",
    "            399, 881, 462, 543, 104, 623, 377, 651, 345, 33, 285, 692, 509,\n",
    "            169, 315, 250, 72, 648, 326, 766, 776, 513, 43, 473, 464, 581,\n",
    "            563, 492, 977, 944, 774, 309, 6, 784, 945, 583, 813, 993, 55,\n",
    "            408, 45, 852, 100, 413, 156, 9, 832, 203, 513, 976, 231, 114,\n",
    "            638, 825, 498, 837, 153, 203, 781, 549, 621, 759, 363, 48, 187,\n",
    "            512, 472, 983, 993, 71, 215, 976, 395, 294, 188, 6, 930, 473,\n",
    "            134, 329, 674, 293, 154, 758, 328, 587, 655, 387, 413, 354, 282,\n",
    "            161, 704, 45, 280, 312, 456, 754, 942, 609, 398, 661, 456, 296,\n",
    "            195, 24, 642, 364, 958, 462, 481, 102, 480, 443, 516, 631, 109,\n",
    "            533, 254, 65, 249, 18, 479, 710, 129, 84, 345, 268, 177, 530,\n",
    "            965, 107, 180, 934, 451, 725, 789, 341, 668, 262, 8, 183, 246,\n",
    "            464, 734, 349, 271, 801, 550, 749, 822, 610, 649, 525, 557, 635,\n",
    "            812, 969, 26, 812, 977, 314, 29, 989, 668, 651, 158]\n",
    "\n",
    "#NOW, let's do stuff with it. QUESTION: Can you tell me:\n",
    "\n",
    "#Q1: How many things are in this list?\n",
    "\n",
    "#Q2: What are the last 20 items of the list, sorted numerically?\n",
    "\n",
    "#Q3: What is the range of the first 50 items?\n",
    "\n",
    "#Q4: What is the range of the first 50 items after you've inserted a value of\n",
    "#5000 at index position 30?\n",
    "\n",
    "\"\"\"\n",
    "EXERCISE: Can you now:\n",
    "\n",
    "* Break the first 25 numbers in num_list up into batches of 5, each stored in\n",
    "  a list of its own.\n",
    "* Then compile those 5 mini lists into a bigger one.\n",
    "* Then, can you tell me what the third element of the fourth list is?\n",
    "\n",
    "DO ALL THIS USING PYTHON COMMANDS: FIDDLING IN THE ORIGINAL LIST/SCRIPT IS\n",
    "CHEATING!!!\n",
    "\"\"\""
   ]
  },
  {
   "cell_type": "code",
   "execution_count": 71,
   "id": "90fba036",
   "metadata": {},
   "outputs": [
    {
     "data": {
      "text/plain": [
       "775"
      ]
     },
     "execution_count": 71,
     "metadata": {},
     "output_type": "execute_result"
    }
   ],
   "source": [
    "len(num_list)"
   ]
  },
  {
   "cell_type": "code",
   "execution_count": 101,
   "id": "69eecf52",
   "metadata": {},
   "outputs": [
    {
     "name": "stdout",
     "output_type": "stream",
     "text": [
      "[26, 29, 158, 314, 525, 550, 557, 610, 635, 649, 651, 668, 749, 801, 812, 812, 822, 969, 977, 989]\n"
     ]
    }
   ],
   "source": [
    "enlis=num_list[-20:]\n",
    "enlis.sort()\n",
    "# sort不会return新的list，而是改变原来的，所以print的时候用原list的名字就可以\n",
    "print(enlis)"
   ]
  },
  {
   "cell_type": "code",
   "execution_count": 89,
   "id": "5a7b87de",
   "metadata": {},
   "outputs": [
    {
     "name": "stdout",
     "output_type": "stream",
     "text": [
      "first 50 numbers range from 987 to 6\n"
     ]
    }
   ],
   "source": [
    "firlis=num_list[:50]\n",
    "print(\"first 50 numbers range from\",max(firlis),\"to\",min(firlis))"
   ]
  },
  {
   "cell_type": "code",
   "execution_count": 88,
   "id": "7250cc89",
   "metadata": {},
   "outputs": [
    {
     "data": {
      "text/plain": [
       "1"
      ]
     },
     "execution_count": 88,
     "metadata": {},
     "output_type": "execute_result"
    }
   ],
   "source": [
    "lis=[\"3\"]\n",
    "len(lis)"
   ]
  },
  {
   "cell_type": "code",
   "execution_count": 90,
   "id": "62109b62",
   "metadata": {},
   "outputs": [
    {
     "name": "stdout",
     "output_type": "stream",
     "text": [
      "first 50 numbers range from 5000 to 6\n"
     ]
    }
   ],
   "source": [
    "num_list.insert(30,5000)\n",
    "firlis=num_list[:50]\n",
    "print(\"first 50 numbers range from\",max(firlis),\"to\",min(firlis))"
   ]
  },
  {
   "cell_type": "code",
   "execution_count": 95,
   "id": "708e8f34",
   "metadata": {},
   "outputs": [
    {
     "name": "stdout",
     "output_type": "stream",
     "text": [
      "[961, 332, 731, 875, 362]\n"
     ]
    }
   ],
   "source": [
    "lis1=num_list[0:5]\n",
    "lis2=num_list[5:10]\n",
    "lis3=num_list[10:15]\n",
    "lis4=num_list[15:20]\n",
    "lis5=num_list[20:25]\n",
    "print(lis4)"
   ]
  },
  {
   "cell_type": "code",
   "execution_count": 99,
   "id": "c9d25640",
   "metadata": {},
   "outputs": [
    {
     "name": "stdout",
     "output_type": "stream",
     "text": [
      "731\n"
     ]
    }
   ],
   "source": [
    "bigli=[]\n",
    "bigli.append(lis1)\n",
    "bigli.append(lis2)\n",
    "bigli.append(lis3)\n",
    "bigli.append(lis4)\n",
    "bigli.append(lis5)\n",
    "print(bigli[3][2])"
   ]
  },
  {
   "cell_type": "code",
   "execution_count": 100,
   "id": "1057ac34",
   "metadata": {},
   "outputs": [
    {
     "data": {
      "text/plain": [
       "'\\nThat\\'s about it...you can\\'t do things like pop or remove things from tuples.\\nThey\\'re immutable. But, if you want to take bits from a tuple and play with them\\nyou can always assign them to a variable: my_tuple_extract = my_tuple[1]. And,\\nsome things like len(my_tuple) will work because they don\\'t try to edit the\\ndata (they just describe it as \"metadata\" - data about data).\\n'"
      ]
     },
     "execution_count": 100,
     "metadata": {},
     "output_type": "execute_result"
    }
   ],
   "source": [
    "\"\"\"\n",
    "Programming in Python for Social Science\n",
    "Phillip Brooker\n",
    "\n",
    "5. 2. TUPLES\n",
    "\"\"\"\n",
    "\n",
    "#In essence, just lists that are immutable (i.e. once assigned, there are no\n",
    "#methods for fiddling with them. Have a look at the \"Tuples and Tuple Methods\n",
    "#in Action\" section to see why this might be handy).\n",
    "\n",
    "my_tuple = (0, 10, 30)\n",
    "my_tuple[1] #calls the item at index position 1.\n",
    "\n",
    "#As with other data structures like lists and dictionaries, you can also build\n",
    "#tuples from existing values, and these don't have to contain all the same\n",
    "#types of data:\n",
    "age = 32\n",
    "location = \"Manchester\"\n",
    "hairstyle = \"bald\"\n",
    "energy_level = 0.1\n",
    "\n",
    "Phil = (age, location, hairstyle, energy_level)\n",
    "\n",
    "\"\"\"\n",
    "That's about it...you can't do things like pop or remove things from tuples.\n",
    "They're immutable. But, if you want to take bits from a tuple and play with them\n",
    "you can always assign them to a variable: my_tuple_extract = my_tuple[1]. And,\n",
    "some things like len(my_tuple) will work because they don't try to edit the\n",
    "data (they just describe it as \"metadata\" - data about data).\n",
    "\"\"\""
   ]
  },
  {
   "cell_type": "code",
   "execution_count": null,
   "id": "6f889f74",
   "metadata": {},
   "outputs": [],
   "source": [
    "\"\"\"\n",
    "Programming in Python for Social Science\n",
    "Phillip Brooker\n",
    "\n",
    "5. 3. 1. DICTIONARIES AND DICTIONARY METHODS\n",
    "\"\"\"\n",
    "\n",
    "#Dictionaries are just as important as lists, but we're not going to go over the\n",
    "#same things here - a lot of what we did with lists was about using commands\n",
    "#to find our way around objects, and those same sort of ideas apply here; we\n",
    "#don't need to go over them in the same depth. However, dictionaries are\n",
    "#different objects than lists, which means they do have some unique\n",
    "#attributes/methods that we do need to outline.\n",
    "\n",
    "#The main difference: lists sort things by index position, but with dictionaries\n",
    "#you can create your own names/labels for index positions. So, it's a different\n",
    "#way of structuring data that may be more applicable for some tasks.\n",
    "\n",
    "animal_dict = {\"dog\": \"woof\",\n",
    "               \"bird\": \"tweet\",\n",
    "               \"cow\": \"moo\",\n",
    "               \"pig\": \"oink\",\n",
    "               \"turtle\": \"?\"}\n",
    "\n",
    "animal_dict[\"fish\"] = \"glub\" #adds a new entry\n",
    "del animal_dict[\"fish\"] #removes an entry\n",
    "animal_dict[\"bird\"] = \"squawk\" #edits an entry\n",
    "print(animal_dict[\"dog\"]) #prints the value of the key\n",
    "animal_dict.items() #breaks up dict into items, prints them #METADATA\n",
    "animal_dict.keys() #prints keys\n",
    "animal_dict.values() #prints values\n",
    "\n",
    "\"\"\"\n",
    "NOTE:\n",
    "A lot of the methods we learned about with lists will work with dictionaries\n",
    "too. Things like .pop() and len() we learned about, but given there are\n",
    "so many more methods we can't cover, you'll find more overlaps the more you\n",
    "look into it and try things out for yourself.\n",
    "\"\"\"\n",
    "\n",
    "\"\"\"\n",
    "OTHER NOTE:\n",
    "You can embed lists within dictionaries, dictionaries with dictionaries,\n",
    "dictionaries within lists, tuples within dictionaries within lists within lists,\n",
    "etc...complex data structures and hierarchies! Below, you can see an example of\n",
    "how to put a dictionary within another dictionary, and how to pull information\n",
    "out of it - this applies also to lists (except for lists, you will be using\n",
    "numerical index positions rather than string keys).\n",
    "\"\"\"\n",
    "dict1 = {\"first thing\": 1, \"second thing\": 2, \"third thing\": 3}\n",
    "dict2 = {\"dict_within_dict\": dict1}\n",
    "#Now let's pull the value for \"second thing\" out of dict1, using dictionary\n",
    "#methods to work with dict2:\n",
    "dict2[\"dict_within_dict\"][\"second thing\"]"
   ]
  },
  {
   "cell_type": "code",
   "execution_count": 102,
   "id": "92c7fb45",
   "metadata": {},
   "outputs": [
    {
     "data": {
      "text/plain": [
       "'fuu'"
      ]
     },
     "execution_count": 102,
     "metadata": {},
     "output_type": "execute_result"
    }
   ],
   "source": [
    "animal_dict = {\"dog\": \"woof\",\n",
    "               \"bird\": \"tweet\",\n",
    "               \"cow\": \"moo\",\n",
    "               \"pig\": \"oink\",\n",
    "               \"turtle\": \"?\"}\n",
    "animal_dict[\"fish\"]=\"fuu\"\n",
    "animal_dict[\"fish\"]"
   ]
  },
  {
   "cell_type": "code",
   "execution_count": 105,
   "id": "8ca7bab8",
   "metadata": {},
   "outputs": [
    {
     "data": {
      "text/plain": [
       "dict_items([('dog', 'woof'), ('bird', 'tweet'), ('cow', 'moo'), ('pig', 'oink'), ('turtle', '?'), ('fish', 'fuu')])"
      ]
     },
     "execution_count": 105,
     "metadata": {},
     "output_type": "execute_result"
    }
   ],
   "source": [
    "animal_dict.items()"
   ]
  },
  {
   "cell_type": "code",
   "execution_count": 106,
   "id": "234fe36e",
   "metadata": {},
   "outputs": [
    {
     "data": {
      "text/plain": [
       "dict_items"
      ]
     },
     "execution_count": 106,
     "metadata": {},
     "output_type": "execute_result"
    }
   ],
   "source": [
    "type(animal_dict.items())"
   ]
  },
  {
   "cell_type": "code",
   "execution_count": 107,
   "id": "a5f62c8f",
   "metadata": {},
   "outputs": [
    {
     "data": {
      "text/plain": [
       "dict_values(['woof', 'tweet', 'moo', 'oink', '?', 'fuu'])"
      ]
     },
     "execution_count": 107,
     "metadata": {},
     "output_type": "execute_result"
    }
   ],
   "source": [
    "animal_dict.values()"
   ]
  },
  {
   "cell_type": "code",
   "execution_count": 108,
   "id": "fee5b548",
   "metadata": {},
   "outputs": [
    {
     "data": {
      "text/plain": [
       "dict_keys(['dog', 'bird', 'cow', 'pig', 'turtle', 'fish'])"
      ]
     },
     "execution_count": 108,
     "metadata": {},
     "output_type": "execute_result"
    }
   ],
   "source": [
    "animal_dict.keys()"
   ]
  },
  {
   "cell_type": "code",
   "execution_count": 114,
   "id": "9bee1f1a",
   "metadata": {},
   "outputs": [
    {
     "data": {
      "text/plain": [
       "200"
      ]
     },
     "execution_count": 114,
     "metadata": {},
     "output_type": "execute_result"
    }
   ],
   "source": [
    "dic={\"first\":100,\"second\":200,\"third\":300}\n",
    "lardi={\"dic_in_dic\":dic}\n",
    "lardi[\"dic_in_dic\"][\"second\"]"
   ]
  },
  {
   "cell_type": "code",
   "execution_count": null,
   "id": "e74c1d95",
   "metadata": {},
   "outputs": [],
   "source": [
    "\"\"\"\n",
    "Programming in Python for Social Science\n",
    "Phillip Brooker\n",
    "\n",
    "5. 3. 2. DICTIONARIES AND DICTIONARY METHODS EXERCISE\n",
    "\"\"\"\n",
    "\n",
    "#EXERCISE:\n",
    "#(1) Write a dictionary (with your name as the variable name) that stores your\n",
    "#following attributes:\n",
    "    #Date of birth\n",
    "    #Place of birth\n",
    "    #Favourite TV show\n",
    "    #Favourite film\n",
    "\n",
    "#(2) Add a key and value to your dictionary denoting your favourite band or\n",
    "#artist. Use ONLY dictionary methods to do this.\n",
    "\n",
    "#(3) Delete the \"Place of birth\" field and replace it with one called \"Current\n",
    "#residence\" - put the town you currently live in as the value.\n",
    "\n",
    "#(4) Create an empty dictionary in a variable titled the name of your favourite\n",
    "#album by your favourite band/artist.\n",
    "\n",
    "#(5) Within this new dictionary, use dictionary methods to populate the\n",
    "#dictionary with the following keys (and give them values):\n",
    "    #Year of release\n",
    "    #Number of tracks\n",
    "#Do steps (4) and (5) for two or three albums by that band.\n",
    "\n",
    "#(6) Add these albums to a new dictionary called \"favourite albums\". Use ONLY\n",
    "#dictionary methods to do this.\n",
    "\n",
    "#(7) Write \"favourite_albums\" into your original dictionary (the one with your\n",
    "#name as the variable name), under the key \"Favourite albums\".\n",
    "\n",
    "#(8) See if you can call specific single bits of information in your big\n",
    "#dictionary of dictionaries using keys - what is your favourite film? What's\n",
    "#the year of release of one of your favourite albums?\n",
    "\n",
    "#(9) See if you can print out the keys and values of your big dictionary.\n"
   ]
  },
  {
   "cell_type": "code",
   "execution_count": 115,
   "id": "4ea98442",
   "metadata": {},
   "outputs": [],
   "source": [
    "Snow={\"birth\":\"unkn\",\"place\":\"castleB\",\"favTV\":\"GameOT\",\"favFi\":\"unkn\"}"
   ]
  },
  {
   "cell_type": "code",
   "execution_count": 116,
   "id": "a2faa8df",
   "metadata": {},
   "outputs": [],
   "source": [
    "Snow[\"band\"]=\"amaza\""
   ]
  },
  {
   "cell_type": "code",
   "execution_count": 117,
   "id": "87a937ce",
   "metadata": {},
   "outputs": [],
   "source": [
    "del Snow[\"place\"]\n",
    "Snow[\"resi\"]=\"Den\"\n",
    "##how to replace? :(\n",
    "\"string\".replace(\"\",\"\")"
   ]
  },
  {
   "cell_type": "code",
   "execution_count": 120,
   "id": "7283bbe3",
   "metadata": {},
   "outputs": [],
   "source": [
    "newdic={}\n",
    "newart={}"
   ]
  },
  {
   "cell_type": "code",
   "execution_count": 127,
   "id": "0e20ee31",
   "metadata": {},
   "outputs": [],
   "source": [
    "newdic[\"year\"]=\"1930\"\n",
    "newdic[\"numberoft\"]=\"13\"\n",
    "newart[\"year\"]=\"1980\"\n",
    "newart[\"numberoft\"]=\"5\""
   ]
  },
  {
   "cell_type": "code",
   "execution_count": 125,
   "id": "b3d14d50",
   "metadata": {},
   "outputs": [],
   "source": [
    "favalb={\"alb1\":newdic,\"alb2\":newart}"
   ]
  },
  {
   "cell_type": "code",
   "execution_count": 126,
   "id": "9a730524",
   "metadata": {},
   "outputs": [],
   "source": [
    "Snow[\"favoritalb\"]=favalb"
   ]
  },
  {
   "cell_type": "code",
   "execution_count": 130,
   "id": "fc887490",
   "metadata": {},
   "outputs": [
    {
     "data": {
      "text/plain": [
       "'1980'"
      ]
     },
     "execution_count": 130,
     "metadata": {},
     "output_type": "execute_result"
    }
   ],
   "source": [
    "Snow[\"favoritalb\"][\"alb2\"][\"year\"]"
   ]
  },
  {
   "cell_type": "code",
   "execution_count": 131,
   "id": "cdb3fca6",
   "metadata": {},
   "outputs": [
    {
     "data": {
      "text/plain": [
       "'GameOT'"
      ]
     },
     "execution_count": 131,
     "metadata": {},
     "output_type": "execute_result"
    }
   ],
   "source": [
    "Snow[\"favTV\"]"
   ]
  },
  {
   "cell_type": "code",
   "execution_count": 133,
   "id": "0ff66e85",
   "metadata": {},
   "outputs": [
    {
     "data": {
      "text/plain": [
       "dict_keys(['birth', 'favTV', 'favFi', 'band', 'resi', 'favoritalb'])"
      ]
     },
     "execution_count": 133,
     "metadata": {},
     "output_type": "execute_result"
    }
   ],
   "source": [
    "Snow.keys()"
   ]
  },
  {
   "cell_type": "code",
   "execution_count": 134,
   "id": "f3af6c39",
   "metadata": {},
   "outputs": [
    {
     "data": {
      "text/plain": [
       "dict_values(['unkn', 'GameOT', 'unkn', 'amaza', 'Den', {'alb1': {'yearofr': '1930', 'numberoft': '13', 'year': '1930'}, 'alb2': {'year': '1980', 'numberoft': '5'}}])"
      ]
     },
     "execution_count": 134,
     "metadata": {},
     "output_type": "execute_result"
    }
   ],
   "source": [
    "Snow.values()"
   ]
  },
  {
   "cell_type": "code",
   "execution_count": null,
   "id": "dec0a444",
   "metadata": {},
   "outputs": [],
   "source": [
    "\"\"\"\n",
    "Programming in Python for Social Science\n",
    "Phillip Brooker\n",
    "\n",
    "5. 4. STRING FORMATTING/METHODS\n",
    "\"\"\"\n",
    "\n",
    "#We already looked a little bit at this:\n",
    "string1 = \"First Bit.\"\n",
    "space = \" \"\n",
    "string2 = \"Second Bit.\"\n",
    "print(string1 + space + string2)\n",
    "#This is called string concatenation.\n",
    "\n",
    "new_string = \"this IS a SliGhtly more ComplicaTed strINg\"\n",
    "\n",
    "new_string[1] #calls the letter at index position one (i.e. the second letter)\n",
    "new_string[0:4] #calls the first four characters\n",
    "new_string[5:] #calls everything including and after the fifth character\n",
    "new_string[::2] #calls all characters in steps of 2 (i.e. every other character)\n",
    "new_string[-1:-10:-1] #calls the last ten letters in steps of -1 (i.e. reverse)\n",
    "\n",
    "len(new_string)\n",
    "string1.lower() #makes it lower case\n",
    "string1.upper() #makes it upper case\n",
    "string1.split() #takes each item, puts it in a list as an individual item.\n",
    "                #TRY THIS. See what happens.\n",
    "\n",
    "#You can also put strings together via methods other than concatenation:\n",
    "string4 = \"is cool.\"\n",
    "string5 = \"Programming %s\" %string4 #the %s denotes a placeholder for a string.\n",
    "                                    #this is more useful than it looks.\n",
    "\n",
    "\"\"\"\n",
    "% STRING FORMATTING OPERATORS:\n",
    "You can see the %s in line 32 above - that means that Python expects something\n",
    "to be inserted that is a string type. Here are some other string formatting\n",
    "symbols you can use:\n",
    "\n",
    "%s string\n",
    "%i or %d integer\n",
    "%f float\n",
    "\n",
    "So, run the following code and see what happens:\n",
    "print(\"Hi, my name is %s and I'm %d years old.\" %(\"Phil\", 32))\n",
    "\n",
    "Play around with this way of constructing strings: try passing variables\n",
    "to the operators, and experiment with the order of the arguments you pass to\n",
    "the operators.\n",
    "\"\"\"\n",
    "\n",
    "\"\"\"\n",
    "EXERCISE:\n",
    "In the shell, can you get Python to produce a print of new_string that is\n",
    "properly punctuated (i.e. capitals in the right place, full stop at the end)?\n",
    "\n",
    "Can you then print it out backwards?\n",
    "\"\"\""
   ]
  },
  {
   "cell_type": "code",
   "execution_count": 1,
   "id": "2783d60a",
   "metadata": {},
   "outputs": [
    {
     "name": "stdout",
     "output_type": "stream",
     "text": [
      "First Bit. Second Bit.\n"
     ]
    }
   ],
   "source": [
    "string1 = \"First Bit.\"\n",
    "space = \" \"\n",
    "string2 = \"Second Bit.\"\n",
    "print(string1 + space + string2)"
   ]
  },
  {
   "cell_type": "code",
   "execution_count": 6,
   "id": "e22bcae5",
   "metadata": {},
   "outputs": [
    {
     "data": {
      "text/plain": [
       "'gNIrts de'"
      ]
     },
     "execution_count": 6,
     "metadata": {},
     "output_type": "execute_result"
    }
   ],
   "source": [
    "new_string = \"this IS a SliGhtly more ComplicaTed strINg\"\n",
    "new_string[-1:-10:-1]"
   ]
  },
  {
   "cell_type": "code",
   "execution_count": 14,
   "id": "50543be2",
   "metadata": {},
   "outputs": [
    {
     "name": "stdout",
     "output_type": "stream",
     "text": [
      "['Morning_rush']\n",
      "['Morning', 'rush']\n"
     ]
    }
   ],
   "source": [
    "len(new_string)\n",
    "str=\"Morning_rush\"\n",
    "str2=\"Morning rush\"\n",
    "print(str.split())\n",
    "print(str2.split())"
   ]
  },
  {
   "cell_type": "code",
   "execution_count": 16,
   "id": "4e2530d6",
   "metadata": {},
   "outputs": [
    {
     "name": "stdout",
     "output_type": "stream",
     "text": [
      "Programming is pretty cool\n"
     ]
    }
   ],
   "source": [
    "str4=\"pretty cool\"\n",
    "str5=\"Programming is %s\"%str4\n",
    "print(str5)"
   ]
  },
  {
   "cell_type": "code",
   "execution_count": 20,
   "id": "e6906616",
   "metadata": {},
   "outputs": [
    {
     "name": "stdout",
     "output_type": "stream",
     "text": [
      "I'm snow and i am 32 years old\n"
     ]
    }
   ],
   "source": [
    "print(\"I'm %s and i am %i years old\"%(\"snow\",32))"
   ]
  },
  {
   "cell_type": "code",
   "execution_count": 27,
   "id": "1e6a6810",
   "metadata": {},
   "outputs": [
    {
     "name": "stdout",
     "output_type": "stream",
     "text": [
      "This Is A Slightly More Complicated String\n"
     ]
    }
   ],
   "source": [
    "nestr= \"this IS a SliGhtly more ComplicaTed strINg\"\n",
    "pro1=nestr.lower()\n",
    "print(pro1.title())"
   ]
  },
  {
   "cell_type": "code",
   "execution_count": 28,
   "id": "15837714",
   "metadata": {},
   "outputs": [
    {
     "name": "stdout",
     "output_type": "stream",
     "text": [
      "gnirts detacilpmoc erom ylthgils a si siht\n"
     ]
    }
   ],
   "source": [
    "print(pro1[::-1])"
   ]
  },
  {
   "cell_type": "code",
   "execution_count": null,
   "id": "147f2033",
   "metadata": {},
   "outputs": [],
   "source": [
    "\"\"\"\n",
    "Programming in Python for Social Science\n",
    "Phillip Brooker\n",
    "\n",
    "6. 1. FUNCTIONS\n",
    "\"\"\"\n",
    "\n",
    "#Functions are a core concept of Python. Let's see how they work. Try calling\n",
    "#myFunction() by typing \"myFunction()\" in the shell:\n",
    "\n",
    "def myFunction():\n",
    "    print(\"Thanks for printing myFunction()!\")\n",
    "\n",
    "#Now let's build something a little more complex - let's build a function\n",
    "#that can take numbers that we pass it and check if they're even (and, if\n",
    "#they're even, store them in a list).\n",
    "\n",
    "even_numbers = []\n",
    "def isEven(num):\n",
    "    if num % 2 == 0:\n",
    "        even_numbers.append(num)\n",
    "        return(\"This number is even. I'll add it to the list.\")\n",
    "    else:\n",
    "        return(\"This number is odd.\")\n",
    "\n",
    "#Can you explain in words what this function is doing, line-by-line? Try\n",
    "#writing it out and \"reverse engineering\" the function, to better understand\n",
    "#how it works and what it does.\n",
    "\n",
    "#Try using isEven(num) with different numbers in place of \"num\" to see what\n",
    "#happens. Throw a selection of numbers at this function, then check to see\n",
    "#what's in the even_numbers list to see if it's working as you'd expect.\n",
    "\n",
    "\"\"\"\n",
    "EXERCISE:\n",
    "I'm hungry - will you order me a pizza? Create a function for checking whether\n",
    "or not I like various ingredients on a pizza, and return the results as a\n",
    "string. As part of your checking, you should also check to see if the input is\n",
    "actually a string or not (since I defintely DON'T like integers and floats on\n",
    "my pizza). I'll give you a few hints:\n",
    "\n",
    "* It will DEFINITELY help if you plan out your code in advance with a script\n",
    "  workflow (see section 1. 4. for further details).\n",
    "* topping_list below contains details of all the ingredients I like.\n",
    "* You can use \"in\" as a way to see if something appears within any given list\n",
    "  (i.e. \"if THING in LIST\" etc). \n",
    "* Think about the various techniques you'll need to use to do all this work -\n",
    "  you DO know all these already, but may need to review earlier sections to\n",
    "  refresh your memory.\n",
    "\"\"\"\n",
    "\n",
    "topping_list = [\"cheese\", \"pepperoni\", \"sausage\", \"bacon\", \"anchovies\",\n",
    "                \"salami\", \"chorizo\", \"ham\", \"jalapenos\", \"pineapple\",\n",
    "                \"olives\", \"tomatoes\"]"
   ]
  },
  {
   "cell_type": "code",
   "execution_count": 6,
   "id": "7164c49c",
   "metadata": {},
   "outputs": [
    {
     "name": "stdout",
     "output_type": "stream",
     "text": [
      "good morning Mary!\n"
     ]
    }
   ],
   "source": [
    "def myfunction(n):\n",
    "    print(\"good morning\",n+\"!\")\n",
    "\n",
    "myfunction(\"Mary\")\n",
    "    "
   ]
  },
  {
   "cell_type": "code",
   "execution_count": 12,
   "id": "bb503f7a",
   "metadata": {},
   "outputs": [
    {
     "name": "stdout",
     "output_type": "stream",
     "text": [
      "enter8\n",
      "even,add to link\n"
     ]
    }
   ],
   "source": [
    "even_num=[]\n",
    "\n",
    "def checkeven(n):\n",
    "    if n%2==0:\n",
    "        even_num.append(n)\n",
    "        print(\"even,add to link\")\n",
    "    else:\n",
    "        print(\"not even\")\n",
    "\n",
    "num=int(input(\"enter\"))\n",
    "checkeven(num)"
   ]
  },
  {
   "cell_type": "code",
   "execution_count": 13,
   "id": "ae65c7fc",
   "metadata": {},
   "outputs": [
    {
     "name": "stdout",
     "output_type": "stream",
     "text": [
      "[8]\n"
     ]
    }
   ],
   "source": [
    "print(even_num)"
   ]
  },
  {
   "cell_type": "code",
   "execution_count": 28,
   "id": "37b17bc1",
   "metadata": {},
   "outputs": [],
   "source": [
    "topping_list = [\"cheese\", \"pepperoni\", \"sausage\", \"bacon\", \"anchovies\",\n",
    "                \"salami\", \"chorizo\", \"ham\", \"jalapenos\", \"pineapple\",\n",
    "                \"olives\", \"tomatoes\"]"
   ]
  },
  {
   "cell_type": "code",
   "execution_count": 31,
   "id": "55811037",
   "metadata": {},
   "outputs": [],
   "source": [
    "def ifmyfood(f):\n",
    "    if type(f)== str:\n",
    "        if f in topping_list:\n",
    "            return(\"that's my food! I like %s\"%f)\n",
    "        else:\n",
    "            return(\"not my food. I hate %s on pizza\"%f)\n",
    "    else:\n",
    "        return(\"try a string\")"
   ]
  },
  {
   "cell_type": "code",
   "execution_count": null,
   "id": "a1c667ad",
   "metadata": {},
   "outputs": [],
   "source": [
    "\"\"\"\n",
    "Programming in Python for Social Science\n",
    "Phillip Brooker\n",
    "\n",
    "6. 2. 1. LOOPS AND LIST COMPREHENSION\n",
    "\"\"\"\n",
    "\n",
    "#So far, when we've been working with conditional logic and functions, we've\n",
    "#had to pass arguments around \"manually\" (i.e. by typing commands in the\n",
    "#shell). This is a little tedious and time-consuming. Wouldn't it be great if\n",
    "#we could automate the process? This is the kind of thing we can do with loops.\n",
    "\n",
    "#The below code is a \"Fizzbuzz\" script. You may have played \"Fizzbuzz\" in\n",
    "#school, but if not, the rules are as follows: go through the numbers 1 to 100,\n",
    "#and say them out loud. For every number that divides evenly (i.e. no\n",
    "#remainder) by 3 say \"Fizz\", for every number that divides evenly by 5 say\n",
    "#\"Buzz\" and for every number that divides by both 5 and 3 say \"Fizzbuzz\".\n",
    "#\"Uncomment\" the code (i.e. get rid of the speech marks), run the script,\n",
    "#and see what happens.\n",
    "\n",
    "\"\"\"\n",
    "for number in range(1,101):\n",
    "    if number % 5 == 0 and number % 3 == 0:\n",
    "        print(\"FizzBuzz\")\n",
    "    elif number % 3 == 0:\n",
    "        print(\"Fizz\")\n",
    "    elif number % 5 == 0:\n",
    "        print(\"Buzz\")\n",
    "    else:\n",
    "        print(number)\n",
    "\"\"\"\n",
    "\n",
    "#Can you see what the for loop does here? It iterates through a range of numbers\n",
    "#from 1 to 101 (the last number in the range is not included), and calls each\n",
    "#one \"number\" for the purposes of the logic that follows. Then, it moves to\n",
    "#the next \"number\" and repeats until we've gone through all the numbers in the\n",
    "#range we've set.\n",
    "\n",
    "#Another way to do this is with a \"While Loop\", which can iterate a job for as\n",
    "#long as a certain condition is satisfied. NOTE: when using while loops we have\n",
    "#to also build in a way to CHANGE whether or not the condition is satisfied.\n",
    "#Below I do this by building in \"number = number + 1\" to the loop. Can you see\n",
    "#what sort of problem might arise if my \"while\" condition was \"while 1 == 1:\"?\n",
    "#Try it! Uncomment this code, run it, see what happens, then make some tweaks\n",
    "#to play around and explore how the while loop operates.\n",
    "\n",
    "\"\"\"\n",
    "number = 0\n",
    "while number <= 99:\n",
    "    number = number + 1\n",
    "    if number % 5 == 0 and number % 3 == 0:\n",
    "        print(\"FizzBuzz\")\n",
    "    elif number % 3 == 0:\n",
    "        print(\"Fizz\")\n",
    "    elif number % 5 == 0:\n",
    "        print(\"Buzz\")\n",
    "    else:\n",
    "        print(number)\n",
    "\"\"\"\n",
    "\n",
    "#NOTE: it seems like we've used two different types of loop to do exactly the\n",
    "#same sort of task. This is true, so why are there two different types of loop?\n",
    "#You can see in the examples below (\"Loops in Action\") that the each type of\n",
    "#loop is appropriate in different contexts.\n",
    "\n",
    "#An added extra of for loops is the idea that we can use conditional logic and\n",
    "#loops WITHIN lists, to create NEW lists based on objects that we can iterate\n",
    "#through (i.e. strings, tuples, or even other lists). This is called \"list\n",
    "#comprehension\", and it works as follows:\n",
    "\n",
    "iterable_object = \"A string is an example of an iterable object.\"\n",
    "new_list = [item for item in iterable_object]\n",
    "\n",
    "#In the above code, the \"new_list\" variable will be where the new list is\n",
    "#stored. Then we tell Python that we're creating a list by using square\n",
    "#brackets. Then the first \"new_item\" refers to the thing that we want to put\n",
    "#in the list. \"for new_item in iterable_object\" means that for each item in\n",
    "#the object we want to iterate through, we will call that new_item and drop\n",
    "#it in \"new_list\". Try calling new_list to see what it contains.\n",
    "\n",
    "#We can also use conditional logic within list comprehensions, as follows:\n",
    "\n",
    "animal_list = [\"dog\", \"owl\", \"fox\", \"snake\", \"mouse\", \"squirrel\", \"fish\"]\n",
    "animals_w_legs = [animal for animal in animal_list\n",
    "                  if animal != \"snake\" and animal != \"fish\"]"
   ]
  },
  {
   "cell_type": "code",
   "execution_count": 38,
   "id": "659ec605",
   "metadata": {},
   "outputs": [
    {
     "name": "stdout",
     "output_type": "stream",
     "text": [
      "['A', ' ', 's', 't', 'r', 'i', 'n', 'g', ' ', 'i', 's', ' ', 'a', 'n', ' ', 'e', 'x', 'a', 'm', 'p', 'l', 'e', ' ', 'o', 'f', ' ', 'a', 'n', ' ', 'i', 't', 'e', 'r', 'a', 'b', 'l', 'e', ' ', 'o', 'b', 'j', 'e', 'c', 't', '.']\n"
     ]
    }
   ],
   "source": [
    "iterable_object = \"A string is an example of an iterable object.\"\n",
    "new_list = [item for item in iterable_object]\n",
    "print(new_list)"
   ]
  },
  {
   "cell_type": "code",
   "execution_count": 39,
   "id": "3f36ae5b",
   "metadata": {},
   "outputs": [],
   "source": [
    "\"\"\"\n",
    "Programming in Python for Social Science\n",
    "Phillip Brooker\n",
    "\n",
    "6. 2. 2. LOOPS AND LIST COMPREHENSION EXERCISE\n",
    "\"\"\"\n",
    "\n",
    "\"\"\"\n",
    "EXERCISE:\n",
    "Go through each word in \"word_list\" (below), and if a word contains the letter\n",
    "\"g\", put it in a new list. Do this two ways: (1) with a for loop, and (2) as a\n",
    "list comprehension.\n",
    "\"\"\"\n",
    "word_list = [\"able\", \"barrel\", \"beef\", \"beep\", \"biggest\", \"bookshelf\",\n",
    "             \"bottle\", \"broken\", \"chip\", \"chrome\", \"clay\", \"clip\",\n",
    "             \"colander\", \"collection\", \"complicated\", \"cousin\", \"crispy\",\n",
    "             \"dance\", \"drench\", \"drums\", \"egg\", \"elastic\", \"engine\", \"felt\",\n",
    "             \"fighting\", \"fine\", \"fire\", \"folder\", \"foolish\", \"freezing\",\n",
    "             \"fried\", \"fumble\", \"fuzzy\", \"gas\", \"green\", \"grief\", \"gross\",\n",
    "             \"grown\", \"harmonica\", \"hulking\", \"hybrid\", \"icon\", \"input\", \"jet\",\n",
    "             \"kindness\", \"lemon\", \"lurch\", \"melon\", \"mulch\", \"no\", \"obscuring\",\n",
    "             \"output\", \"political\", \"quit\", \"red\", \"regal\", \"rent\", \"retro\",\n",
    "             \"retry\", \"ride\", \"sad\", \"silly\", \"smell\", \"spatula\", \"steel\",\n",
    "             \"supermarket\", \"tab\", \"teeth\", \"tip\", \"tree\", \"trip\", \"tube\",\n",
    "             \"turtle\", \"unlikely\", \"varnish\", \"vine\", \"vulture\", \"wind\",\n",
    "             \"wing\", \"wink\", \"word\", \"written\", \"xenon\", \"yoghurt\", \"zesty\"]"
   ]
  },
  {
   "cell_type": "code",
   "execution_count": 40,
   "id": "cab81b8a",
   "metadata": {},
   "outputs": [
    {
     "name": "stdout",
     "output_type": "stream",
     "text": [
      "['biggest', 'egg', 'engine', 'fighting', 'freezing', 'gas', 'green', 'grief', 'gross', 'grown', 'hulking', 'obscuring', 'regal', 'wing', 'yoghurt']\n"
     ]
    }
   ],
   "source": [
    "newlis=[]\n",
    "for i in word_list:\n",
    "    if \"g\" in i:\n",
    "        newlis.append(i)\n",
    "print(newlis)    "
   ]
  },
  {
   "cell_type": "code",
   "execution_count": 42,
   "id": "d935d797",
   "metadata": {},
   "outputs": [],
   "source": [
    "newlis=[i for i in word_list if \"g\" in i]"
   ]
  },
  {
   "cell_type": "code",
   "execution_count": 43,
   "id": "49e1bdd5",
   "metadata": {},
   "outputs": [
    {
     "name": "stdout",
     "output_type": "stream",
     "text": [
      "['biggest', 'egg', 'engine', 'fighting', 'freezing', 'gas', 'green', 'grief', 'gross', 'grown', 'hulking', 'obscuring', 'regal', 'wing', 'yoghurt']\n"
     ]
    }
   ],
   "source": [
    "print(newlis)"
   ]
  },
  {
   "cell_type": "code",
   "execution_count": 45,
   "id": "5c1725c8",
   "metadata": {},
   "outputs": [
    {
     "name": "stdout",
     "output_type": "stream",
     "text": [
      "script start\n",
      "script end\n"
     ]
    }
   ],
   "source": [
    "import time\n",
    "print('script start')\n",
    "time.sleep(5)\n",
    "print(\"script end\")"
   ]
  },
  {
   "cell_type": "code",
   "execution_count": null,
   "id": "f0e32c58",
   "metadata": {},
   "outputs": [],
   "source": []
  }
 ],
 "metadata": {
  "kernelspec": {
   "display_name": "Python 3 (ipykernel)",
   "language": "python",
   "name": "python3"
  },
  "language_info": {
   "codemirror_mode": {
    "name": "ipython",
    "version": 3
   },
   "file_extension": ".py",
   "mimetype": "text/x-python",
   "name": "python",
   "nbconvert_exporter": "python",
   "pygments_lexer": "ipython3",
   "version": "3.11.4"
  }
 },
 "nbformat": 4,
 "nbformat_minor": 5
}
