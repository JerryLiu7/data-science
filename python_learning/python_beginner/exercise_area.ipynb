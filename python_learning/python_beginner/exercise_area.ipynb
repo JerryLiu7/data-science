{
 "cells": [
  {
   "cell_type": "code",
   "execution_count": 3,
   "id": "200fe4f6",
   "metadata": {},
   "outputs": [
    {
     "name": "stdout",
     "output_type": "stream",
     "text": [
      "enter a numberl\n",
      "wrong\n"
     ]
    }
   ],
   "source": [
    "# enter a number in proper form\n",
    "x= input(\"enter a number\")\n",
    "try:\n",
    "    test=int(x)\n",
    "    print(\"right\")\n",
    "except:\n",
    "    print(\"wrong\")"
   ]
  },
  {
   "cell_type": "code",
   "execution_count": 8,
   "id": "9fe02129",
   "metadata": {},
   "outputs": [
    {
     "name": "stdout",
     "output_type": "stream",
     "text": [
      "enterf\n",
      "wrong,try again\n",
      "_e\n",
      "wrong,try again\n",
      "_3\n",
      "good munber\n"
     ]
    }
   ],
   "source": [
    "# enter a number in proper form(until done)\n",
    "x=input(\"enter\")\n",
    "while True:\n",
    "    try:\n",
    "        e=int(x)\n",
    "        print(\"good munber\")\n",
    "        break\n",
    "    except:\n",
    "        print(\"wrong,try again\")\n",
    "        x=input(\"_\")   "
   ]
  },
  {
   "cell_type": "code",
   "execution_count": 8,
   "id": "3f9d9698",
   "metadata": {},
   "outputs": [
    {
     "name": "stdout",
     "output_type": "stream",
     "text": [
      "time of work45\n",
      "money by hour10\n",
      "475.0\n"
     ]
    }
   ],
   "source": [
    "#give the employee 1.5 times the hourly rate for hours worked above 40 hours. adding a test for the form of the input\n",
    "hours=input(\"time of work\")\n",
    "paym=input(\"money by hour\")\n",
    "try:\n",
    "    tesrh=int(hours)\n",
    "    testp=int(paym)\n",
    "except:\n",
    "    print(\"wrong input,do again\")\n",
    "    hours=input(\"time of work\")\n",
    "    paym=input(\"money by hour\")\n",
    "    \n",
    "    \n",
    "hours=int(hours)\n",
    "paym=int(paym)\n",
    "if hours<=40:\n",
    "    sala=hours*paym\n",
    "    print(sala)\n",
    "else:\n",
    "    sala=40*paym+(hours-40)*paym*1.5\n",
    "    print(sala)"
   ]
  },
  {
   "cell_type": "code",
   "execution_count": 9,
   "id": "2331e9ed",
   "metadata": {},
   "outputs": [
    {
     "name": "stdout",
     "output_type": "stream",
     "text": [
      "enter a number1\n",
      "enter a numberf\n",
      "wrong input\n",
      "enter a number2\n",
      "enter a number3\n",
      "enter a number4\n",
      "enter a number5\n",
      "enter a numberdone\n",
      "total: 15\n",
      "count: 5\n",
      "average: 3.0\n"
     ]
    }
   ],
   "source": [
    "#Write a program which repeatedly reads numbers until the user enters “done”. Once “done” is entered, print out the total, count,\n",
    "#and average of the numbers. If the user enters anything other than a number, detect their mistake using try and except and print an error\n",
    "#message and skip to the next number.\n",
    "total=0\n",
    "count=0\n",
    "ave=0\n",
    "\n",
    "while True:\n",
    "    x = input(\"enter a number\")\n",
    "    if x==\"done\":\n",
    "        break\n",
    "    try:\n",
    "        x=int(x)\n",
    "    except:\n",
    "        print(\"wrong input\")\n",
    "        continue\n",
    "    total+=x\n",
    "    count+=1\n",
    "    \n",
    "\n",
    "ave=total/count\n",
    "print(\"total:\",total)\n",
    "print(\"count:\",count)\n",
    "print(\"average:\",ave)\n"
   ]
  },
  {
   "cell_type": "code",
   "execution_count": 9,
   "id": "6aba0f6d",
   "metadata": {},
   "outputs": [
    {
     "name": "stdout",
     "output_type": "stream",
     "text": [
      "num:e\n",
      "no! again\n",
      "num:bf\n",
      "no! again\n",
      "num:2\n",
      "num:3\n",
      "num:1\n",
      "num:4\n",
      "num:5\n",
      "num:done\n",
      "count: 5\n",
      "total: 15\n",
      "average: 3.0\n"
     ]
    }
   ],
   "source": [
    "#Write a program which repeatedly reads numbers until the user enters “done”. Once “done” is entered, print out the total, count,\n",
    "#and average of the numbers. If the user enters anything other than a number, detect their mistake using try and except and print an error\n",
    "#message and skip to the next number.\n",
    "\n",
    "tot=0\n",
    "count=0\n",
    "while True:\n",
    "    x=input(\"num:\")\n",
    "    if x==\"done\":\n",
    "        break\n",
    "    try:\n",
    "        m=int(x)\n",
    "        tot+=m\n",
    "        count+=1\n",
    "    except:\n",
    "        print(\"no! again\")\n",
    "        \n",
    "print(\"count:\",count)\n",
    "print(\"total:\",tot)\n",
    "print(\"average:\",tot/count)"
   ]
  },
  {
   "cell_type": "code",
   "execution_count": 10,
   "id": "7b7c3b76",
   "metadata": {},
   "outputs": [
    {
     "name": "stdout",
     "output_type": "stream",
     "text": [
      "1 2 3\n",
      "3\n"
     ]
    }
   ],
   "source": [
    "#输入abc三个数（在一行中），输出其中最大值\n",
    "a,b,c=map(int,input().split())\n",
    "print(max(a,b,c))"
   ]
  },
  {
   "cell_type": "code",
   "execution_count": 12,
   "id": "cb283662",
   "metadata": {},
   "outputs": [
    {
     "name": "stdout",
     "output_type": "stream",
     "text": [
      "3 4 5\n",
      "5\n"
     ]
    }
   ],
   "source": [
    "a,b,c=map(int,input().split())\n",
    "print(max(a,b,c))"
   ]
  },
  {
   "cell_type": "code",
   "execution_count": 15,
   "id": "61d36ecc",
   "metadata": {},
   "outputs": [
    {
     "name": "stdout",
     "output_type": "stream",
     "text": [
      "30\n",
      "30.00\n"
     ]
    }
   ],
   "source": [
    "#取两位小数\n",
    "num=int(input())\n",
    "print(\"%.2f\"%num)"
   ]
  },
  {
   "cell_type": "code",
   "execution_count": 46,
   "id": "b92bdabf",
   "metadata": {},
   "outputs": [
    {
     "name": "stdout",
     "output_type": "stream",
     "text": [
      "153\n"
     ]
    }
   ],
   "source": [
    "#求1+2!+3!+4!+5!\n",
    "ele=1\n",
    "total=0\n",
    "\n",
    "for i in range(1,6):\n",
    "    ele=ele*i\n",
    "    while i>1:\n",
    "        i-=1\n",
    "        ele=ele*i\n",
    "    total+=ele\n",
    "    ele=1     \n",
    "print(total)"
   ]
  },
  {
   "cell_type": "code",
   "execution_count": 21,
   "id": "ec80be6a",
   "metadata": {},
   "outputs": [
    {
     "name": "stdout",
     "output_type": "stream",
     "text": [
      "153\n"
     ]
    }
   ],
   "source": [
    "#1+2!+3!+4!+5!\n",
    "\n",
    "tot=0\n",
    "m=1\n",
    "\n",
    "for i in range(1,6):\n",
    "    while i>0:\n",
    "        m=m*i\n",
    "        i-=1\n",
    "    if i==0:\n",
    "        tot+=m\n",
    "        m=1\n",
    "        continue\n",
    "print(tot)"
   ]
  },
  {
   "cell_type": "code",
   "execution_count": 39,
   "id": "e9ac31e5",
   "metadata": {},
   "outputs": [
    {
     "data": {
      "text/plain": [
       "[1, 2, 3, 4, 5]"
      ]
     },
     "execution_count": 39,
     "metadata": {},
     "output_type": "execute_result"
    }
   ],
   "source": [
    "list(range(1,6))"
   ]
  },
  {
   "cell_type": "code",
   "execution_count": null,
   "id": "0d00e0ae",
   "metadata": {},
   "outputs": [],
   "source": []
  },
  {
   "cell_type": "code",
   "execution_count": 50,
   "id": "1034fa09",
   "metadata": {},
   "outputs": [
    {
     "name": "stdout",
     "output_type": "stream",
     "text": [
      "c= -100 ->f= -148\n",
      "c= -95 ->f= -139\n",
      "c= -90 ->f= -130\n",
      "c= -85 ->f= -121\n",
      "c= -80 ->f= -112\n",
      "c= -75 ->f= -103\n",
      "c= -70 ->f= -94\n",
      "c= -65 ->f= -85\n",
      "c= -60 ->f= -76\n",
      "c= -55 ->f= -67\n",
      "c= -50 ->f= -58\n",
      "c= -45 ->f= -49\n",
      "c= -40 ->f= -40\n",
      "c= -35 ->f= -31\n",
      "c= -30 ->f= -22\n",
      "c= -25 ->f= -13\n",
      "c= -20 ->f= -4\n",
      "c= -15 ->f= 5\n",
      "c= -10 ->f= 14\n",
      "c= -5 ->f= 23\n",
      "c= 0 ->f= 32\n",
      "c= 5 ->f= 41\n",
      "c= 10 ->f= 50\n",
      "c= 15 ->f= 59\n",
      "c= 20 ->f= 68\n",
      "c= 25 ->f= 77\n",
      "c= 30 ->f= 86\n",
      "c= 35 ->f= 95\n",
      "c= 40 ->f= 104\n",
      "c= 45 ->f= 113\n",
      "c= 50 ->f= 122\n",
      "c= 55 ->f= 131\n",
      "c= 60 ->f= 140\n",
      "c= 65 ->f= 149\n",
      "c= 70 ->f= 158\n",
      "c= 75 ->f= 167\n",
      "c= 80 ->f= 176\n",
      "c= 85 ->f= 185\n",
      "c= 90 ->f= 194\n",
      "c= 95 ->f= 203\n",
      "c= 100 ->f= 212\n",
      "c= 105 ->f= 221\n",
      "c= 110 ->f= 230\n",
      "c= 115 ->f= 239\n",
      "c= 120 ->f= 248\n",
      "c= 125 ->f= 257\n",
      "c= 130 ->f= 266\n",
      "c= 135 ->f= 275\n",
      "c= 140 ->f= 284\n",
      "c= 145 ->f= 293\n",
      "c= 150 ->f= 302\n"
     ]
    }
   ],
   "source": [
    "#输出一张摄氏一华氏温度转换表，摄氏温度的取值区间是[-100oC，150oC ]，温度间隔5。\n",
    "#要求定义和调用函数 ctof(c),将摄氏温度C转换成华氏温度F，计算公式：\n",
    "# F = 32 + C* 9/5.例如: c=0->f=32   c=5->f=41\n",
    "def ctof(c):\n",
    "    f = 32+c*9/5\n",
    "    return int(f)\n",
    "c= -100\n",
    "while c<=150:\n",
    "    print(\"c=\",c,\"->f=\",ctof(c))\n",
    "    c+=5"
   ]
  },
  {
   "cell_type": "code",
   "execution_count": null,
   "id": "13e7f635",
   "metadata": {},
   "outputs": [],
   "source": []
  },
  {
   "cell_type": "code",
   "execution_count": 53,
   "id": "0ab1a2c3",
   "metadata": {},
   "outputs": [
    {
     "name": "stdout",
     "output_type": "stream",
     "text": [
      "2 2 4\n",
      "4\n"
     ]
    }
   ],
   "source": [
    "# 3个小朋友围坐成一圈,老师给每个小朋友随机发偶数个糖果，然后进行下面的游戏：\n",
    "#每个小朋友都把自己的糖果分一半给左手边的孩子,一轮分糖后拥有奇数颗糖的孩子由老师补给1个糖果,\n",
    "#直到所有小朋友的糖果数都相同为止。在已知的初始糖果情形下，老师一共需要补发多少个糖果?\n",
    "\n",
    "n1,n2,n3=map(int,input().split())\n",
    "count=0\n",
    "while True:\n",
    "    haf1=n1/2\n",
    "    haf2=n2/2\n",
    "    haf3=n3/2\n",
    "    n1=n1-haf1+haf3\n",
    "    n2=n2-haf2+haf1\n",
    "    n3=n3-haf3+haf2\n",
    "    if n1==n2 and n2==n3:\n",
    "        break\n",
    "    if n1%2!=0:\n",
    "        n1+=1\n",
    "        count+=1\n",
    "    if n2%2!=0:\n",
    "        n2+=1\n",
    "        count+=1\n",
    "    if n3%2!=0:\n",
    "        n3+=1\n",
    "        count+=1\n",
    "print(count)"
   ]
  },
  {
   "cell_type": "code",
   "execution_count": null,
   "id": "0450abde",
   "metadata": {},
   "outputs": [],
   "source": []
  },
  {
   "cell_type": "code",
   "execution_count": 54,
   "id": "0189ea3a",
   "metadata": {},
   "outputs": [
    {
     "name": "stdout",
     "output_type": "stream",
     "text": [
      "153\n"
     ]
    }
   ],
   "source": [
    "#求1+2!+3!+4!+5!  (153)\n",
    "ele=1\n",
    "total=0\n",
    "for i in range(1,6):\n",
    "    ele=ele*i\n",
    "    while i>1:\n",
    "        i-=1\n",
    "        ele=ele*i\n",
    "    total+=ele\n",
    "    ele=1\n",
    "print(total)"
   ]
  },
  {
   "cell_type": "code",
   "execution_count": null,
   "id": "bcacb0cb",
   "metadata": {},
   "outputs": [],
   "source": []
  },
  {
   "cell_type": "code",
   "execution_count": 55,
   "id": "95480428",
   "metadata": {},
   "outputs": [
    {
     "name": "stdout",
     "output_type": "stream",
     "text": [
      "2\n",
      "4\n",
      "8\n"
     ]
    }
   ],
   "source": [
    "#list_first = [1,2,3,4,5,6,7,8,9] list_second = [2,4,8,10,12,20] 找到两个列表中相同的数据\n",
    "list_first = [1,2,3,4,5,6,7,8,9]\n",
    "list_second = [2,4,8,10,12,20]\n",
    "for i in list_first:\n",
    "    for m in list_second:\n",
    "        if m == i:\n",
    "            print(m)\n",
    "    "
   ]
  },
  {
   "cell_type": "code",
   "execution_count": 4,
   "id": "50eaad72",
   "metadata": {},
   "outputs": [
    {
     "name": "stdout",
     "output_type": "stream",
     "text": [
      "2\n",
      "4\n",
      "8\n"
     ]
    }
   ],
   "source": [
    "list_first = [1,2,3,4,5,6,7,8,9]\n",
    "list_second = [2,4,8,10,12,20]\n",
    "for i in list_first:\n",
    "    for n in list_second:\n",
    "        if n == i:\n",
    "            print(n)"
   ]
  },
  {
   "cell_type": "code",
   "execution_count": 57,
   "id": "911af492",
   "metadata": {},
   "outputs": [
    {
     "name": "stdout",
     "output_type": "stream",
     "text": [
      "101\n",
      "102\n",
      "107\n",
      "121\n",
      "150\n"
     ]
    }
   ],
   "source": [
    "#index = [1,32,77,121,150] 对于小于100的数，把它每次加上10，直到大于100后再输出\n",
    "index = [1,32,77,121,150]\n",
    "for i in index:\n",
    "    while i<100:\n",
    "        i+=10\n",
    "    print(i)"
   ]
  },
  {
   "cell_type": "code",
   "execution_count": 28,
   "id": "cb2a5b0f",
   "metadata": {},
   "outputs": [
    {
     "name": "stdout",
     "output_type": "stream",
     "text": [
      "101\n",
      "102\n",
      "107\n",
      "121\n",
      "250\n"
     ]
    }
   ],
   "source": [
    "#index = [1,32,77,121,150] 对于小于100的数，把它每次加上10，直到大于100后再输出\n",
    "index=[1,32,77,121,250]\n",
    "for i in index:\n",
    "    while i<=100:\n",
    "        i+=10\n",
    "    print(i)"
   ]
  },
  {
   "cell_type": "code",
   "execution_count": 62,
   "id": "99be52a8",
   "metadata": {},
   "outputs": [
    {
     "name": "stdout",
     "output_type": "stream",
     "text": [
      "n= 5\n",
      "24690\n"
     ]
    }
   ],
   "source": [
    "#求Sn=a+aa+aaa+…+aa…aaa（有n个a）之值，其中a是一个数字，为2。 \n",
    "#例如，n=5时=2+22+222+2222+22222，n由键盘输入\n",
    "n=int(input(\"n= \"))\n",
    "nori=n\n",
    "ele=0\n",
    "total=0\n",
    "m=1\n",
    "while True:\n",
    "    ele=(10**(n-1))*2*m\n",
    "    total+=ele\n",
    "    m+=1\n",
    "    n-=1\n",
    "    ele=0\n",
    "    if n==0:\n",
    "        break\n",
    "print(total)"
   ]
  },
  {
   "cell_type": "code",
   "execution_count": null,
   "id": "978533e9",
   "metadata": {},
   "outputs": [],
   "source": []
  },
  {
   "cell_type": "code",
   "execution_count": 63,
   "id": "0e236650",
   "metadata": {},
   "outputs": [
    {
     "name": "stdout",
     "output_type": "stream",
     "text": [
      "100 50 10\n",
      "47977.93\n"
     ]
    }
   ],
   "source": [
    "#输入a，b，c，求1+2+...+a + 1^2+2^2+...+b^2 (平方和)+ 1/1+1/2+...+1/c，保留2位小数\n",
    "a,b,c=map(int,input().split())\n",
    "elea=0\n",
    "eleb=0\n",
    "elec=0\n",
    "for i in range(1,a+1):\n",
    "    elea+=i\n",
    "for i in range(1,b+1):\n",
    "    eleb+=i**2\n",
    "for i in range(1,c+1):\n",
    "    elec+=1/i\n",
    "tot=elea+eleb+elec\n",
    "print(\"%.2f\"%tot)\n"
   ]
  },
  {
   "cell_type": "code",
   "execution_count": null,
   "id": "e147c6d2",
   "metadata": {},
   "outputs": [],
   "source": []
  },
  {
   "cell_type": "code",
   "execution_count": 70,
   "id": "53bdd01e",
   "metadata": {},
   "outputs": [
    {
     "name": "stdout",
     "output_type": "stream",
     "text": [
      "153\n",
      "370\n",
      "371\n",
      "407\n"
     ]
    }
   ],
   "source": [
    "#打印出所有\"水仙花数\"，所谓\"水仙花数\"是指一个三位数，其各位数字立方和等于该本身\n",
    "#例如：153是一个水仙花数，因为153=1^3+5^3+3^3。 \n",
    "for i in range(100,1000):\n",
    "    ge=i%10\n",
    "    bai=i//100\n",
    "    shi=(i-ge-bai*100)/10\n",
    "    if i==ge**3+bai**3+shi**3:\n",
    "        print(i)\n",
    "    "
   ]
  },
  {
   "cell_type": "code",
   "execution_count": null,
   "id": "40432d80",
   "metadata": {},
   "outputs": [],
   "source": []
  },
  {
   "cell_type": "code",
   "execution_count": 75,
   "id": "6dc97baa",
   "metadata": {},
   "outputs": [
    {
     "name": "stdout",
     "output_type": "stream",
     "text": [
      "n=2\n",
      "4\n"
     ]
    }
   ],
   "source": [
    "#猴子第一天摘下若干个桃子，当即吃了一半，还不过瘾，又多吃了一个,以后每天早上都吃了前一天剩下的一半零一个\n",
    "#到第N天早上想再吃时，见只剩下一个桃子了。求第一天共摘多少桃子\n",
    "n=int(input(\"n=\"))\n",
    "fin = 1\n",
    "while n>1:\n",
    "    lastd = 2*(fin+1)\n",
    "    fin = lastd\n",
    "    n-=1\n",
    "print(lastd)"
   ]
  },
  {
   "cell_type": "code",
   "execution_count": null,
   "id": "a749133a",
   "metadata": {},
   "outputs": [],
   "source": []
  },
  {
   "cell_type": "code",
   "execution_count": 83,
   "id": "dd3e4d40",
   "metadata": {},
   "outputs": [
    {
     "name": "stdout",
     "output_type": "stream",
     "text": [
      "2\n",
      "3\n",
      "5\n",
      "7\n",
      "11\n",
      "13\n",
      "17\n",
      "19\n",
      "23\n",
      "29\n",
      "31\n",
      "37\n",
      "41\n",
      "43\n",
      "47\n",
      "53\n",
      "59\n",
      "61\n",
      "67\n",
      "71\n",
      "73\n",
      "79\n",
      "83\n",
      "89\n",
      "97\n"
     ]
    }
   ],
   "source": [
    "#用简单素数筛选法求N以内的素数\n",
    "n=100\n",
    "for i in range(2,n):\n",
    "    for m in range(2,i):\n",
    "        if i%m == 0:\n",
    "            break\n",
    "    else:\n",
    "        print(i)"
   ]
  },
  {
   "cell_type": "code",
   "execution_count": null,
   "id": "d0a5579a",
   "metadata": {},
   "outputs": [],
   "source": []
  },
  {
   "cell_type": "code",
   "execution_count": 1,
   "id": "9ca73d0e",
   "metadata": {},
   "outputs": [
    {
     "name": "stdout",
     "output_type": "stream",
     "text": [
      "2\n",
      "3\n",
      "5\n",
      "7\n",
      "11\n",
      "13\n",
      "17\n",
      "19\n",
      "23\n",
      "29\n",
      "31\n",
      "37\n",
      "41\n",
      "43\n",
      "47\n",
      "53\n",
      "59\n",
      "61\n",
      "67\n",
      "71\n",
      "73\n",
      "79\n",
      "83\n",
      "89\n",
      "97\n"
     ]
    }
   ],
   "source": [
    "#用简单素数筛选法求N以内的素数\n",
    "n=100\n",
    "for i in range(2,n):\n",
    "    for m in range(2,i):\n",
    "        if i%m == 0:\n",
    "            break\n",
    "    else:\n",
    "        print(i)\n"
   ]
  },
  {
   "cell_type": "code",
   "execution_count": null,
   "id": "254542d3",
   "metadata": {},
   "outputs": [],
   "source": []
  },
  {
   "cell_type": "code",
   "execution_count": 2,
   "id": "be512a1e",
   "metadata": {},
   "outputs": [
    {
     "name": "stdout",
     "output_type": "stream",
     "text": [
      "153\n",
      "370\n",
      "371\n",
      "407\n"
     ]
    }
   ],
   "source": [
    "#打印出所有\"水仙花数\"，所谓\"水仙花数\"是指一个三位数，其各位数字立方和等于该本身\n",
    "#例如：153是一个水仙花数，因为153=1^3+5^3+3^3。 \n",
    "for i in range(100,1000):\n",
    "    stri=str(i)\n",
    "    if int(stri[0])**3+int(stri[1])**3+int(stri[2])**3 == i:\n",
    "        print(i)"
   ]
  },
  {
   "cell_type": "code",
   "execution_count": null,
   "id": "f552509f",
   "metadata": {},
   "outputs": [],
   "source": []
  },
  {
   "cell_type": "code",
   "execution_count": 3,
   "id": "4b45630a",
   "metadata": {},
   "outputs": [
    {
     "name": "stdout",
     "output_type": "stream",
     "text": [
      "153\n"
     ]
    }
   ],
   "source": [
    "#求1+2!+3!+4!+5!  (153)\n",
    "ele=1\n",
    "total=0\n",
    "for i in range(1,6):\n",
    "    while i>1:\n",
    "        ele=ele*i\n",
    "        i-=1\n",
    "    total+=ele\n",
    "    ele=1\n",
    "print(total)        "
   ]
  },
  {
   "cell_type": "code",
   "execution_count": 3,
   "id": "26e31159",
   "metadata": {},
   "outputs": [
    {
     "data": {
      "text/plain": [
       "range"
      ]
     },
     "execution_count": 3,
     "metadata": {},
     "output_type": "execute_result"
    }
   ],
   "source": [
    "type(range(10))"
   ]
  },
  {
   "cell_type": "code",
   "execution_count": 9,
   "id": "0f700c3e",
   "metadata": {},
   "outputs": [
    {
     "name": "stdout",
     "output_type": "stream",
     "text": [
      "(0, 'a')\n",
      "(1, 'b')\n",
      "(2, 'c')\n",
      "(3, 'd')\n",
      "<class 'tuple'>\n",
      "0 a\n",
      "1 b\n",
      "2 c\n",
      "3 d\n"
     ]
    }
   ],
   "source": [
    "names=[\"a\",\"b\",\"c\",\"d\"]\n",
    "for i in enumerate(names):\n",
    "    print(i)\n",
    "print(type(i))\n",
    "    \n",
    "for i in names:\n",
    "    print(names.index(i),i)"
   ]
  },
  {
   "cell_type": "code",
   "execution_count": 17,
   "id": "bacb80be",
   "metadata": {},
   "outputs": [
    {
     "data": {
      "text/plain": [
       "[('a', 1), ('b', 2), ('c', 3), ('d', 4)]"
      ]
     },
     "execution_count": 17,
     "metadata": {},
     "output_type": "execute_result"
    }
   ],
   "source": [
    "names=[\"a\",\"b\",\"c\",\"d\"]\n",
    "pos=[1,2,3,4]\n",
    "list(zip(names,pos))"
   ]
  },
  {
   "cell_type": "code",
   "execution_count": 18,
   "id": "26da5825",
   "metadata": {},
   "outputs": [
    {
     "name": "stdout",
     "output_type": "stream",
     "text": [
      "40.6\n"
     ]
    }
   ],
   "source": [
    "age_list=[20,53,11,85,34]\n",
    "count=0\n",
    "tot=0\n",
    "for i in age_list:\n",
    "    count+=1\n",
    "    tot+=i\n",
    "ave=tot/count\n",
    "print(ave)"
   ]
  },
  {
   "cell_type": "code",
   "execution_count": 24,
   "id": "6e7da372",
   "metadata": {},
   "outputs": [
    {
     "name": "stdout",
     "output_type": "stream",
     "text": [
      "odd\n",
      "33\n"
     ]
    }
   ],
   "source": [
    "num=[38,12,10,33,14]\n",
    "for i in num:\n",
    "    if i%2 ==1:\n",
    "        print(\"odd\")\n",
    "        print(i)\n",
    "        break\n",
    "    elif i==10:\n",
    "        continue\n",
    "        print(i)\n",
    "        "
   ]
  },
  {
   "cell_type": "code",
   "execution_count": 26,
   "id": "1c0dcac7",
   "metadata": {},
   "outputs": [
    {
     "name": "stdout",
     "output_type": "stream",
     "text": [
      "[38, 12, 33, 14]\n"
     ]
    }
   ],
   "source": [
    "newli=[i for i in num if i>=12]\n",
    "print(newli)"
   ]
  },
  {
   "cell_type": "code",
   "execution_count": 28,
   "id": "bf411292",
   "metadata": {},
   "outputs": [
    {
     "data": {
      "text/plain": [
       "['good', 'morning']"
      ]
     },
     "execution_count": 28,
     "metadata": {},
     "output_type": "execute_result"
    }
   ],
   "source": [
    "words=[\"Good\",\"MoRning\"]\n",
    "lisw=[word.lower() for word in words]\n",
    "lisw"
   ]
  },
  {
   "cell_type": "code",
   "execution_count": null,
   "id": "1ee2c2bd",
   "metadata": {},
   "outputs": [],
   "source": []
  }
 ],
 "metadata": {
  "kernelspec": {
   "display_name": "Python 3 (ipykernel)",
   "language": "python",
   "name": "python3"
  },
  "language_info": {
   "codemirror_mode": {
    "name": "ipython",
    "version": 3
   },
   "file_extension": ".py",
   "mimetype": "text/x-python",
   "name": "python",
   "nbconvert_exporter": "python",
   "pygments_lexer": "ipython3",
   "version": "3.11.4"
  }
 },
 "nbformat": 4,
 "nbformat_minor": 5
}
