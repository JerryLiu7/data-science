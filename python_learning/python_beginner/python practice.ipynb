{
 "cells": [
  {
   "cell_type": "code",
   "execution_count": 2,
   "id": "42f8461b",
   "metadata": {},
   "outputs": [
    {
     "name": "stdout",
     "output_type": "stream",
     "text": [
      "not whole\n"
     ]
    }
   ],
   "source": [
    "x=8\n",
    "if x%3==0:\n",
    "    print(\"whole\")\n",
    "else:\n",
    "    print(\"not whole\")\n",
    "    "
   ]
  },
  {
   "cell_type": "code",
   "execution_count": 11,
   "id": "9dfb4772",
   "metadata": {},
   "outputs": [
    {
     "name": "stdout",
     "output_type": "stream",
     "text": [
      "x y are the same\n"
     ]
    }
   ],
   "source": [
    "x=10\n",
    "y=10\n",
    "z=10\n",
    "if x<y and x<z:\n",
    "    print(\"x is the least\")\n",
    "elif y>z:\n",
    "    print(\"y is the least\")\n",
    "elif x==y:\n",
    "    print(\"x y are the same\")\n",
    "else:\n",
    "    print(\"z is the least\")"
   ]
  },
  {
   "cell_type": "code",
   "execution_count": 18,
   "id": "7787b5d8",
   "metadata": {},
   "outputs": [
    {
     "name": "stdout",
     "output_type": "stream",
     "text": [
      "!\n"
     ]
    }
   ],
   "source": [
    "x=float(2.8)\n",
    "y=float(0.0)\n",
    "if x==y:\n",
    "    print(\"x and y are equal\")\n",
    "elif y!=0.0:\n",
    "    print(\"therefore x/y is\",x/y)\n",
    "else:\n",
    "    print(\"!\")"
   ]
  },
  {
   "cell_type": "code",
   "execution_count": 22,
   "id": "597858eb",
   "metadata": {},
   "outputs": [
    {
     "name": "stdout",
     "output_type": "stream",
     "text": [
      "13\n"
     ]
    }
   ],
   "source": [
    "x=2\n",
    "x=x*2\n",
    "y=9\n",
    "print(x + y)"
   ]
  },
  {
   "cell_type": "code",
   "execution_count": 42,
   "id": "929ba8c9",
   "metadata": {},
   "outputs": [
    {
     "name": "stdout",
     "output_type": "stream",
     "text": [
      "b\n",
      "a\n"
     ]
    }
   ],
   "source": [
    "x=\"a\"\n",
    "y=\"b\"\n",
    "temp=y\n",
    "y=x\n",
    "x=temp\n",
    "print(x) \n",
    "print(y)"
   ]
  },
  {
   "cell_type": "code",
   "execution_count": 44,
   "id": "dea62c20",
   "metadata": {},
   "outputs": [
    {
     "name": "stdout",
     "output_type": "stream",
     "text": [
      "whatever you like to typeorange juice\n"
     ]
    }
   ],
   "source": [
    "text=input(\"whatever you like to type\")"
   ]
  },
  {
   "cell_type": "code",
   "execution_count": 45,
   "id": "76858599",
   "metadata": {},
   "outputs": [
    {
     "data": {
      "text/plain": [
       "'orange juiceorange juiceorange juiceorange juiceorange juiceis good'"
      ]
     },
     "execution_count": 45,
     "metadata": {},
     "output_type": "execute_result"
    }
   ],
   "source": [
    "text*5+\"is good\""
   ]
  },
  {
   "cell_type": "code",
   "execution_count": 53,
   "id": "02115c09",
   "metadata": {},
   "outputs": [
    {
     "name": "stdout",
     "output_type": "stream",
     "text": [
      "type some number6\n"
     ]
    }
   ],
   "source": [
    "num=int(input(\"type some number\"))"
   ]
  },
  {
   "cell_type": "code",
   "execution_count": 54,
   "id": "8d414643",
   "metadata": {},
   "outputs": [
    {
     "data": {
      "text/plain": [
       "18"
      ]
     },
     "execution_count": 54,
     "metadata": {},
     "output_type": "execute_result"
    }
   ],
   "source": [
    "num*3"
   ]
  },
  {
   "cell_type": "code",
   "execution_count": null,
   "id": "5e5cdfd5",
   "metadata": {},
   "outputs": [],
   "source": [
    "choice=input(\"you are lost in a forest, left/right?\")\n",
    "while choice==\"right\":\n",
    "    choice=input(\"you are lost in a forest, left/right?\")\n",
    "print(\"u are out!\")"
   ]
  },
  {
   "cell_type": "code",
   "execution_count": null,
   "id": "736b6b45",
   "metadata": {},
   "outputs": [],
   "source": [
    "for m in range(7):\n",
    "    print (m)\n",
    "    "
   ]
  },
  {
   "cell_type": "code",
   "execution_count": 1,
   "id": "9547f6bc",
   "metadata": {},
   "outputs": [
    {
     "name": "stdout",
     "output_type": "stream",
     "text": [
      "11\n",
      "13\n",
      "16\n"
     ]
    }
   ],
   "source": [
    "oo=10\n",
    "for m in range(1,4):\n",
    "    oo=oo+m\n",
    "    print(oo)"
   ]
  },
  {
   "cell_type": "code",
   "execution_count": 2,
   "id": "a2cedb61",
   "metadata": {},
   "outputs": [
    {
     "name": "stdout",
     "output_type": "stream",
     "text": [
      "1\n",
      "4\n"
     ]
    }
   ],
   "source": [
    "for p in range(1,5,3):\n",
    "    print(p)"
   ]
  },
  {
   "cell_type": "code",
   "execution_count": 5,
   "id": "cd5ba10c",
   "metadata": {},
   "outputs": [
    {
     "name": "stdout",
     "output_type": "stream",
     "text": [
      "5\n"
     ]
    }
   ],
   "source": [
    "cup=2\n",
    "for m in range(1,5):\n",
    "    cup=cup+m\n",
    "    if cup == 5:\n",
    "        break\n",
    "print(cup)"
   ]
  },
  {
   "cell_type": "code",
   "execution_count": 6,
   "id": "f9db4d09",
   "metadata": {},
   "outputs": [
    {
     "name": "stdout",
     "output_type": "stream",
     "text": [
      "12\n"
     ]
    }
   ],
   "source": [
    "cup=2\n",
    "for m in range(1,5):\n",
    "    cup=cup+m\n",
    "    if cup == 2:\n",
    "        break\n",
    "print(cup)"
   ]
  },
  {
   "cell_type": "code",
   "execution_count": 1,
   "id": "660c7498",
   "metadata": {},
   "outputs": [
    {
     "name": "stdout",
     "output_type": "stream",
     "text": [
      "4**2=16\n"
     ]
    }
   ],
   "source": [
    "x=4\n",
    "times=x\n",
    "ans=0\n",
    "while times!=0:\n",
    "    ans=ans+x\n",
    "    times=times-1\n",
    "print(str(x)+\"**\"+\"2\"+\"=\"+str(ans))"
   ]
  },
  {
   "cell_type": "code",
   "execution_count": 2,
   "id": "f52dde33",
   "metadata": {},
   "outputs": [
    {
     "name": "stdout",
     "output_type": "stream",
     "text": [
      "10\n",
      "9\n",
      "8\n",
      "7\n",
      "6\n",
      "5\n",
      "4\n",
      "3\n",
      "2\n",
      "done\n"
     ]
    }
   ],
   "source": [
    "n=12\n",
    "while n>3:\n",
    "    print(n-2)\n",
    "    n=n-1\n",
    "print(\"done\")"
   ]
  },
  {
   "cell_type": "code",
   "execution_count": 2,
   "id": "45685e02",
   "metadata": {},
   "outputs": [
    {
     "name": "stdout",
     "output_type": "stream",
     "text": [
      "not whole\n"
     ]
    }
   ],
   "source": [
    "x=8\n",
    "if x%3==0:\n",
    "    print(\"whole\")\n",
    "else:\n",
    "    print(\"not whole\")\n",
    "    "
   ]
  },
  {
   "cell_type": "code",
   "execution_count": 2,
   "id": "ee24e9ba",
   "metadata": {},
   "outputs": [
    {
     "name": "stdout",
     "output_type": "stream",
     "text": [
      "not whole\n"
     ]
    }
   ],
   "source": [
    "x=8\n",
    "if x%3==0:\n",
    "    print(\"whole\")\n",
    "else:\n",
    "    print(\"not whole\")\n",
    "    "
   ]
  },
  {
   "cell_type": "code",
   "execution_count": 1,
   "id": "919dfebe",
   "metadata": {},
   "outputs": [
    {
     "name": "stdout",
     "output_type": "stream",
     "text": [
      "!\n"
     ]
    }
   ],
   "source": [
    "x=float(2.8)\n",
    "y=float(0.0)\n",
    "if x==y:\n",
    "    print(\"x and y are equal\")\n",
    "elif y!=0.0:\n",
    "    print(\"therefore x/y is\",x/y)\n",
    "else:\n",
    "    print(\"!\")"
   ]
  },
  {
   "cell_type": "code",
   "execution_count": null,
   "id": "3ded08f4",
   "metadata": {},
   "outputs": [],
   "source": [
    "x=10\n",
    "y=10\n",
    "z=10\n",
    "if x<y and x<z:\n",
    "    print(\"x is the least\")\n",
    "elif y>z:\n",
    "    print(\"y is the least\")\n",
    "elif x==y:\n",
    "    print(\"x y are the same\")\n",
    "else:\n",
    "    print(\"z is the least\")"
   ]
  },
  {
   "cell_type": "code",
   "execution_count": null,
   "id": "ab9fd273",
   "metadata": {},
   "outputs": [],
   "source": [
    "x=2\n",
    "x=x*2\n",
    "y=9\n",
    "print(x + y)"
   ]
  },
  {
   "cell_type": "code",
   "execution_count": null,
   "id": "0ea06523",
   "metadata": {},
   "outputs": [],
   "source": [
    "x=\"a\"\n",
    "y=\"b\"\n",
    "temp=y\n",
    "y=x\n",
    "x=temp\n",
    "print(x) \n",
    "print(y)"
   ]
  },
  {
   "cell_type": "code",
   "execution_count": null,
   "id": "737e6aec",
   "metadata": {},
   "outputs": [],
   "source": [
    "text=input(\"whatever you like to type\")"
   ]
  },
  {
   "cell_type": "code",
   "execution_count": null,
   "id": "04155ea0",
   "metadata": {},
   "outputs": [],
   "source": [
    "text*5+\"is good\""
   ]
  },
  {
   "cell_type": "code",
   "execution_count": null,
   "id": "92fe6c1d",
   "metadata": {},
   "outputs": [],
   "source": [
    "num=int(input(\"type some number\"))"
   ]
  },
  {
   "cell_type": "code",
   "execution_count": null,
   "id": "ad5936ed",
   "metadata": {},
   "outputs": [],
   "source": [
    "num*3"
   ]
  },
  {
   "cell_type": "code",
   "execution_count": null,
   "id": "14cb80e8",
   "metadata": {},
   "outputs": [],
   "source": [
    "choice=input(\"you are lost in a forest, left/right?\")\n",
    "while choice==\"right\":\n",
    "    choice=input(\"you are lost in a forest, left/right?\")\n",
    "print(\"u are out!\")"
   ]
  },
  {
   "cell_type": "code",
   "execution_count": null,
   "id": "31a4c4cb",
   "metadata": {},
   "outputs": [],
   "source": [
    "for m in range(7):\n",
    "    print (m)"
   ]
  },
  {
   "cell_type": "code",
   "execution_count": null,
   "id": "0792916a",
   "metadata": {},
   "outputs": [],
   "source": [
    "oo=10\n",
    "for m in range(1,4):\n",
    "    oo=oo+m\n",
    "    print(oo)"
   ]
  },
  {
   "cell_type": "code",
   "execution_count": null,
   "id": "5694b05c",
   "metadata": {},
   "outputs": [],
   "source": [
    "for p in range(1,5,3):\n",
    "    print(p)"
   ]
  },
  {
   "cell_type": "code",
   "execution_count": null,
   "id": "9b48ef35",
   "metadata": {},
   "outputs": [],
   "source": [
    "cup=2\n",
    "for m in range(1,5):\n",
    "    cup=cup+m\n",
    "    if cup == 5:\n",
    "        break\n",
    "print(cup)"
   ]
  },
  {
   "cell_type": "code",
   "execution_count": null,
   "id": "d9d9eec6",
   "metadata": {},
   "outputs": [],
   "source": [
    "x=4\n",
    "times=x\n",
    "ans=0\n",
    "while times!=0:\n",
    "    ans=ans+x\n",
    "    times=times-1\n",
    "print(str(x)+\"*\"+\"2\"+\"=\"+str(ans))"
   ]
  },
  {
   "cell_type": "code",
   "execution_count": null,
   "id": "75719611",
   "metadata": {},
   "outputs": [],
   "source": [
    "x=(int(input(\"input an x\")))\n",
    "ans=0\n",
    "\n",
    "while ans**3<x:\n",
    "    ans=ans+1\n",
    "    \n",
    "if ans**3!=x:\n",
    "    print(\"no root \")\n",
    "else :\n",
    "    print(\"the cube root for x is: \"+str(ans))"
   ]
  },
  {
   "cell_type": "code",
   "execution_count": null,
   "id": "0f86f680",
   "metadata": {},
   "outputs": [],
   "source": [
    "x=(int(input(\"input an x\")))\n",
    "ans=0\n",
    "while ans**3<abs(x):\n",
    "    ans=ans+1\n",
    "if ans**3!=abs(x):\n",
    "    print(\"no root\") \n",
    "elif x<0:\n",
    "    ans=-ans\n",
    "    print(\"the cube root for x is: \"+str(ans))"
   ]
  },
  {
   "cell_type": "code",
   "execution_count": 11,
   "id": "d453bb6c",
   "metadata": {},
   "outputs": [
    {
     "name": "stdout",
     "output_type": "stream",
     "text": [
      "x y are the same\n"
     ]
    }
   ],
   "source": [
    "x=10\n",
    "y=10\n",
    "z=10\n",
    "if x<y and x<z:\n",
    "    print(\"x is the least\")\n",
    "elif y>z:\n",
    "    print(\"y is the least\")\n",
    "elif x==y:\n",
    "    print(\"x y are the same\")\n",
    "else:\n",
    "    print(\"z is the least\")"
   ]
  },
  {
   "cell_type": "code",
   "execution_count": 18,
   "id": "2aefc571",
   "metadata": {},
   "outputs": [
    {
     "name": "stdout",
     "output_type": "stream",
     "text": [
      "!\n"
     ]
    }
   ],
   "source": [
    "x=float(2.8)\n",
    "y=float(0.0)\n",
    "if x==y:\n",
    "    print(\"x and y are equal\")\n",
    "elif y!=0.0:\n",
    "    print(\"therefore x/y is\",x/y)\n",
    "else:\n",
    "    print(\"!\")"
   ]
  },
  {
   "cell_type": "code",
   "execution_count": 22,
   "id": "be631092",
   "metadata": {},
   "outputs": [
    {
     "name": "stdout",
     "output_type": "stream",
     "text": [
      "13\n"
     ]
    }
   ],
   "source": [
    "x=2\n",
    "x=x*2\n",
    "y=9\n",
    "print(x + y)"
   ]
  },
  {
   "cell_type": "code",
   "execution_count": 42,
   "id": "7afba22d",
   "metadata": {},
   "outputs": [
    {
     "name": "stdout",
     "output_type": "stream",
     "text": [
      "b\n",
      "a\n"
     ]
    }
   ],
   "source": [
    "x=\"a\"\n",
    "y=\"b\"\n",
    "temp=y\n",
    "y=x\n",
    "x=temp\n",
    "print(x) \n",
    "print(y)"
   ]
  },
  {
   "cell_type": "code",
   "execution_count": 44,
   "id": "0f460d85",
   "metadata": {},
   "outputs": [
    {
     "name": "stdout",
     "output_type": "stream",
     "text": [
      "whatever you like to typeorange juice\n"
     ]
    }
   ],
   "source": [
    "text=input(\"whatever you like to type\")"
   ]
  },
  {
   "cell_type": "code",
   "execution_count": 45,
   "id": "f7742af0",
   "metadata": {},
   "outputs": [
    {
     "data": {
      "text/plain": [
       "'orange juiceorange juiceorange juiceorange juiceorange juiceis good'"
      ]
     },
     "execution_count": 45,
     "metadata": {},
     "output_type": "execute_result"
    }
   ],
   "source": [
    "text*5+\"is good\""
   ]
  },
  {
   "cell_type": "code",
   "execution_count": 53,
   "id": "13948592",
   "metadata": {},
   "outputs": [
    {
     "name": "stdout",
     "output_type": "stream",
     "text": [
      "type some number6\n"
     ]
    }
   ],
   "source": [
    "num=int(input(\"type some number\"))"
   ]
  },
  {
   "cell_type": "code",
   "execution_count": 54,
   "id": "acca67e3",
   "metadata": {
    "scrolled": true
   },
   "outputs": [
    {
     "data": {
      "text/plain": [
       "18"
      ]
     },
     "execution_count": 54,
     "metadata": {},
     "output_type": "execute_result"
    }
   ],
   "source": [
    "num*3"
   ]
  },
  {
   "cell_type": "code",
   "execution_count": null,
   "id": "ca7e6bfb",
   "metadata": {},
   "outputs": [],
   "source": [
    "choice=input(\"you are lost in a forest, left/right?\")\n",
    "while choice==\"right\":\n",
    "    choice=input(\"you are lost in a forest, left/right?\")\n",
    "print(\"u are out!\")"
   ]
  },
  {
   "cell_type": "code",
   "execution_count": null,
   "id": "433193e1",
   "metadata": {},
   "outputs": [],
   "source": [
    "for m in range(7):\n",
    "    print (m)\n",
    "    "
   ]
  },
  {
   "cell_type": "code",
   "execution_count": 1,
   "id": "8cf1d049",
   "metadata": {},
   "outputs": [
    {
     "name": "stdout",
     "output_type": "stream",
     "text": [
      "11\n",
      "13\n",
      "16\n"
     ]
    }
   ],
   "source": [
    "oo=10\n",
    "for m in range(1,4):\n",
    "    oo=oo+m\n",
    "    print(oo)"
   ]
  },
  {
   "cell_type": "code",
   "execution_count": 2,
   "id": "aa052f1b",
   "metadata": {},
   "outputs": [
    {
     "name": "stdout",
     "output_type": "stream",
     "text": [
      "1\n",
      "4\n"
     ]
    }
   ],
   "source": [
    "for p in range(1,5,3):\n",
    "    print(p)"
   ]
  },
  {
   "cell_type": "code",
   "execution_count": 5,
   "id": "0d2674ba",
   "metadata": {},
   "outputs": [
    {
     "name": "stdout",
     "output_type": "stream",
     "text": [
      "5\n"
     ]
    }
   ],
   "source": [
    "cup=2\n",
    "for m in range(1,5):\n",
    "    cup=cup+m\n",
    "    if cup == 5:\n",
    "        break\n",
    "print(cup)"
   ]
  },
  {
   "cell_type": "code",
   "execution_count": 6,
   "id": "f7ed108e",
   "metadata": {},
   "outputs": [
    {
     "name": "stdout",
     "output_type": "stream",
     "text": [
      "12\n"
     ]
    }
   ],
   "source": [
    "cup=2\n",
    "for m in range(1,5):\n",
    "    cup=cup+m\n",
    "    if cup == 2:\n",
    "        break\n",
    "print(cup)"
   ]
  },
  {
   "cell_type": "code",
   "execution_count": 8,
   "id": "a6f16724",
   "metadata": {},
   "outputs": [
    {
     "name": "stdout",
     "output_type": "stream",
     "text": [
      "4*2=16\n"
     ]
    }
   ],
   "source": [
    "x=4\n",
    "times=x\n",
    "ans=0\n",
    "while times!=0:\n",
    "    ans=ans+x\n",
    "    times=times-1\n",
    "print(str(x)+\"*\"+\"2\"+\"=\"+str(ans))"
   ]
  },
  {
   "cell_type": "code",
   "execution_count": 8,
   "id": "f83d8964",
   "metadata": {},
   "outputs": [
    {
     "name": "stdout",
     "output_type": "stream",
     "text": [
      "input an x27\n",
      "the cube root for x is: 3\n"
     ]
    }
   ],
   "source": [
    "x=(int(input(\"input an x\")))\n",
    "ans=0\n",
    "\n",
    "while ans**3<x:\n",
    "    ans=ans+1\n",
    "    \n",
    "if ans**3!=x:\n",
    "    print(\"no root \")\n",
    "else :\n",
    "    print(\"the cube root for x is: \"+str(ans))"
   ]
  },
  {
   "cell_type": "code",
   "execution_count": null,
   "id": "bf6e734a",
   "metadata": {},
   "outputs": [],
   "source": [
    "x=(int(input(\"input an x\")))\n",
    "ans=0\n",
    "while ans**3<abs(x):\n",
    "    ans=ans+1\n",
    "if ans**3!=abs(x):\n",
    "    print(\"no root\") \n",
    "elif x<0:\n",
    "    ans=-ans\n",
    "    print(\"the cube root for x is: \"+str(ans))"
   ]
  },
  {
   "cell_type": "code",
   "execution_count": null,
   "id": "7d0c252e",
   "metadata": {},
   "outputs": [],
   "source": []
  },
  {
   "cell_type": "code",
   "execution_count": 11,
   "id": "c6eef236",
   "metadata": {},
   "outputs": [
    {
     "name": "stdout",
     "output_type": "stream",
     "text": [
      "x y are the same\n"
     ]
    }
   ],
   "source": [
    "x=10\n",
    "y=10\n",
    "z=10\n",
    "if x<y and x<z:\n",
    "    print(\"x is the least\")\n",
    "elif y>z:\n",
    "    print(\"y is the least\")\n",
    "elif x==y:\n",
    "    print(\"x y are the same\")\n",
    "else:\n",
    "    print(\"z is the least\")"
   ]
  },
  {
   "cell_type": "code",
   "execution_count": 18,
   "id": "9152e5d0",
   "metadata": {},
   "outputs": [
    {
     "name": "stdout",
     "output_type": "stream",
     "text": [
      "!\n"
     ]
    }
   ],
   "source": [
    "x=float(2.8)\n",
    "y=float(0.0)\n",
    "if x==y:\n",
    "    print(\"x and y are equal\")\n",
    "elif y!=0.0:\n",
    "    print(\"therefore x/y is\",x/y)\n",
    "else:\n",
    "    print(\"!\")"
   ]
  },
  {
   "cell_type": "code",
   "execution_count": 22,
   "id": "9132b456",
   "metadata": {},
   "outputs": [
    {
     "name": "stdout",
     "output_type": "stream",
     "text": [
      "13\n"
     ]
    }
   ],
   "source": [
    "x=2\n",
    "x=x*2\n",
    "y=9\n",
    "print(x + y)"
   ]
  },
  {
   "cell_type": "code",
   "execution_count": 42,
   "id": "9e072216",
   "metadata": {},
   "outputs": [
    {
     "name": "stdout",
     "output_type": "stream",
     "text": [
      "b\n",
      "a\n"
     ]
    }
   ],
   "source": [
    "x=\"a\"\n",
    "y=\"b\"\n",
    "temp=y\n",
    "y=x\n",
    "x=temp\n",
    "print(x) \n",
    "print(y)"
   ]
  },
  {
   "cell_type": "code",
   "execution_count": 44,
   "id": "81b011cf",
   "metadata": {},
   "outputs": [
    {
     "name": "stdout",
     "output_type": "stream",
     "text": [
      "whatever you like to typeorange juice\n"
     ]
    }
   ],
   "source": [
    "text=input(\"whatever you like to type\")"
   ]
  },
  {
   "cell_type": "code",
   "execution_count": 45,
   "id": "4d1cc1df",
   "metadata": {},
   "outputs": [
    {
     "data": {
      "text/plain": [
       "'orange juiceorange juiceorange juiceorange juiceorange juiceis good'"
      ]
     },
     "execution_count": 45,
     "metadata": {},
     "output_type": "execute_result"
    }
   ],
   "source": [
    "text*5+\"is good\""
   ]
  },
  {
   "cell_type": "code",
   "execution_count": 53,
   "id": "3da4d356",
   "metadata": {},
   "outputs": [
    {
     "name": "stdout",
     "output_type": "stream",
     "text": [
      "type some number6\n"
     ]
    }
   ],
   "source": [
    "num=int(input(\"type some number\"))"
   ]
  },
  {
   "cell_type": "code",
   "execution_count": 54,
   "id": "f6dc5187",
   "metadata": {
    "scrolled": true
   },
   "outputs": [
    {
     "data": {
      "text/plain": [
       "18"
      ]
     },
     "execution_count": 54,
     "metadata": {},
     "output_type": "execute_result"
    }
   ],
   "source": [
    "num*3"
   ]
  },
  {
   "cell_type": "code",
   "execution_count": null,
   "id": "385d329b",
   "metadata": {},
   "outputs": [],
   "source": [
    "choice=input(\"you are lost in a forest, left/right?\")\n",
    "while choice==\"right\":\n",
    "    choice=input(\"you are lost in a forest, left/right?\")\n",
    "print(\"u are out!\")"
   ]
  },
  {
   "cell_type": "code",
   "execution_count": null,
   "id": "d10e6975",
   "metadata": {},
   "outputs": [],
   "source": [
    "for m in range(7):\n",
    "    print (m)\n",
    "    "
   ]
  },
  {
   "cell_type": "code",
   "execution_count": 1,
   "id": "acef7c31",
   "metadata": {},
   "outputs": [
    {
     "name": "stdout",
     "output_type": "stream",
     "text": [
      "11\n",
      "13\n",
      "16\n"
     ]
    }
   ],
   "source": [
    "oo=10\n",
    "for m in range(1,4):\n",
    "    oo=oo+m\n",
    "    print(oo)"
   ]
  },
  {
   "cell_type": "code",
   "execution_count": 2,
   "id": "a7db53e5",
   "metadata": {},
   "outputs": [
    {
     "name": "stdout",
     "output_type": "stream",
     "text": [
      "1\n",
      "4\n"
     ]
    }
   ],
   "source": [
    "for p in range(1,5,3):\n",
    "    print(p)"
   ]
  },
  {
   "cell_type": "code",
   "execution_count": 5,
   "id": "0fb3a2b2",
   "metadata": {},
   "outputs": [
    {
     "name": "stdout",
     "output_type": "stream",
     "text": [
      "5\n"
     ]
    }
   ],
   "source": [
    "cup=2\n",
    "for m in range(1,5):\n",
    "    cup=cup+m\n",
    "    if cup == 5:\n",
    "        break\n",
    "print(cup)"
   ]
  },
  {
   "cell_type": "code",
   "execution_count": 6,
   "id": "cda5d84b",
   "metadata": {},
   "outputs": [
    {
     "name": "stdout",
     "output_type": "stream",
     "text": [
      "12\n"
     ]
    }
   ],
   "source": [
    "cup=2\n",
    "for m in range(1,5):\n",
    "    cup=cup+m\n",
    "    if cup == 2:\n",
    "        break\n",
    "print(cup)"
   ]
  },
  {
   "cell_type": "code",
   "execution_count": 8,
   "id": "5a891df4",
   "metadata": {},
   "outputs": [
    {
     "name": "stdout",
     "output_type": "stream",
     "text": [
      "4*2=16\n"
     ]
    }
   ],
   "source": [
    "x=4\n",
    "times=x\n",
    "ans=0\n",
    "while times!=0:\n",
    "    ans=ans+x\n",
    "    times=times-1\n",
    "print(str(x)+\"*\"+\"2\"+\"=\"+str(ans))"
   ]
  },
  {
   "cell_type": "code",
   "execution_count": 8,
   "id": "17ea5b59",
   "metadata": {},
   "outputs": [
    {
     "name": "stdout",
     "output_type": "stream",
     "text": [
      "input an x27\n",
      "the cube root for x is: 3\n"
     ]
    }
   ],
   "source": [
    "x=(int(input(\"input an x\")))\n",
    "ans=0\n",
    "\n",
    "while ans**3<x:\n",
    "    ans=ans+1\n",
    "    \n",
    "if ans**3!=x:\n",
    "    print(\"no root \")\n",
    "else :\n",
    "    print(\"the cube root for x is: \"+str(ans))"
   ]
  },
  {
   "cell_type": "code",
   "execution_count": null,
   "id": "6ecb92ad",
   "metadata": {},
   "outputs": [],
   "source": [
    "x=(int(input(\"input an x\")))\n",
    "ans=0\n",
    "while ans**3<abs(x):\n",
    "    ans=ans+1\n",
    "if ans**3!=abs(x):\n",
    "    print(\"no root\") \n",
    "elif x<0:\n",
    "    ans=-ans\n",
    "    print(\"the cube root for x is: \"+str(ans))"
   ]
  },
  {
   "cell_type": "code",
   "execution_count": null,
   "id": "66bde26c",
   "metadata": {},
   "outputs": [],
   "source": []
  },
  {
   "cell_type": "code",
   "execution_count": 8,
   "id": "b0a42438",
   "metadata": {},
   "outputs": [
    {
     "name": "stdout",
     "output_type": "stream",
     "text": [
      "input an x27\n",
      "the cube root for x is: 3\n"
     ]
    }
   ],
   "source": [
    "x=(int(input(\"input an x\")))\n",
    "ans=0\n",
    "\n",
    "while ans**3<x:\n",
    "    ans=ans+1\n",
    "    \n",
    "if ans**3!=x:\n",
    "    print(\"no root \")\n",
    "else :\n",
    "    print(\"the cube root for x is: \"+str(ans))"
   ]
  },
  {
   "cell_type": "code",
   "execution_count": null,
   "id": "a7eebba3",
   "metadata": {},
   "outputs": [],
   "source": [
    "x=(int(input(\"input an x\")))\n",
    "ans=0\n",
    "while ans**3<abs(x):\n",
    "    ans=ans+1\n",
    "if ans**3!=abs(x):\n",
    "    print(\"no root\") \n",
    "elif x<0:\n",
    "    ans=-ans\n",
    "    print(\"the cube root for x is: \"+str(ans))"
   ]
  },
  {
   "cell_type": "code",
   "execution_count": 6,
   "id": "25e4bd5a",
   "metadata": {},
   "outputs": [
    {
     "name": "stdout",
     "output_type": "stream",
     "text": [
      "the cube root is: -2\n"
     ]
    }
   ],
   "source": [
    "cube=-8\n",
    "for gue in range(abs(cube)+1):\n",
    "    if gue**3>=abs(cube):\n",
    "        break\n",
    "if gue**3!=abs(cube):\n",
    "    print(\"no root\")\n",
    "elif cube<0:\n",
    "    gue=-gue\n",
    "    print(\"the cube root is: \"+str(gue))"
   ]
  },
  {
   "cell_type": "code",
   "execution_count": 30,
   "id": "fd421fb8",
   "metadata": {},
   "outputs": [
    {
     "name": "stdout",
     "output_type": "stream",
     "text": [
      "enter an x:-6\n",
      "no root\n"
     ]
    }
   ],
   "source": [
    "x=int(input(\"enter an x:\"))\n",
    "ans=0\n",
    "checkofneg=False\n",
    "if x<0:\n",
    "    chechofneg=True\n",
    "while ans**2<x:\n",
    "    ans=ans+1\n",
    "if ans**2==x:\n",
    "    print(\"the root of\",str(x),\"is\",str(ans))\n",
    "else:\n",
    "    print(\"no root\")\n",
    "    if checkofneg:\n",
    "        print(\"check if you mean \",-x,\"?\")\n",
    "    "
   ]
  },
  {
   "cell_type": "code",
   "execution_count": 34,
   "id": "cda9b69f",
   "metadata": {},
   "outputs": [
    {
     "name": "stdout",
     "output_type": "stream",
     "text": [
      "mello\n"
     ]
    }
   ],
   "source": [
    "aisatsu=\"hello\"\n",
    "aisatsu=\"m\"+aisatsu[1:]\n",
    "print(aisatsu)"
   ]
  },
  {
   "cell_type": "code",
   "execution_count": 36,
   "id": "d1fbe790",
   "metadata": {},
   "outputs": [
    {
     "name": "stdout",
     "output_type": "stream",
     "text": [
      "no i or p\n",
      "no i or p\n",
      "no i or p\n",
      "no i or p\n",
      "no i or p\n",
      "no i or p\n",
      "no i or p\n"
     ]
    }
   ],
   "source": [
    "s=\"abcdefg\"\n",
    "for char in range(len(s)):\n",
    "    if s[char]==\"i\" or s[char]==\"p\":\n",
    "        print(\"there's i or p\")\n",
    "    else:\n",
    "        print(\"no i or p\")"
   ]
  },
  {
   "cell_type": "code",
   "execution_count": 38,
   "id": "5d02e30e",
   "metadata": {},
   "outputs": [
    {
     "name": "stdout",
     "output_type": "stream",
     "text": [
      "no i or p\n",
      "no i or p\n",
      "no i or p\n",
      "no i or p\n",
      "no i or p\n",
      "no i or p\n",
      "no i or p\n"
     ]
    }
   ],
   "source": [
    "s=\"abcdefg\"\n",
    "for char in s:\n",
    "    if char==\"i\" or char==\"p\":\n",
    "        print(\"there's i or p\")\n",
    "    else:\n",
    "        print(\"no i or p\")\n",
    "    "
   ]
  },
  {
   "cell_type": "code",
   "execution_count": null,
   "id": "f3c6f9c7",
   "metadata": {},
   "outputs": [],
   "source": [
    "an_letters=\"aefhilmnorsxAEFHILMNORSX\"\n",
    "word=input(\"I'll cheer for you! Enter a word you like: \")\n",
    "i=0\n",
    "while i<len(word):\n",
    "    char=word[i]\n",
    "    i=i+1\n",
    "    if char in an_letters:\n",
    "        print(\"Give me an\",char+\"!\",char)\n",
    "    else:\n",
    "        print(\"Give me a\",char+\"!\",char)    \n",
    "print(\"what does it spell ?!\")\n",
    "for char in word:\n",
    "    print(word,\"!!!\")"
   ]
  },
  {
   "cell_type": "code",
   "execution_count": 7,
   "id": "0ca2694c",
   "metadata": {},
   "outputs": [
    {
     "name": "stdout",
     "output_type": "stream",
     "text": [
      "time of calculation: 29997\n",
      "2.999700000001906 is the cube rote of 27\n"
     ]
    }
   ],
   "source": [
    "cube=27\n",
    "guess=0.0\n",
    "increase=0.0001\n",
    "closeenough=0.01\n",
    "timeofcal=0\n",
    "while abs(guess**3-cube)>=closeenough:\n",
    "    guess=guess+increase\n",
    "    timeofcal=timeofcal+1\n",
    "print(\"time of calculation: \"+str(timeofcal))\n",
    "if abs(guess**3-cube)<closeenough:\n",
    "    print(str(guess)+\" is the cube rote of \"+str(cube))\n",
    "else:\n",
    "    print(\"no proper answer\")"
   ]
  },
  {
   "cell_type": "code",
   "execution_count": 15,
   "id": "4e7e33c9",
   "metadata": {},
   "outputs": [
    {
     "name": "stdout",
     "output_type": "stream",
     "text": [
      "enter an x(larger than 1):56\n",
      "7.483917236328125 is the square root of 56\n",
      "times of calculation: 14\n"
     ]
    }
   ],
   "source": [
    "x=int(input(\"enter an x(larger than 1):\"))\n",
    "epsilon=0.01\n",
    "low=1.0\n",
    "high=x\n",
    "ans=(high+low)/2\n",
    "numoftimes=0\n",
    "while abs(ans**2-x)>=epsilon:\n",
    "    numoftimes=numoftimes+1\n",
    "    if ans**2>x:\n",
    "        high=ans\n",
    "        ans=(high+low)/2\n",
    "    else:\n",
    "        low=ans\n",
    "        ans=(high+low)/2\n",
    "print(str(ans)+\" is the square root of \"+str(x))\n",
    "print(\"times of calculation: \"+str(numoftimes))"
   ]
  },
  {
   "cell_type": "code",
   "execution_count": 1,
   "id": "46d32555",
   "metadata": {},
   "outputs": [
    {
     "name": "stdout",
     "output_type": "stream",
     "text": [
      "enter an x(smaller than 1):0.46\n",
      "0.6781884765624999 is the square root of 0.46\n",
      "times of calculation: 11\n"
     ]
    }
   ],
   "source": [
    "x=float(input(\"enter an x(smaller than 1):\"))\n",
    "epsilon=0.0001\n",
    "low=x\n",
    "high=1.0\n",
    "ans=(high+low)/2\n",
    "numoftimes=0\n",
    "while abs(ans**2-x)>=epsilon:\n",
    "    numoftimes=numoftimes+1\n",
    "    if ans**2>x:\n",
    "        high=ans\n",
    "        ans=(high+low)/2\n",
    "    else:\n",
    "        low=ans\n",
    "        ans=(high+low)/2\n",
    "print(str(ans)+\" is the square root of \"+str(x))\n",
    "print(\"times of calculation: \"+str(numoftimes))"
   ]
  },
  {
   "cell_type": "code",
   "execution_count": 6,
   "id": "3d59af0b",
   "metadata": {},
   "outputs": [
    {
     "name": "stdout",
     "output_type": "stream",
     "text": [
      "input a number to calculate it's 二进制 :375\n",
      "101110111\n"
     ]
    }
   ],
   "source": [
    "num=int(input(\"input a number to calculate it's 二进制 :\"))\n",
    "if num<0:\n",
    "    isNeg= True\n",
    "    num=abs(num)\n",
    "else:\n",
    "    isNeg= False\n",
    "result=''\n",
    "if num==0:\n",
    "    result='0'\n",
    "while num>0:\n",
    "    result= str(num%2)+result\n",
    "    num=num//2\n",
    "if isNeg:\n",
    "    result=\"-\"+result\n",
    "print(result)"
   ]
  },
  {
   "cell_type": "code",
   "execution_count": 11,
   "id": "1208e8a6",
   "metadata": {},
   "outputs": [
    {
     "name": "stdout",
     "output_type": "stream",
     "text": [
      "enter a decimal number between 0 to 1:0.375\n",
      "remainder = 0.375\n",
      "remainder = 0.75\n",
      "remainder = 0.5\n",
      "the binary representation of the decimal 0.375 is .011\n"
     ]
    }
   ],
   "source": [
    "x=float(input(\"enter a decimal number between 0 to 1:\"))\n",
    "p=0\n",
    "while ((2**p)*x)%1 !=0:\n",
    "    print(\"remainder = \"+str((2**p)*x-int((2**p)*x)))\n",
    "    p=p+1\n",
    "num = int(x*(2**p))\n",
    "result=\"\"\n",
    "if num==0:\n",
    "    result=\"0\"\n",
    "while num>0:\n",
    "    result=str(num%2)+result\n",
    "    num=num//2\n",
    "for i in range(p-len(result)):\n",
    "    result=\"0\"+result\n",
    "result=result[0:-p]+\".\"+result[-p:]\n",
    "print(\"the binary representation of the decimal \"+str(x)+\" is \"+ str(result))"
   ]
  },
  {
   "cell_type": "code",
   "execution_count": 3,
   "id": "10b7d820",
   "metadata": {},
   "outputs": [
    {
     "name": "stdout",
     "output_type": "stream",
     "text": [
      "smaller\n",
      "finis\n"
     ]
    }
   ],
   "source": [
    "x=5\n",
    "if x<10:\n",
    "    print(\"smaller\")\n",
    "elif x>20:\n",
    "    print(\"Bigger\")\n",
    "print(\"finis\")"
   ]
  },
  {
   "cell_type": "code",
   "execution_count": 4,
   "id": "e536cb7c",
   "metadata": {},
   "outputs": [
    {
     "name": "stdout",
     "output_type": "stream",
     "text": [
      "5\n",
      "4\n",
      "3\n",
      "2\n",
      "1\n",
      "blastoff\n"
     ]
    }
   ],
   "source": [
    "n=5\n",
    "while n>0:\n",
    "    print(n)\n",
    "    n=n-1\n",
    "print(\"blastoff\")"
   ]
  },
  {
   "cell_type": "code",
   "execution_count": 5,
   "id": "3e0e28d1",
   "metadata": {},
   "outputs": [
    {
     "name": "stdout",
     "output_type": "stream",
     "text": [
      "4\n",
      "3\n",
      "2\n",
      "1\n",
      "0\n",
      "blastoff\n"
     ]
    }
   ],
   "source": [
    "n=5\n",
    "while n>0:\n",
    "    n=n-1\n",
    "    print(n)\n",
    "print(\"blastoff\")"
   ]
  },
  {
   "cell_type": "code",
   "execution_count": 12,
   "id": "845536fb",
   "metadata": {},
   "outputs": [
    {
     "name": "stdout",
     "output_type": "stream",
     "text": [
      "16\n"
     ]
    }
   ],
   "source": [
    "def f(a,b):\n",
    "    if b<0:\n",
    "        f=a+(-b)\n",
    "    else:\n",
    "        f=a+b\n",
    "    return f\n",
    "n=-7\n",
    "m=9\n",
    "print(f(m,n))"
   ]
  },
  {
   "cell_type": "code",
   "execution_count": 31,
   "id": "34abedb1",
   "metadata": {},
   "outputs": [
    {
     "name": "stdout",
     "output_type": "stream",
     "text": [
      "10\n"
     ]
    }
   ],
   "source": [
    "a=1\n",
    "b=6\n",
    "c=3\n",
    "def addst(a,b,c):\n",
    "    x=max(a,b,c)**2\n",
    "    return a**2+b**2+c**2-x\n",
    "print(addst(a,b,c))"
   ]
  },
  {
   "cell_type": "code",
   "execution_count": 24,
   "id": "75b6028d",
   "metadata": {},
   "outputs": [
    {
     "data": {
      "text/plain": [
       "<function max>"
      ]
     },
     "execution_count": 24,
     "metadata": {},
     "output_type": "execute_result"
    }
   ],
   "source": [
    "max"
   ]
  },
  {
   "cell_type": "code",
   "execution_count": 45,
   "id": "6506aa51",
   "metadata": {},
   "outputs": [
    {
     "name": "stdout",
     "output_type": "stream",
     "text": [
      "larger than 1: 10\n",
      "5.0\n"
     ]
    }
   ],
   "source": [
    "#Write a function that takes an integer n that is greater than 1 and returns the largest integer that is smaller than n and evenly divides n.\n",
    "n=float(input(\"larger than 1: \"))\n",
    "m=n-1\n",
    "while True:\n",
    "    if n%m==0:\n",
    "        print(m)\n",
    "        break\n",
    "    else:\n",
    "        m-=1        "
   ]
  },
  {
   "cell_type": "code",
   "execution_count": 52,
   "id": "3c89e280",
   "metadata": {},
   "outputs": [
    {
     "name": "stdout",
     "output_type": "stream",
     "text": [
      "n= 10\n",
      "5.0\n",
      "16.0\n",
      "8.0\n",
      "4.0\n",
      "2.0\n",
      "1.0\n"
     ]
    }
   ],
   "source": [
    "n=int(input(\"n= \"))\n",
    "while True:\n",
    "    if n%2==0:\n",
    "        n=n/2\n",
    "        print(n)\n",
    "    else:\n",
    "        n=n*3+1\n",
    "        print(n)\n",
    "    if n==1:\n",
    "        break"
   ]
  },
  {
   "cell_type": "code",
   "execution_count": 6,
   "id": "8060a1fd",
   "metadata": {},
   "outputs": [
    {
     "name": "stdout",
     "output_type": "stream",
     "text": [
      "nu4\n"
     ]
    },
    {
     "data": {
      "text/plain": [
       "10"
      ]
     },
     "execution_count": 6,
     "metadata": {},
     "output_type": "execute_result"
    }
   ],
   "source": [
    "def sumnnum(m):\n",
    "    total=0\n",
    "    ele=1\n",
    "    while m>=ele:\n",
    "        total+=ele\n",
    "        ele+=1\n",
    "    return total\n",
    "nu=int(input(\"nu\"))\n",
    "sumnnum(nu)        "
   ]
  },
  {
   "cell_type": "code",
   "execution_count": 7,
   "id": "3f65c26d",
   "metadata": {},
   "outputs": [
    {
     "data": {
      "text/plain": [
       "9"
      ]
     },
     "execution_count": 7,
     "metadata": {},
     "output_type": "execute_result"
    }
   ],
   "source": [
    "pow(3,2)"
   ]
  },
  {
   "cell_type": "code",
   "execution_count": 9,
   "id": "dbc7fb00",
   "metadata": {},
   "outputs": [
    {
     "name": "stdout",
     "output_type": "stream",
     "text": [
      "number: 3\n"
     ]
    },
    {
     "data": {
      "text/plain": [
       "36"
      ]
     },
     "execution_count": 9,
     "metadata": {},
     "output_type": "execute_result"
    }
   ],
   "source": [
    "def sum_cubes(m):\n",
    "    total,ele=0,1\n",
    "    while m>=ele:\n",
    "        total,ele=total+pow(ele,3),ele+1\n",
    "    return total\n",
    "nu=int(input(\"number: \"))\n",
    "sum_cubes(nu)"
   ]
  },
  {
   "cell_type": "code",
   "execution_count": 14,
   "id": "0a3fcfa6",
   "metadata": {},
   "outputs": [
    {
     "name": "stdout",
     "output_type": "stream",
     "text": [
      "number3\n"
     ]
    },
    {
     "data": {
      "text/plain": [
       "6"
      ]
     },
     "execution_count": 14,
     "metadata": {},
     "output_type": "execute_result"
    }
   ],
   "source": [
    "def ident(m):\n",
    "    return m\n",
    "def square(m):\n",
    "    return m**2\n",
    "def cube(m):\n",
    "    return m**3\n",
    "\n",
    "def sum_in_form(m):\n",
    "    total,ele=0,1\n",
    "    while m>=ele:\n",
    "        total,ele=total+ident(ele),ele+1\n",
    "        # add squares: total,ele=total+sqare(ele),ele+1\n",
    "        # add cubes: total,ele=total+cube(ele),ele+1\n",
    "    return total\n",
    "nu=int(input(\"number\"))\n",
    "sum_in_form(nu)"
   ]
  },
  {
   "cell_type": "code",
   "execution_count": 15,
   "id": "27759441",
   "metadata": {},
   "outputs": [
    {
     "data": {
      "text/plain": [
       "36"
      ]
     },
     "execution_count": 15,
     "metadata": {},
     "output_type": "execute_result"
    }
   ],
   "source": [
    "def ident(m):\n",
    "    return m\n",
    "def square(m):\n",
    "    return m**2\n",
    "def cube(m):\n",
    "    return m**3\n",
    "\n",
    "def sum_in_form(m,term):\n",
    "    total,ele=0,1\n",
    "    while m>=ele:\n",
    "        total,ele=total+term(ele),ele+1\n",
    "    return total\n",
    "\n",
    "sum_in_form(3,cube)"
   ]
  },
  {
   "cell_type": "code",
   "execution_count": 28,
   "id": "80554d42",
   "metadata": {},
   "outputs": [
    {
     "data": {
      "text/plain": [
       "11"
      ]
     },
     "execution_count": 28,
     "metadata": {},
     "output_type": "execute_result"
    }
   ],
   "source": [
    "#make_adder(1)(2)\n",
    "def make_adder(m):\n",
    "    def adder(x):\n",
    "        return m+x\n",
    "    return adder\n",
    "make_adder(1)(10)"
   ]
  },
  {
   "cell_type": "code",
   "execution_count": 22,
   "id": "639ababf",
   "metadata": {},
   "outputs": [
    {
     "name": "stdout",
     "output_type": "stream",
     "text": [
      "4\n"
     ]
    },
    {
     "data": {
      "text/plain": [
       "9"
      ]
     },
     "execution_count": 22,
     "metadata": {},
     "output_type": "execute_result"
    }
   ],
   "source": [
    "x=10\n",
    "square=lambda x:x*x\n",
    "print(square(2))\n",
    "(lambda x:x*x)(3)"
   ]
  },
  {
   "cell_type": "code",
   "execution_count": 33,
   "id": "6ec33c97",
   "metadata": {},
   "outputs": [
    {
     "name": "stdout",
     "output_type": "stream",
     "text": [
      "m134657867675\n",
      "f3\n",
      "5\n",
      "7\n",
      "6\n",
      "7\n",
      "6\n",
      "8\n",
      "7\n",
      "5\n",
      "6\n",
      "4\n",
      "3\n",
      "done\n"
     ]
    }
   ],
   "source": [
    "def end(m,f):\n",
    "    num=str(m)\n",
    "    fin=str(f)\n",
    "    pla=len(num)-1\n",
    "    while num[pla]!=fin:\n",
    "        print(num[pla])\n",
    "        if pla<0:\n",
    "            break\n",
    "            print(\"no answer\")\n",
    "        pla-=1\n",
    "    else:\n",
    "        print(num[pla])\n",
    "        print(\"done\")\n",
    "    \n",
    "m=int(input(\"m\"))\n",
    "f=int(input(\"f\"))\n",
    "end(m,f)"
   ]
  },
  {
   "cell_type": "code",
   "execution_count": 4,
   "id": "58ef9d29",
   "metadata": {},
   "outputs": [
    {
     "name": "stdout",
     "output_type": "stream",
     "text": [
      "10 20 30\n",
      "30\n"
     ]
    }
   ],
   "source": [
    "#输入abc，输出其中最大值\n",
    "a,b,c = map(int,input().split())\n",
    "li = [a,b,c]\n",
    "i = 0\n",
    "for n in li:\n",
    "    if i<= n:\n",
    "        i = n\n",
    "print(i)"
   ]
  },
  {
   "cell_type": "code",
   "execution_count": null,
   "id": "ade06f06",
   "metadata": {},
   "outputs": [],
   "source": []
  }
 ],
 "metadata": {
  "kernelspec": {
   "display_name": "Python 3 (ipykernel)",
   "language": "python",
   "name": "python3"
  },
  "language_info": {
   "codemirror_mode": {
    "name": "ipython",
    "version": 3
   },
   "file_extension": ".py",
   "mimetype": "text/x-python",
   "name": "python",
   "nbconvert_exporter": "python",
   "pygments_lexer": "ipython3",
   "version": "3.11.4"
  }
 },
 "nbformat": 4,
 "nbformat_minor": 5
}
