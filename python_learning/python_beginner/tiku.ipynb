{
 "cells": [
  {
   "cell_type": "code",
   "execution_count": 2,
   "id": "df8dcf35",
   "metadata": {},
   "outputs": [
    {
     "name": "stdout",
     "output_type": "stream",
     "text": [
      "10 20 30\n",
      "30\n"
     ]
    }
   ],
   "source": [
    "#输入abc三个数（在一行中），输出其中最大值\n",
    "a,b,c = map(int,input().split())\n",
    "li = [a,b,c]\n",
    "n = 0\n",
    "for i in li:\n",
    "    if n <= i:\n",
    "        n = i\n",
    "print(n)"
   ]
  },
  {
   "cell_type": "code",
   "execution_count": 3,
   "id": "a7b1b298",
   "metadata": {},
   "outputs": [
    {
     "name": "stdout",
     "output_type": "stream",
     "text": [
      "10 20 40\n",
      "40\n"
     ]
    }
   ],
   "source": [
    "a,b,c = map(int,input().split())\n",
    "li = [a,b,c]\n",
    "print(max(li))"
   ]
  },
  {
   "cell_type": "code",
   "execution_count": 8,
   "id": "fec17e5b",
   "metadata": {},
   "outputs": [
    {
     "name": "stdout",
     "output_type": "stream",
     "text": [
      "12 5\n",
      "2\n"
     ]
    }
   ],
   "source": [
    "a,b = map(int,input().split())\n",
    "print(a%b)"
   ]
  },
  {
   "cell_type": "code",
   "execution_count": 20,
   "id": "15b0686d",
   "metadata": {},
   "outputs": [
    {
     "name": "stdout",
     "output_type": "stream",
     "text": [
      "3 4 5\n",
      "6.0 6.0\n"
     ]
    }
   ],
   "source": [
    "#三角形面积=SQRT(S*(S-a)*(S-b)*(S-c)) 其中S=(a+b+c)/2，a、b、c为三角形的三边\n",
    "#定义两个带参的宏，一个用来求area，另一个宏用来求S。写程序，在程序中用带实参的宏名来求面积area\n",
    "import math\n",
    "a,b,c = map(int,input().split())\n",
    "s = (a+b+c)/2\n",
    "area=math.sqrt(s*(s-a)*(s-b)*(s-c))\n",
    "print(area,s)"
   ]
  },
  {
   "cell_type": "code",
   "execution_count": 29,
   "id": "91b54b18",
   "metadata": {},
   "outputs": [
    {
     "name": "stdout",
     "output_type": "stream",
     "text": [
      "1 2\n",
      "3\n"
     ]
    }
   ],
   "source": [
    "y,s = map(int,input().split())\n",
    "mon = 0\n",
    "if y+s == 2:\n",
    "    mon = 10\n",
    "if y == 2 and s == 2:\n",
    "    mon = 5\n",
    "if y == 1 or s == 1:\n",
    "    if y+s >2:\n",
    "        mon = 3\n",
    "if y == 3 or s == 3:\n",
    "    mon =0\n",
    "print(mon)"
   ]
  },
  {
   "cell_type": "code",
   "execution_count": 32,
   "id": "807d2628",
   "metadata": {},
   "outputs": [
    {
     "name": "stdout",
     "output_type": "stream",
     "text": [
      "grade: 74\n",
      "C\n"
     ]
    }
   ],
   "source": [
    "#给出一百分制成绩，要求输出成绩等级‘A’、‘B’、‘C’、‘D’、‘E’\n",
    "#90分以及90分以上为A，80-89分为B，70-79分为C，60-69分为D，60分以下为E\n",
    "gra=int(input(\"grade: \"))\n",
    "if gra >= 90:\n",
    "    print(\"A\")\n",
    "elif gra >= 80:\n",
    "    print(\"B\")\n",
    "elif gra >= 70:\n",
    "    print(\"C\")\n",
    "elif gra >= 60:\n",
    "    print(\"D\")\n",
    "else:\n",
    "    print(\"E\")"
   ]
  },
  {
   "cell_type": "code",
   "execution_count": 40,
   "id": "d9a6d78f",
   "metadata": {},
   "outputs": [
    {
     "name": "stdout",
     "output_type": "stream",
     "text": [
      "x= 5\n",
      "15\n"
     ]
    }
   ],
   "source": [
    "x=int(input(\"x= \"))\n",
    "if x < 0:\n",
    "    x = abs(x)\n",
    "elif x>=0 and x<2:\n",
    "    x = sqrt(x+1)\n",
    "elif x>=2 and x<4:\n",
    "    x = (x+2)**5\n",
    "elif x >= 4:\n",
    "    x = 2*x+5\n",
    "print(x)"
   ]
  },
  {
   "cell_type": "code",
   "execution_count": null,
   "id": "231f9e7a",
   "metadata": {},
   "outputs": [
    {
     "name": "stdout",
     "output_type": "stream",
     "text": [
      "0 2\n",
      "A win\n",
      "2 1\n",
      "A win\n"
     ]
    }
   ],
   "source": [
    "while True:\n",
    "    a,b = map(int,input().split())\n",
    "    if a==b:\n",
    "        print(\"again\")\n",
    "        continue\n",
    "    \n",
    "    if a*b == 0 and a+b == 2:\n",
    "        if a ==0:\n",
    "            print(\"A win\")\n",
    "        elif b == 0:\n",
    "            print(\"B win\")\n",
    "    elif a < b:\n",
    "            print(\"B win\")\n",
    "    else:\n",
    "        print(\"A win\")"
   ]
  },
  {
   "cell_type": "code",
   "execution_count": 2,
   "id": "710ce2be",
   "metadata": {},
   "outputs": [
    {
     "name": "stdout",
     "output_type": "stream",
     "text": [
      "input f-40\n",
      "-40.00\n"
     ]
    }
   ],
   "source": [
    "#取两位小数\n",
    "f = int(input(\"input f\"))\n",
    "c = 5*(f-32)/9\n",
    "c = \"%.2f\"%c\n",
    "print(c)"
   ]
  },
  {
   "cell_type": "code",
   "execution_count": 5,
   "id": "315b6568",
   "metadata": {},
   "outputs": [
    {
     "name": "stdout",
     "output_type": "stream",
     "text": [
      "3 4 +\n",
      "7\n"
     ]
    }
   ],
   "source": [
    "a,b,oper = map(str,input().split())\n",
    "a = int(a)\n",
    "b = int(b)\n",
    "if oper == \"+\":\n",
    "    print(a+b)\n",
    "elif oper == \"-\":\n",
    "    print(a-b)\n",
    "elif oper == \"*\":\n",
    "    print(a*b)\n",
    "elif oper == \"/\":\n",
    "    print(a/b)\n",
    "elif oper == \"%\":\n",
    "    print(a%b)\n"
   ]
  },
  {
   "cell_type": "code",
   "execution_count": 10,
   "id": "5d1f9b69",
   "metadata": {},
   "outputs": [
    {
     "name": "stdout",
     "output_type": "stream",
     "text": [
      "153.00\n"
     ]
    }
   ],
   "source": [
    "#求1+2!+3!+4!+5!\n",
    "num = range(6)\n",
    "total = 0\n",
    "tot=1\n",
    "for i in num:\n",
    "    tot = tot*i\n",
    "    while i>1:\n",
    "        i=i-1\n",
    "        tot = tot*i\n",
    "    total +=tot\n",
    "    tot=1\n",
    "\n",
    "print(\"%.2f\"%total)\n",
    "        "
   ]
  },
  {
   "cell_type": "code",
   "execution_count": 15,
   "id": "578cae1c",
   "metadata": {},
   "outputs": [
    {
     "name": "stdout",
     "output_type": "stream",
     "text": [
      "c= -100 -> f= -148\n",
      "c= -95 -> f= -139\n",
      "c= -90 -> f= -130\n",
      "c= -85 -> f= -121\n",
      "c= -80 -> f= -112\n",
      "c= -75 -> f= -103\n",
      "c= -70 -> f= -94\n",
      "c= -65 -> f= -85\n",
      "c= -60 -> f= -76\n",
      "c= -55 -> f= -67\n",
      "c= -50 -> f= -58\n",
      "c= -45 -> f= -49\n",
      "c= -40 -> f= -40\n",
      "c= -35 -> f= -31\n",
      "c= -30 -> f= -22\n",
      "c= -25 -> f= -13\n",
      "c= -20 -> f= -4\n",
      "c= -15 -> f= 5\n",
      "c= -10 -> f= 14\n",
      "c= -5 -> f= 23\n",
      "c= 0 -> f= 32\n",
      "c= 5 -> f= 41\n",
      "c= 10 -> f= 50\n",
      "c= 15 -> f= 59\n",
      "c= 20 -> f= 68\n",
      "c= 25 -> f= 77\n",
      "c= 30 -> f= 86\n",
      "c= 35 -> f= 95\n",
      "c= 40 -> f= 104\n",
      "c= 45 -> f= 113\n",
      "c= 50 -> f= 122\n",
      "c= 55 -> f= 131\n",
      "c= 60 -> f= 140\n",
      "c= 65 -> f= 149\n",
      "c= 70 -> f= 158\n",
      "c= 75 -> f= 167\n",
      "c= 80 -> f= 176\n",
      "c= 85 -> f= 185\n",
      "c= 90 -> f= 194\n",
      "c= 95 -> f= 203\n",
      "c= 100 -> f= 212\n",
      "c= 105 -> f= 221\n",
      "c= 110 -> f= 230\n",
      "c= 115 -> f= 239\n",
      "c= 120 -> f= 248\n",
      "c= 125 -> f= 257\n",
      "c= 130 -> f= 266\n",
      "c= 135 -> f= 275\n",
      "c= 140 -> f= 284\n",
      "c= 145 -> f= 293\n",
      "c= 150 -> f= 302\n"
     ]
    }
   ],
   "source": [
    "#输出一张摄氏一华氏温度转换表，摄氏温度的取值区间是[-100oC，150oC ]，温度间隔5。\n",
    "#要求定义和调用函数 ctof(c),将摄氏温度C转换成华氏温度F，计算公式：\n",
    "# F = 32 + C* 9/5.例如: c=0->f=32   c=5->f=41\n",
    "\n",
    "def ctof(c):\n",
    "    F = 32 + 9*(c/5)\n",
    "    return F\n",
    "\n",
    "c = -100\n",
    "while c<=150:\n",
    "    F= ctof(c)\n",
    "    F=int(F)\n",
    "    print(\"c=\",c,\"->\",\"f=\",F)\n",
    "    c+=5"
   ]
  },
  {
   "cell_type": "code",
   "execution_count": 26,
   "id": "e8635d7a",
   "metadata": {},
   "outputs": [
    {
     "name": "stdout",
     "output_type": "stream",
     "text": [
      "2 2 4\n",
      "4\n"
     ]
    }
   ],
   "source": [
    "#n个小朋友围坐成一圈,老师给每个小朋友随机发偶数个糖果，然后进行下面的游戏：\n",
    "#每个小朋友都把自己的糖果分一半给左手边的孩子,一轮分糖后拥有奇数颗糖的孩子由老师补给1个糖果,\n",
    "#直到所有小朋友的糖果数都相同为止。在已知的初始糖果情形下，老师一共需要补发多少个糖果?\n",
    "\n",
    "#number of children is fixed to 3\n",
    "n = 3\n",
    "add = 0\n",
    "n1,n2,n3 = map(int,input().split())\n",
    "while True:\n",
    "    if n1 == n2 and n2 == n3:\n",
    "        break\n",
    "    else:\n",
    "        haf1 = n1/2\n",
    "        haf2 = n2/2\n",
    "        haf3 = n3/2\n",
    "        n1 = n1-haf1+haf3\n",
    "        n2 = n2-haf2+haf1\n",
    "        n3 = n3-haf3+haf2\n",
    "    if n1 == n2 and n2 == n3:\n",
    "        break\n",
    "    if n1%2 != 0:\n",
    "        n1+=1\n",
    "        add+=1\n",
    "    if n2%2 != 0:\n",
    "        n2+=1\n",
    "        add+=1\n",
    "    if n3%2 != 0:\n",
    "        n3+=1\n",
    "        add+=1\n",
    "    \n",
    "print(add)"
   ]
  },
  {
   "cell_type": "code",
   "execution_count": null,
   "id": "f05e699e",
   "metadata": {},
   "outputs": [],
   "source": [
    "# number of children is not fixed\n",
    "n = int(input(\"number of children: \"))\n",
    "m = list(map(int,input().split()))"
   ]
  },
  {
   "cell_type": "code",
   "execution_count": 27,
   "id": "54b6320d",
   "metadata": {},
   "outputs": [
    {
     "name": "stdout",
     "output_type": "stream",
     "text": [
      "4\n",
      "5\n",
      "6\n"
     ]
    }
   ],
   "source": [
    "#list_first = [1,2,3,4,5,6,7,8,9] list_second = [2,4,8,10,12,20] 找到两个列表中相同的数据\n",
    "list_f = [1,2,3,4,5,6]\n",
    "list_s = [4,5,6,7,8]\n",
    "for i in list_f:\n",
    "    for m in list_s:\n",
    "        if i == m:\n",
    "            print(i)"
   ]
  },
  {
   "cell_type": "code",
   "execution_count": 28,
   "id": "5103f8cf",
   "metadata": {},
   "outputs": [
    {
     "name": "stdout",
     "output_type": "stream",
     "text": [
      "101\n",
      "102\n",
      "107\n",
      "121\n",
      "150\n"
     ]
    }
   ],
   "source": [
    "#index = [1,32,77,121,150] 对于小于100的数，把它每次加上10，直到大于100后再输出\n",
    "index = [1,32,77,121,150]\n",
    "for i in index:\n",
    "    while i <100:\n",
    "        i+=10\n",
    "    print(i)"
   ]
  },
  {
   "cell_type": "code",
   "execution_count": 30,
   "id": "2e2e0eb4",
   "metadata": {},
   "outputs": [
    {
     "name": "stdout",
     "output_type": "stream",
     "text": [
      "n= 5\n",
      "24690\n"
     ]
    }
   ],
   "source": [
    "#求Sn=a+aa+aaa+…+aa…aaa（有n个a）之值，其中a是一个数字，为2。 \n",
    "#例如，n=5时=2+22+222+2222+22222，n由键盘输入\n",
    "n = int(input(\"n= \"))\n",
    "total = 0\n",
    "m = n\n",
    "ci = 0\n",
    "while m>=1:\n",
    "    kmk=(10**ci)*2*m\n",
    "    total+=kmk\n",
    "    m-=1\n",
    "    ci+=1\n",
    "print(total)"
   ]
  },
  {
   "cell_type": "code",
   "execution_count": 32,
   "id": "e9d18993",
   "metadata": {},
   "outputs": [
    {
     "name": "stdout",
     "output_type": "stream",
     "text": [
      "100 50 10\n",
      "47977.93\n"
     ]
    }
   ],
   "source": [
    "#输入a，b，c，求1+2+...+a + 1^2+2^2+...+b^2 (平方和)+ 1/1+1/2+...+1/c，保留2位小数\n",
    "a,b,c = map(int,input().split())\n",
    "fir = 0\n",
    "ash = a\n",
    "while ash >=1:\n",
    "    fir += ash\n",
    "    ash -=1\n",
    "sec = 0\n",
    "bsh = b\n",
    "while bsh >=1:\n",
    "    sec += bsh*bsh\n",
    "    bsh -=1\n",
    "thir = 0\n",
    "csh = c\n",
    "while csh >=1:\n",
    "    thir += 1/csh\n",
    "    csh -=1\n",
    "print(\"%.2f\"%(fir+sec+thir))"
   ]
  },
  {
   "cell_type": "code",
   "execution_count": 34,
   "id": "7fe9025b",
   "metadata": {},
   "outputs": [
    {
     "name": "stdout",
     "output_type": "stream",
     "text": [
      "153\n",
      "370\n",
      "371\n",
      "407\n"
     ]
    }
   ],
   "source": [
    "#打印出所有\"水仙花数\"，所谓\"水仙花数\"是指一个三位数，其各位数字立方和等于该本身\n",
    "#例如：153是一个水仙花数，因为153=1^3+5^3+3^3。 \n",
    "for i in range(100,1000):\n",
    "    strin = str(i)\n",
    "    ge = strin[2]\n",
    "    shi = strin[1]\n",
    "    bai = strin[0]\n",
    "    if i == int(ge)**3 + int(bai)**3 + int(shi)**3:\n",
    "        print(i)\n",
    "    "
   ]
  },
  {
   "cell_type": "code",
   "execution_count": 4,
   "id": "6ef55ae1",
   "metadata": {},
   "outputs": [
    {
     "name": "stdout",
     "output_type": "stream",
     "text": [
      "n= 10\n",
      "16.48\n"
     ]
    }
   ],
   "source": [
    "#有一分数序列： 2/1 3/2 5/3 8/5 13/8 21/13...... 求出这个数列的前N项之和，保留两位小数。\n",
    "n = int(input(\"n= \"))\n",
    "ele = 0\n",
    "total = 0\n",
    "count = 0\n",
    "down = 1\n",
    "up = 2\n",
    "while count<n:\n",
    "    ele = up/down\n",
    "    total += ele\n",
    "    upy = up\n",
    "    downy = down\n",
    "    down = upy\n",
    "    up = upy+downy    \n",
    "    count += 1\n",
    "print(\"%.2f\"%(total))"
   ]
  },
  {
   "cell_type": "code",
   "execution_count": 6,
   "id": "7bcfb6dc",
   "metadata": {},
   "outputs": [
    {
     "name": "stdout",
     "output_type": "stream",
     "text": [
      "1000 5\n",
      "last bounce: 31.25\n",
      "total height: 2875.00\n"
     ]
    }
   ],
   "source": [
    "#一球从m米高度自由下落，每次落地后返回原高度的一半，再落下。它在第n次落地时反弹多高？共经过多少米？保留两位小数\n",
    "\n",
    "m,n = map(int,input().split())\n",
    "fan = 0\n",
    "total = 0\n",
    "fan = m*((1/2)**n)\n",
    "fanlast = fan\n",
    "print(\"last bounce:\",\"%.2f\"%fan)\n",
    "roun = n\n",
    "while roun>=1:\n",
    "    fan = m*((1/2)**n)\n",
    "    total += fan*3\n",
    "    roun -=1\n",
    "    n-=1\n",
    "total = total - fanlast\n",
    "print(\"total height:\",\"%.2f\"%(total))"
   ]
  },
  {
   "cell_type": "code",
   "execution_count": 49,
   "id": "03fe9f5a",
   "metadata": {},
   "outputs": [
    {
     "name": "stdout",
     "output_type": "stream",
     "text": [
      "n= 10\n",
      "1534\n"
     ]
    }
   ],
   "source": [
    "#猴子第一天摘下若干个桃子，当即吃了一半，还不过瘾，又多吃了一个,以后每天早上都吃了前一天剩下的一半零一个\n",
    "#到第N天早上想再吃时，见只剩下一个桃子了。求第一天共摘多少桃子\n",
    "n=int(input(\"n= \"))\n",
    "fin = 1\n",
    "while n>1:\n",
    "    lastd = 2*(fin+1)\n",
    "    fin = lastd\n",
    "    n-=1\n",
    "print(lastd)"
   ]
  },
  {
   "cell_type": "code",
   "execution_count": 11,
   "id": "3ce231cc",
   "metadata": {},
   "outputs": [
    {
     "name": "stdout",
     "output_type": "stream",
     "text": [
      "n=100\n",
      "2\n",
      "3\n",
      "5\n",
      "7\n",
      "11\n",
      "13\n",
      "17\n",
      "19\n",
      "23\n",
      "29\n",
      "31\n",
      "37\n",
      "41\n",
      "43\n",
      "47\n",
      "53\n",
      "59\n",
      "61\n",
      "67\n",
      "71\n",
      "73\n",
      "79\n",
      "83\n",
      "89\n",
      "97\n"
     ]
    }
   ],
   "source": [
    "#用简单素数筛选法求N以内的素数\n",
    "n=int(input(\"n=\"))\n",
    "for i in range(2,n):\n",
    "    for m in range(2,i):\n",
    "        if i%m == 0:\n",
    "            break\n",
    "    else:\n",
    "        print(i)"
   ]
  },
  {
   "cell_type": "code",
   "execution_count": 74,
   "id": "2753e02e",
   "metadata": {},
   "outputs": [
    {
     "name": "stdout",
     "output_type": "stream",
     "text": [
      "n=3\n",
      "15\n"
     ]
    }
   ],
   "source": [
    "#sum=2+5+8+11+14+…，输入正整数n，求sum的前n项和\n",
    "n=int(input(\"n=\"))\n",
    "nmax=2+3*(n-1)\n",
    "total= 0\n",
    "total +=nmax\n",
    "while n>1:\n",
    "    nmax-=3\n",
    "    total += nmax\n",
    "    n-=1\n",
    "print(total)"
   ]
  },
  {
   "cell_type": "code",
   "execution_count": 12,
   "id": "795a0a8e",
   "metadata": {},
   "outputs": [
    {
     "name": "stdout",
     "output_type": "stream",
     "text": [
      "42\n",
      "84\n",
      "126\n",
      "168\n",
      "210\n",
      "252\n",
      "294\n",
      "336\n",
      "378\n",
      "420\n",
      "462\n",
      "504\n",
      "546\n",
      "588\n",
      "630\n",
      "672\n",
      "714\n",
      "756\n",
      "798\n",
      "840\n",
      "882\n",
      "924\n",
      "966\n"
     ]
    }
   ],
   "source": [
    "#求出10至1000之内能同时被2、3、7整除的数并输出\n",
    "for i in range(10,1001):\n",
    "    kj=0\n",
    "    if i%2 == 0:\n",
    "        kj+=1\n",
    "    if i%3 == 0:\n",
    "        kj+=1\n",
    "    if i%7 == 0:\n",
    "        kj+=1\n",
    "    if kj ==3:\n",
    "        print(i)"
   ]
  },
  {
   "cell_type": "code",
   "execution_count": 76,
   "id": "74b629af",
   "metadata": {},
   "outputs": [
    {
     "name": "stdout",
     "output_type": "stream",
     "text": [
      "0\n",
      "1\n",
      "2\n",
      "3\n",
      "4\n"
     ]
    }
   ],
   "source": [
    "for i in range(10):\n",
    "    if i==5:\n",
    "        break\n",
    "    print(i)\n",
    "    #break运行后退出整个循环，此时的i=5 不会被print"
   ]
  },
  {
   "cell_type": "code",
   "execution_count": 15,
   "id": "8c02233e",
   "metadata": {},
   "outputs": [
    {
     "name": "stdout",
     "output_type": "stream",
     "text": [
      "1 4 2 6 -3 5 3 9 10 7\n",
      "[7, 4, 2, 6, -3, 5, 3, 9, 10, 1]\n"
     ]
    }
   ],
   "source": [
    "#输入10个数，找出其中绝对值最小的数，将它和最后一个数交换，然后输出这10个数。\n",
    "lis=list(map(int,input().split()))\n",
    "x=None\n",
    "\n",
    "for i in lis:\n",
    "    if x == None:\n",
    "        x=abs(i)\n",
    "    elif x>=abs(i):\n",
    "        x=abs(i)\n",
    "        if i<0:\n",
    "            x=-x\n",
    "            \n",
    "count=0\n",
    "for m in lis:\n",
    "    if m != x:\n",
    "        count+=1\n",
    "    else:\n",
    "        break\n",
    "if count==0:\n",
    "    count=1\n",
    "    \n",
    "poi=count-1\n",
    "lis[poi]=lis[9]\n",
    "lis[9]=x\n",
    "    \n",
    "print(lis)"
   ]
  },
  {
   "cell_type": "code",
   "execution_count": 17,
   "id": "aff85b48",
   "metadata": {},
   "outputs": [
    {
     "name": "stdout",
     "output_type": "stream",
     "text": [
      "enterdjaleofw4\n",
      "1\n"
     ]
    }
   ],
   "source": [
    "#从键盘输入一串字符，输出字符串里的数字字符数\n",
    "n=input(\"enter\")\n",
    "count=0\n",
    "for i in n:\n",
    "    try:\n",
    "        i=int(i)\n",
    "        count+=1\n",
    "    except:\n",
    "        continue\n",
    "print(count)"
   ]
  },
  {
   "cell_type": "code",
   "execution_count": 25,
   "id": "221531dc",
   "metadata": {},
   "outputs": [
    {
     "name": "stdout",
     "output_type": "stream",
     "text": [
      "[1, 2, 3, 4, 5] [1, 2, 3, 4, 5]\n",
      "[34, 2, 3, 4, 5] [34, 2, 3, 4, 5]\n",
      "..............\n",
      "[1, 2, 3, 4, 5] [1, 2, 3, 4, 5]\n",
      "[33, 2, 3, 4, 5] [1, 2, 3, 4, 5]\n"
     ]
    }
   ],
   "source": [
    "#复制列表 \n",
    "lis1=[1,2,3,4,5]\n",
    "#联动，一个修改另一个也变\n",
    "lis2=lis1\n",
    "print(lis1,lis2)\n",
    "lis1[0]=34\n",
    "print(lis1,lis2)\n",
    "print(\"..............\")\n",
    "#各自独立\n",
    "lis1=[1,2,3,4,5]\n",
    "lis2=[]+lis1\n",
    "print(lis1,lis2)\n",
    "lis1[0]=33\n",
    "print(lis1,lis2)"
   ]
  },
  {
   "cell_type": "code",
   "execution_count": null,
   "id": "43b59526",
   "metadata": {},
   "outputs": [],
   "source": [
    "#enumerate函数:把序列组合成一个索引序列，配合for循环使用时能得到列表中的元素及其索引值。\n",
    "#语法格式为：\n",
    "for index,element in enumerate(list):"
   ]
  },
  {
   "cell_type": "code",
   "execution_count": 28,
   "id": "16556518",
   "metadata": {},
   "outputs": [
    {
     "name": "stdout",
     "output_type": "stream",
     "text": [
      "[1, 2, 4, 5, 6]\n",
      "[1, 2, 4, 5, 6]\n"
     ]
    }
   ],
   "source": [
    "#列表排序\n",
    "lis=[2,4,1,6,5]\n",
    "b=sorted(lis)\n",
    "lis.sort()\n",
    "print(lis)\n",
    "print(b)"
   ]
  },
  {
   "cell_type": "code",
   "execution_count": 30,
   "id": "c63ea889",
   "metadata": {},
   "outputs": [
    {
     "name": "stdout",
     "output_type": "stream",
     "text": [
      "[5, 4, 3, 2, 1]\n",
      "[5, 4, 3, 2, 1]\n",
      "[6, 5, 4, 3, 2, 1]\n"
     ]
    }
   ],
   "source": [
    "#列表逆序\n",
    "lis=[1,2,3,4,5]\n",
    "b=list(reversed(lis))\n",
    "lis.reverse()\n",
    "print(lis)\n",
    "print(b)\n",
    "\n",
    "#  or\n",
    "lis=[1,2,3,4,5,6]\n",
    "lis=lis[::-1]\n",
    "print(lis)"
   ]
  },
  {
   "cell_type": "code",
   "execution_count": 1,
   "id": "bbb10a06",
   "metadata": {},
   "outputs": [
    {
     "name": "stdout",
     "output_type": "stream",
     "text": [
      "10\n",
      "[1, 2, 3, 5, 6, 7, 10, 14, 16]\n"
     ]
    }
   ],
   "source": [
    "#已有一个已正序排好的9个元素的数组，今输入一个数要求按原来排序的规律将它插入数组中。\n",
    "lis=[1,2,3,5,6,7,14,16]\n",
    "addin=int(input())\n",
    "lis.append(addin)\n",
    "lis.sort()\n",
    "print(lis)"
   ]
  },
  {
   "cell_type": "code",
   "execution_count": 7,
   "id": "9a3da688",
   "metadata": {},
   "outputs": [
    {
     "name": "stdout",
     "output_type": "stream",
     "text": [
      "1 3 5 6 7 8\n",
      "[1, 3, 5, 6, 7, 8]\n",
      "[8, 7, 6, 5, 3, 1]\n"
     ]
    }
   ],
   "source": [
    "#输入10个数字，然后逆序输出。\n",
    "numchuan=list(map(int,input().split()))\n",
    "numchuan.reverse()\n",
    "b=list(reversed(numchuan))\n",
    "print(b)\n",
    "print(numchuan)"
   ]
  },
  {
   "cell_type": "code",
   "execution_count": 1,
   "id": "3261bd23",
   "metadata": {},
   "outputs": [
    {
     "name": "stdout",
     "output_type": "stream",
     "text": [
      "4 2 5\n",
      "[2, 4, 5]\n"
     ]
    }
   ],
   "source": [
    "#输入三个整数，按由小到大的顺序输出\n",
    "ints=list(map(int,input().split()))\n",
    "ints.sort()\n",
    "print(ints)"
   ]
  },
  {
   "cell_type": "code",
   "execution_count": 1,
   "id": "4443fed0",
   "metadata": {},
   "outputs": [
    {
     "name": "stdout",
     "output_type": "stream",
     "text": [
      "n=1 2 3 4 5 6\n",
      "m=2\n",
      "[1, 2, 3, 4, 5, 6]\n"
     ]
    }
   ],
   "source": [
    "#有n个整数，使前面各数顺序向后移m个位置，最后m个数变成前面m个数.(输入n个数和输出调整后的n个数。\n",
    "n=list(map(int,input(\"n=\").split()))\n",
    "m=int(input(\"m=\"))\n",
    "nfan=list(reversed(n))\n",
    "for a in range(0,m):\n",
    "    n.insert(0,nfan[a])\n",
    "\n",
    "for x in range(1,m+1):\n",
    "    dele=n[len(n)-x]\n",
    "    n.remove(dele)\n",
    "print(n)"
   ]
  },
  {
   "cell_type": "code",
   "execution_count": 1,
   "id": "00976072",
   "metadata": {},
   "outputs": [
    {
     "name": "stdout",
     "output_type": "stream",
     "text": [
      "3\n"
     ]
    },
    {
     "data": {
      "text/plain": [
       "2"
      ]
     },
     "execution_count": 1,
     "metadata": {},
     "output_type": "execute_result"
    }
   ],
   "source": [
    "lis=[1,4,2]\n",
    "print(len(lis))\n",
    "lis[len(lis)-1]"
   ]
  },
  {
   "cell_type": "code",
   "execution_count": 11,
   "id": "1d5c573d",
   "metadata": {},
   "outputs": [
    {
     "name": "stdout",
     "output_type": "stream",
     "text": [
      "enter 10 numbers1 2 3 4 5 6 7 8\n",
      "4\n"
     ]
    }
   ],
   "source": [
    "lis=list(map(int,input(\"enter 10 numbers\").split()))\n",
    "total=0\n",
    "for m in lis:\n",
    "    total+=m\n",
    "ave=total/len(lis)\n",
    "count=0\n",
    "for i in lis:\n",
    "    if i>ave:\n",
    "        count+=1\n",
    "print(count)"
   ]
  },
  {
   "cell_type": "code",
   "execution_count": 14,
   "id": "52daef2e",
   "metadata": {},
   "outputs": [
    {
     "name": "stdout",
     "output_type": "stream",
     "text": [
      "1 2 3 4 5 6 7 8 9 10 -1 -2 -3 -4 -5 -6 -7 -8 -9 -10\n",
      "10.00\n",
      "5.50\n"
     ]
    }
   ],
   "source": [
    "#从键盘输入任意20个整型数，统计其中的负数个数并求所有正数的平均值 保留两位小数\n",
    "lis=list(map(int,input().split()))\n",
    "cou=0\n",
    "summ=0\n",
    "ave=0\n",
    "couop=0\n",
    "for i in lis:\n",
    "    if i<0:\n",
    "        cou+=1\n",
    "    if i>0:\n",
    "        summ+=i\n",
    "        couop+=1\n",
    "print(\"%.2f\"%cou)\n",
    "print(\"%.2f\"%(summ/couop))"
   ]
  },
  {
   "cell_type": "code",
   "execution_count": 16,
   "id": "7629c131",
   "metadata": {},
   "outputs": [
    {
     "name": "stdout",
     "output_type": "stream",
     "text": [
      "enter a grade88\n",
      "enter a grade71\n",
      "enter a grade68\n",
      "enter a grade70\n",
      "enter a grade59\n",
      "enter a grade81\n",
      "enter a grade91\n",
      "enter a grade42\n",
      "enter a grade66\n",
      "enter a grade77\n",
      "enter a grade83\n",
      "enter a grade0\n",
      "2 7 2\n"
     ]
    }
   ],
   "source": [
    "#输入一批学生的成绩，遇0或负数则输入结束，要求统计并输出优秀（大于85）、通过（60～84）和不及格（小于60）的学生人数\n",
    "gra=[]\n",
    "while True:\n",
    "    adgra=int(input(\"enter a grade\"))\n",
    "    if adgra<=0:\n",
    "        break\n",
    "    else:\n",
    "        gra.append(adgra)\n",
    "cou1=0\n",
    "cou2=0\n",
    "cou3=0\n",
    "for i in gra:\n",
    "    if i>=85:\n",
    "        cou1+=1\n",
    "    if i<=84 and i>=60:\n",
    "        cou2+=1\n",
    "    if i<60:\n",
    "        cou3+=1\n",
    "print(cou1,cou2,cou3)"
   ]
  },
  {
   "cell_type": "code",
   "execution_count": 19,
   "id": "6cee281c",
   "metadata": {},
   "outputs": [
    {
     "name": "stdout",
     "output_type": "stream",
     "text": [
      "[1, 2, 3, 4, 5, 6, 7, 8, 9, 10]\n"
     ]
    }
   ],
   "source": [
    "#输入10个整数，将其中最小的数与第一个数对换，把最大的数与最后一个数对换\n",
    "lis=[2,1,3,4,5,6,7,8,10,9]\n",
    "maxi=max(lis)\n",
    "pomaxi=lis.index(maxi)\n",
    "lis[pomaxi],lis[9]=lis[9],maxi\n",
    "mini=min(lis)\n",
    "pomini=lis.index(mini)\n",
    "lis[pomini],lis[0]=lis[0],mini\n",
    "print(lis)"
   ]
  },
  {
   "cell_type": "code",
   "execution_count": 6,
   "id": "da2cf80d",
   "metadata": {},
   "outputs": [
    {
     "name": "stdout",
     "output_type": "stream",
     "text": [
      "3\n",
      "[8, 9, 10, 1, 2, 3, 4, 5, 6, 7]\n"
     ]
    }
   ],
   "source": [
    "#使前面各数顺序向后移m个位置，最后m个数变成前面m个数\n",
    "lis=[1,2,3,4,5,6,7,8,9,10]\n",
    "m=int(input())\n",
    "for i in range(1,m+1):\n",
    "    ele=lis[len(lis)-1]\n",
    "    lis.remove(lis[9])\n",
    "    lis.insert(0,ele)\n",
    "print(lis)"
   ]
  },
  {
   "cell_type": "code",
   "execution_count": 7,
   "id": "090441e1",
   "metadata": {},
   "outputs": [
    {
     "name": "stdout",
     "output_type": "stream",
     "text": [
      "[0, 1, 2, 3, 4, 5, 6, 7, 8, 9]\n"
     ]
    }
   ],
   "source": [
    "#生成1-10的列表\n",
    "lis=[i for i in range(0,10)]\n",
    "print(lis)"
   ]
  },
  {
   "cell_type": "code",
   "execution_count": 8,
   "id": "97fa8969",
   "metadata": {},
   "outputs": [
    {
     "name": "stdout",
     "output_type": "stream",
     "text": [
      "[6, 7, 8, 9, 10, 11]\n"
     ]
    }
   ],
   "source": [
    "#列表中每个数加5\n",
    "lis=[1,2,3,4,5,6]\n",
    "lis=[i+5 for i in lis]\n",
    "print(lis)"
   ]
  },
  {
   "cell_type": "code",
   "execution_count": 11,
   "id": "37872e8d",
   "metadata": {},
   "outputs": [
    {
     "name": "stdout",
     "output_type": "stream",
     "text": [
      "[96.0, 104.0, 112.0, 128.0, 144.0, 160.0]\n"
     ]
    }
   ],
   "source": [
    "#已知一个列表为listname = [8,33,53,64,73,95,101,123,126,164,198]\n",
    "#找到列表中小于大于100的数字，然后乘上0.8.\n",
    "lis = [10,20,30,40,60,120,130,140,160,180,200]\n",
    "lis = [i*0.8 for i in lis if i>100]\n",
    "print(lis)"
   ]
  },
  {
   "cell_type": "code",
   "execution_count": 12,
   "id": "b51163c5",
   "metadata": {},
   "outputs": [
    {
     "name": "stdout",
     "output_type": "stream",
     "text": [
      "[169, 484, 625]\n"
     ]
    }
   ],
   "source": [
    "#列表[1,2,13,22,25],请使用使用列表推导式提取出大于10的数，并把每个数平方，最终输出。\n",
    "lis=[1,2,13,22,25]\n",
    "lis=[i**2 for i in lis if i>10]\n",
    "print(lis)"
   ]
  },
  {
   "cell_type": "code",
   "execution_count": 13,
   "id": "33f3c262",
   "metadata": {},
   "outputs": [
    {
     "name": "stdout",
     "output_type": "stream",
     "text": [
      "[1, 3, 5, 7, 9]\n"
     ]
    }
   ],
   "source": [
    "#列表推导式求列表所有奇数并构造新列表\n",
    "lis =  [1, 2, 3, 4, 5, 6, 7, 8, 9, 10]\n",
    "lis=[i for i in lis if i%2!=0]\n",
    "print(lis)"
   ]
  },
  {
   "cell_type": "code",
   "execution_count": 14,
   "id": "0dd341d3",
   "metadata": {},
   "outputs": [
    {
     "name": "stdout",
     "output_type": "stream",
     "text": [
      "[[1, 2, 3, 4, 5, 6], [1, 2, 3, 4, 5, 6], [1, 2, 3, 4, 5, 6], [1, 2, 3, 4, 5, 6], [1, 2, 3, 4, 5, 6], [1, 2, 3, 4, 5, 6]]\n"
     ]
    }
   ],
   "source": [
    "#六行六列的二维列表\n",
    "lis=[[i for i in range(1,7)] for i in range(0,6)]\n",
    "print(lis)"
   ]
  },
  {
   "cell_type": "code",
   "execution_count": 17,
   "id": "223e81ac",
   "metadata": {},
   "outputs": [
    {
     "name": "stdout",
     "output_type": "stream",
     "text": [
      "[[43, 37, 100], [67, 53, 3], [33, 76, 98]]\n"
     ]
    }
   ],
   "source": [
    "#创建一个6*6的列表，然后里面的值从1-100中随机取值\n",
    "import random\n",
    "lis=[]\n",
    "for i in range(0,3):\n",
    "    j=[]\n",
    "    lis.append(j)\n",
    "    for m in range(0,3):\n",
    "        m=random.randint(1,101)\n",
    "        j.append(m)\n",
    "print(lis)    "
   ]
  },
  {
   "cell_type": "code",
   "execution_count": 20,
   "id": "9abd7db4",
   "metadata": {},
   "outputs": [
    {
     "name": "stdout",
     "output_type": "stream",
     "text": [
      "1 2 3\n",
      "4 5 6\n",
      "7 8 9\n",
      "[[1, 2, 3], [7, 8, 9], [4, 5, 6]]\n"
     ]
    }
   ],
   "source": [
    "#输入一个3x3的矩阵，将第二行与第三行互换\n",
    "lis=[]\n",
    "for i in range(0,3):\n",
    "    j=list(map(int,input().split()))\n",
    "    lis.append(j)\n",
    "lis[2],lis[1]=lis[1],lis[2]    \n",
    "print(lis)"
   ]
  },
  {
   "cell_type": "code",
   "execution_count": 26,
   "id": "bd00c6fb",
   "metadata": {},
   "outputs": [
    {
     "name": "stdout",
     "output_type": "stream",
     "text": [
      "1 2 3\n",
      "4 5 6\n",
      "7 8 9\n",
      "1 4 7 \n",
      "2 5 8 \n",
      "3 6 9 \n"
     ]
    }
   ],
   "source": [
    "#输入3x3的矩阵，将行列互换\n",
    "lis=[]\n",
    "for i in range(0,3):\n",
    "    j=list(map(int,input().split()))\n",
    "    lis.append(j)\n",
    "for m in range(0,3):\n",
    "    for n in range(0,3):\n",
    "        print(lis[n][m],end=\" \")\n",
    "    print()"
   ]
  },
  {
   "cell_type": "code",
   "execution_count": 34,
   "id": "5c3d456c",
   "metadata": {},
   "outputs": [
    {
     "name": "stdout",
     "output_type": "stream",
     "text": [
      "n=2\n",
      "1\n",
      "2\n",
      "3\n",
      "4\n",
      "1 , 1\n",
      "4\n"
     ]
    }
   ],
   "source": [
    "#输入一个正整数n (1≤ n ≤6),再输入一个n 行n列的矩阵，\n",
    "#找出该矩阵中绝对值最大的元素以及它的行下标和列下标。\n",
    "lis=[]\n",
    "n=int(input(\"n=\"))\n",
    "for i in range(0,n):\n",
    "    j=[]\n",
    "    lis.append(j)\n",
    "    for m in range(0,n):\n",
    "        j.append(int(input()))\n",
    "can=0\n",
    "for x in range(0,n):\n",
    "    for y in range(0,n):\n",
    "        if lis[x][y]>=can:\n",
    "            can=lis[x][y]\n",
    "            a=x\n",
    "            b=y\n",
    "print(a,\",\",b)\n",
    "print(can)"
   ]
  },
  {
   "cell_type": "code",
   "execution_count": 35,
   "id": "bd852dca",
   "metadata": {},
   "outputs": [
    {
     "data": {
      "text/plain": [
       "True"
      ]
     },
     "execution_count": 35,
     "metadata": {},
     "output_type": "execute_result"
    }
   ],
   "source": [
    "lis=[1,2,3]\n",
    "3 in lis"
   ]
  },
  {
   "cell_type": "code",
   "execution_count": 5,
   "id": "f7453350",
   "metadata": {},
   "outputs": [
    {
     "name": "stdout",
     "output_type": "stream",
     "text": [
      "m=2\n",
      "n=3\n",
      "5\n",
      "94\n",
      "7\n",
      "87\n",
      "2\n",
      "75\n",
      "10\n",
      "66\n",
      "1\n",
      "58\n",
      "1 58\n",
      "2 75\n",
      "5 94\n",
      "7 87\n",
      "10 66\n"
     ]
    }
   ],
   "source": [
    "#已有a、b两个链表，每个链表中的结点包括学号、成绩。要求把两个链表合并，按学号升序排列。\n",
    "m,n= int(input(\"m=\")),int(input(\"n=\"))\n",
    "a={}\n",
    "b={}\n",
    "for i in range(0,m):\n",
    "    num,gra=int(input()),int(input())\n",
    "    a[num]=gra\n",
    "for k in range(0,n):\n",
    "    num,gra=int(input()),int(input())\n",
    "    b[num]=gra\n",
    "koa=list(sorted(a.keys()))\n",
    "kob=list(sorted(b.keys()))\n",
    "koc=koa+kob\n",
    "koc.sort()\n",
    "for i in koc:\n",
    "    try:\n",
    "        print(i,a[i])\n",
    "    except:\n",
    "        print(i,b[i])"
   ]
  },
  {
   "cell_type": "code",
   "execution_count": 6,
   "id": "18838064",
   "metadata": {},
   "outputs": [
    {
     "name": "stdout",
     "output_type": "stream",
     "text": [
      "{0: 10, 1: 20, 2: 30, 3: 40, 4: 50}\n"
     ]
    }
   ],
   "source": [
    "lis_value=[10,20,30,40,50]\n",
    "dic={i:lis_value[i] for i in range(0,5)}\n",
    "print(dic)"
   ]
  },
  {
   "cell_type": "code",
   "execution_count": 9,
   "id": "c381839f",
   "metadata": {},
   "outputs": [
    {
     "name": "stdout",
     "output_type": "stream",
     "text": [
      "2000\n",
      "dict_items([('name', 'bed'), ('price', '1999'), ('num', '1')])\n",
      "dict_items([('name', 'pellow'), ('price', '10'), ('num', '2')])\n",
      "dict_items([('name', 'quilt'), ('price', '20'), ('num', '1')])\n",
      "total cost: 2029\n",
      "not enough money\n"
     ]
    }
   ],
   "source": [
    "#要求用户输入总资产，例如： 3000，然后显示购物车列表，计算购物车商品总金额，如果商品总额大于总资产，提示账户余额不足，否则，购买成功。\n",
    "#购物车列表如下：carts=[{\"name\":\"床\",\"price\":1999,”num”:1},{\"name\":\"枕头\",\"price\":10, ” num”:2},{\"name\":\"被子\",\"price\":20, ”num”:1}]。\n",
    "mon=int(input())\n",
    "carts=[{\"name\":\"bed\",\"price\":\"1999\",\"num\":\"1\"},{\"name\":\"pellow\",\"price\":\"10\",\"num\":\"2\"},{\"name\":\"quilt\",\"price\":\"20\",\"num\":\"1\"}]\n",
    "tpri=0\n",
    "for i in carts:\n",
    "    print(i.items())\n",
    "    tpri+=int(i[\"price\"])\n",
    "print(\"total cost:\",tpri)\n",
    "if tpri>mon:\n",
    "    print(\"not enough money\")\n",
    "else:\n",
    "    print(\"done with the deal\")"
   ]
  },
  {
   "cell_type": "code",
   "execution_count": 10,
   "id": "d693c16c",
   "metadata": {},
   "outputs": [
    {
     "name": "stdout",
     "output_type": "stream",
     "text": [
      "{2, 4, 5, 6, 7}\n"
     ]
    }
   ],
   "source": [
    "#转换成集合（set）可以直接去除重复元素\n",
    "lis=[2,4,5,6,6,7]\n",
    "seol=set(lis)\n",
    "print(seol)"
   ]
  },
  {
   "cell_type": "code",
   "execution_count": 14,
   "id": "e86b7eec",
   "metadata": {},
   "outputs": [
    {
     "name": "stdout",
     "output_type": "stream",
     "text": [
      "{3, 4, 5}\n",
      "{3, 4, 5}\n",
      "{1, 2, 3, 4, 5, 6, 7}\n",
      "{1, 2, 3, 4, 5, 6, 7}\n",
      "{1, 2}\n",
      "{1, 2}\n"
     ]
    }
   ],
   "source": [
    "a={1,2,3,4,5}\n",
    "b={3,4,5,6,7}\n",
    "#集合 求交集\n",
    "print(a&b)\n",
    "print(a.intersection(b))\n",
    "#并集\n",
    "print(a|b)\n",
    "print(a.union(b))\n",
    "#差集\n",
    "print(a-b)\n",
    "print(a.difference(b))"
   ]
  },
  {
   "cell_type": "code",
   "execution_count": 4,
   "id": "33c0d926",
   "metadata": {},
   "outputs": [
    {
     "name": "stdout",
     "output_type": "stream",
     "text": [
      "False\n",
      "True\n",
      "True\n"
     ]
    }
   ],
   "source": [
    "#字符串内容判定  isalnum（字母或数字） （全字母）（全数字）\n",
    "a=\"white_12345\"\n",
    "b=\"098765\"\n",
    "c=\"abcdef\"\n",
    "print(a.isalnum())\n",
    "print(b.isdigit())\n",
    "print(c.isalpha())"
   ]
  },
  {
   "cell_type": "code",
   "execution_count": 9,
   "id": "dbd71407",
   "metadata": {},
   "outputs": [
    {
     "name": "stdout",
     "output_type": "stream",
     "text": [
      "!@#$%^QWERT    1234567\n",
      "5 7 4 6\n"
     ]
    }
   ],
   "source": [
    "#编写一函数，由实参传来一个字符串，统计此字符串中字母、数字、空格和其它字符的个数\n",
    "#在主函数中输入字符串以及输出上述结果。 只要结果，别输出什么提示信息\n",
    "words=input()\n",
    "coa=0\n",
    "cos=0\n",
    "cok=0\n",
    "coe=0\n",
    "for i in words:\n",
    "    if i.isalpha():\n",
    "        coa+=1\n",
    "    elif i.isdigit():\n",
    "        cos+=1\n",
    "    elif i==\" \":\n",
    "        cok+=1\n",
    "    else:\n",
    "        coe+=1\n",
    "print(coa,cos,cok,coe)"
   ]
  },
  {
   "cell_type": "code",
   "execution_count": 10,
   "id": "fc32da3b",
   "metadata": {},
   "outputs": [
    {
     "name": "stdout",
     "output_type": "stream",
     "text": [
      "happynewyear2019\n",
      "4\n"
     ]
    }
   ],
   "source": [
    "#从键盘输入一串字符，输出字符串里的数字字符数\n",
    "zifu=input()\n",
    "count=0\n",
    "for i in zifu:\n",
    "    if i.isdigit():\n",
    "        count+=1\n",
    "print(count)"
   ]
  },
  {
   "cell_type": "code",
   "execution_count": 11,
   "id": "850c4420",
   "metadata": {},
   "outputs": [
    {
     "name": "stdout",
     "output_type": "stream",
     "text": [
      "3\n",
      "cdef\n"
     ]
    }
   ],
   "source": [
    "#将字符串中从第m个字符开始的全部字符复制成为另一个字符串\n",
    "words=\"abcdef\"\n",
    "m=int(input())\n",
    "print(words[m-1:])"
   ]
  },
  {
   "cell_type": "code",
   "execution_count": 13,
   "id": "0f24ca01",
   "metadata": {},
   "outputs": [
    {
     "name": "stdout",
     "output_type": "stream",
     "text": [
      "0.62\n",
      "0.62 0.62 \n",
      "0.62 0.62 0.62 "
     ]
    }
   ],
   "source": [
    "num=0.618\n",
    "print(\"%.2f\"%num)\n",
    "for i in range(0,2):\n",
    "    print(\"%.2f\"%num,end=\" \")\n",
    "print()\n",
    "for i in range(0,3):\n",
    "    print(\"%.2f\"%num,end=\" \")"
   ]
  },
  {
   "cell_type": "code",
   "execution_count": 18,
   "id": "c4421843",
   "metadata": {},
   "outputs": [
    {
     "name": "stdout",
     "output_type": "stream",
     "text": [
      "yadnom si yadot"
     ]
    }
   ],
   "source": [
    "#将一个字符串str的内容颠倒过来\n",
    "words=\"today is monday\"\n",
    "le=len(words)\n",
    "for i in range(1,le+1):\n",
    "    print(words[le-i],end=\"\")"
   ]
  },
  {
   "cell_type": "code",
   "execution_count": 19,
   "id": "539558fd",
   "metadata": {},
   "outputs": [
    {
     "name": "stdout",
     "output_type": "stream",
     "text": [
      "worromot uoy ees\n"
     ]
    }
   ],
   "source": [
    "#将一个字符串str的内容颠倒过来\n",
    "words=\"see you tomorrow\"\n",
    "print(words[::-1])"
   ]
  },
  {
   "cell_type": "code",
   "execution_count": 21,
   "id": "a208b5a8",
   "metadata": {},
   "outputs": [
    {
     "name": "stdout",
     "output_type": "stream",
     "text": [
      "online123\n"
     ]
    }
   ],
   "source": [
    "words=\"onlINE123\"\n",
    "print(words.lower())"
   ]
  },
  {
   "cell_type": "code",
   "execution_count": 22,
   "id": "4a41d4e2",
   "metadata": {},
   "outputs": [
    {
     "name": "stdout",
     "output_type": "stream",
     "text": [
      "123abccba321\n"
     ]
    }
   ],
   "source": [
    "#所给字符串正序和反序连接，形成新串并输出\n",
    "words=\"123abc\"\n",
    "print(words+words[::-1])"
   ]
  },
  {
   "cell_type": "code",
   "execution_count": 23,
   "id": "72d12d91",
   "metadata": {},
   "outputs": [
    {
     "name": "stdout",
     "output_type": "stream",
     "text": [
      "10\n"
     ]
    }
   ],
   "source": [
    "#输入一个字符串,数出其中的字母的个数.\n",
    "words=\"124lfdk54AIEJ92854&%$GJ\"\n",
    "count=0\n",
    "for i in words:\n",
    "    if i.isalpha():\n",
    "        count+=1\n",
    "print(count)"
   ]
  },
  {
   "cell_type": "code",
   "execution_count": 1,
   "id": "99875339",
   "metadata": {},
   "outputs": [
    {
     "name": "stdout",
     "output_type": "stream",
     "text": [
      "3\n",
      "9\n"
     ]
    }
   ],
   "source": [
    "#采用匿名函数来返回m的平方和\n",
    "n=int(input())\n",
    "a=lambda x : x**2\n",
    "print(a(n))"
   ]
  },
  {
   "cell_type": "code",
   "execution_count": 5,
   "id": "13fdff5f",
   "metadata": {},
   "outputs": [
    {
     "name": "stdout",
     "output_type": "stream",
     "text": [
      "['P', 'D', 'E', 'C', 'G']\n"
     ]
    }
   ],
   "source": [
    "#使用map函数将列表中的小写字母变为大写\n",
    "lis=[\"p\",\"d\",\"e\",\"c\",\"g\"]\n",
    "def uple(x):\n",
    "    if x.islower:\n",
    "        return x.upper()\n",
    "    else:\n",
    "        return x\n",
    "print(list(map(uple,lis)))"
   ]
  },
  {
   "cell_type": "code",
   "execution_count": 8,
   "id": "abd7f977",
   "metadata": {},
   "outputs": [
    {
     "name": "stdout",
     "output_type": "stream",
     "text": [
      "8\n",
      "not prime\n"
     ]
    }
   ],
   "source": [
    "#写一个判断素数的函数，在主函数输入一个整数，输出是否是素数的消息。\n",
    "n=int(input())\n",
    "for i in range(2,n):\n",
    "    if n%i==0:\n",
    "        print(\"not prime\")\n",
    "        break\n",
    "else:\n",
    "    print(\"prime\")"
   ]
  },
  {
   "cell_type": "code",
   "execution_count": 13,
   "id": "489e3949",
   "metadata": {},
   "outputs": [
    {
     "name": "stdout",
     "output_type": "stream",
     "text": [
      "['a', 'e']\n"
     ]
    }
   ],
   "source": [
    "#输出元音字母\n",
    "words=\"abcdefg\"\n",
    "yuan=[\"a\",\"e\",\"i\",\"o\"]\n",
    "found=[]\n",
    "for i in words:\n",
    "    if i in yuan:\n",
    "        found.append(i)\n",
    "print(found)"
   ]
  },
  {
   "cell_type": "code",
   "execution_count": 14,
   "id": "558763ba",
   "metadata": {},
   "outputs": [
    {
     "name": "stdout",
     "output_type": "stream",
     "text": [
      "5678\n",
      "5 6 7 8 "
     ]
    }
   ],
   "source": [
    "#写一函数，输入一个四位数字，要求输出这四个数字字符，但每两个数字间空格。如输入1990，应输出\"1 9 9 0\"。\n",
    "n=input()\n",
    "for i in n:\n",
    "    print(i,end=\" \")"
   ]
  },
  {
   "cell_type": "code",
   "execution_count": 14,
   "id": "59098eed",
   "metadata": {},
   "outputs": [
    {
     "name": "stdout",
     "output_type": "stream",
     "text": [
      "10\n",
      "28\n"
     ]
    }
   ],
   "source": [
    "#按如下递归公式求函数值。\n",
    "#x=1时 f(x)=10；x>1时 f(x)=f(x-1)+2\n",
    "def f(x):\n",
    "    if x==1:\n",
    "        return 10\n",
    "    else:\n",
    "        return f(x-1)+2\n",
    "n=int(input())\n",
    "print(f(n))"
   ]
  },
  {
   "cell_type": "code",
   "execution_count": null,
   "id": "b2b1c002",
   "metadata": {},
   "outputs": [],
   "source": []
  },
  {
   "cell_type": "code",
   "execution_count": null,
   "id": "66cac922",
   "metadata": {},
   "outputs": [],
   "source": []
  }
 ],
 "metadata": {
  "kernelspec": {
   "display_name": "Python 3 (ipykernel)",
   "language": "python",
   "name": "python3"
  },
  "language_info": {
   "codemirror_mode": {
    "name": "ipython",
    "version": 3
   },
   "file_extension": ".py",
   "mimetype": "text/x-python",
   "name": "python",
   "nbconvert_exporter": "python",
   "pygments_lexer": "ipython3",
   "version": "3.11.4"
  }
 },
 "nbformat": 4,
 "nbformat_minor": 5
}
