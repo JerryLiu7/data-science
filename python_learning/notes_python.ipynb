{
 "cells": [
  {
   "cell_type": "markdown",
   "id": "93a6e61f",
   "metadata": {},
   "source": [
    "### string / "
   ]
  },
  {
   "cell_type": "code",
   "execution_count": 2,
   "id": "be75e1b6",
   "metadata": {},
   "outputs": [
    {
     "data": {
      "text/plain": [
       "'good evening'"
      ]
     },
     "execution_count": 2,
     "metadata": {},
     "output_type": "execute_result"
    }
   ],
   "source": [
    "# replace\n",
    "string=\"good morning\"\n",
    "n=string.replace(\"morning\",\"evening\")\n",
    "n"
   ]
  },
  {
   "cell_type": "code",
   "execution_count": 3,
   "id": "ac48ef49",
   "metadata": {},
   "outputs": [
    {
     "data": {
      "text/plain": [
       "'20.67'"
      ]
     },
     "execution_count": 3,
     "metadata": {},
     "output_type": "execute_result"
    }
   ],
   "source": [
    "# 两位小数\n",
    "num = 20.6687678\n",
    "\"%.2f\"%num"
   ]
  },
  {
   "cell_type": "code",
   "execution_count": 5,
   "id": "b3169bce",
   "metadata": {},
   "outputs": [
    {
     "name": "stdout",
     "output_type": "stream",
     "text": [
      "['good moring', 'mike']\n",
      "['good ', 'oring!mike']\n",
      "['https://kurser.ku.dk', 'course', 'ASDK20001U']\n",
      "Strings are great! \n",
      "Strings are great!\n",
      " Strings are great!\n",
      "(' Strings ', 'are', ' great! ')\n",
      "(' Strings are gre', 'a', 't! ')\n"
     ]
    }
   ],
   "source": [
    "###### split (删掉括号里的内容并以此为基准切)\n",
    "stri=\"good moring!mike\"\n",
    "\n",
    "print(stri.split(\"!\"))\n",
    "print(stri.split('m', 1)) ## 只操作前xx个\n",
    "\n",
    "my_url=\"https://kurser.ku.dk/course/ASDK20001U\"\n",
    "lis_url = my_url.rsplit(\"/\",2) # 右边两个“/”\n",
    "print(lis_url)\n",
    "\n",
    "###### strip 去掉整个string前后的空格\n",
    "string=\" Strings are great! \"\n",
    "print(string.lstrip())\n",
    "print(string.strip())\n",
    "print(string.rstrip())\n",
    "\n",
    "##### partition （切分字符但不删除括号里的东西）\n",
    "print(string.partition(\"are\")) \n",
    "print(string.rpartition('a'))"
   ]
  },
  {
   "cell_type": "code",
   "execution_count": 31,
   "id": "0e583eef",
   "metadata": {},
   "outputs": [
    {
     "data": {
      "text/plain": [
       "'today!is!monday'"
      ]
     },
     "execution_count": 31,
     "metadata": {},
     "output_type": "execute_result"
    }
   ],
   "source": [
    "# Join together a list of string into a single string\n",
    "list_of_words=[\"today\",\"is\",\"monday\"]\n",
    "' '.join(list_of_words) ##  join时中间添加“ ”\n",
    "'!'.join(list_of_words) ##  join时中间添加“！”"
   ]
  },
  {
   "cell_type": "code",
   "execution_count": 35,
   "id": "d58ed0b4",
   "metadata": {},
   "outputs": [
    {
     "data": {
      "text/plain": [
       "5"
      ]
     },
     "execution_count": 35,
     "metadata": {},
     "output_type": "execute_result"
    }
   ],
   "source": [
    "# get a random number from a range:\n",
    "import random\n",
    "rand= random.randint(0,10)\n",
    "rand"
   ]
  },
  {
   "cell_type": "code",
   "execution_count": null,
   "id": "8241bf4f",
   "metadata": {},
   "outputs": [],
   "source": []
  },
  {
   "cell_type": "markdown",
   "id": "dd7f6b1f",
   "metadata": {},
   "source": [
    "### list"
   ]
  },
  {
   "cell_type": "code",
   "execution_count": 34,
   "id": "09f14517",
   "metadata": {},
   "outputs": [
    {
     "data": {
      "text/plain": [
       "['aaa', 'morning!', 'bbb', 'ccc']"
      ]
     },
     "execution_count": 34,
     "metadata": {},
     "output_type": "execute_result"
    }
   ],
   "source": [
    "# insert something into a certain position in a list:\n",
    "lis=[\"aaa\",\"bbb\",\"ccc\"]\n",
    "lis.insert(1,\"morning!\")\n",
    "lis"
   ]
  },
  {
   "cell_type": "code",
   "execution_count": 36,
   "id": "034da329",
   "metadata": {},
   "outputs": [
    {
     "name": "stdout",
     "output_type": "stream",
     "text": [
      "0 amy\n",
      "1 bill\n",
      "2 charly\n"
     ]
    }
   ],
   "source": [
    "# get the elements and positons in a list:\n",
    "lis=[\"amy\",\"bill\",\"charly\"]\n",
    "for m,n in enumerate(lis):\n",
    "    print(m,n)"
   ]
  },
  {
   "cell_type": "code",
   "execution_count": null,
   "id": "057948d8",
   "metadata": {},
   "outputs": [],
   "source": [
    "#去除list里面的重复项\n",
    "emails=list(set(mails))"
   ]
  },
  {
   "cell_type": "code",
   "execution_count": null,
   "id": "8c8c0b4b",
   "metadata": {},
   "outputs": [],
   "source": [
    "## 去除list里面空的list\n",
    "filtered_list = [item for item in my_list if item]"
   ]
  },
  {
   "cell_type": "markdown",
   "id": "e4e62ce6",
   "metadata": {},
   "source": [
    "### dictionary"
   ]
  },
  {
   "cell_type": "code",
   "execution_count": null,
   "id": "99eef748",
   "metadata": {},
   "outputs": [],
   "source": [
    "# 删除dictionary中的key\n",
    "my_dictionary.pop(\"fav_film\")\n",
    "\n",
    "#查看key和value\n",
    "my_dictionary.values()\n",
    "my_dictionary.keys()\n",
    "my_dictionary.items()"
   ]
  },
  {
   "cell_type": "code",
   "execution_count": null,
   "id": "7c8f4b91",
   "metadata": {},
   "outputs": [],
   "source": []
  },
  {
   "cell_type": "markdown",
   "id": "d0cab220",
   "metadata": {},
   "source": [
    "### numpy"
   ]
  },
  {
   "cell_type": "code",
   "execution_count": 1,
   "id": "898882e8",
   "metadata": {},
   "outputs": [
    {
     "data": {
      "text/plain": [
       "array([1, 2, 3])"
      ]
     },
     "execution_count": 1,
     "metadata": {},
     "output_type": "execute_result"
    }
   ],
   "source": [
    "# turn list into array\n",
    "import numpy as np\n",
    "lis=[1,2,3]\n",
    "lis_n = np.array(lis)\n",
    "lis_n"
   ]
  },
  {
   "cell_type": "code",
   "execution_count": 2,
   "id": "baf1a7d3",
   "metadata": {},
   "outputs": [
    {
     "data": {
      "text/plain": [
       "array([0, 0, 0, 0, 0])"
      ]
     },
     "execution_count": 2,
     "metadata": {},
     "output_type": "execute_result"
    }
   ],
   "source": [
    "# creat arrays\n",
    "np.zeros(5, dtype=int)  # creat 5 zeros, type is int"
   ]
  },
  {
   "cell_type": "code",
   "execution_count": 5,
   "id": "00f9cb29",
   "metadata": {},
   "outputs": [
    {
     "data": {
      "text/plain": [
       "array([[1., 1.],\n",
       "       [1., 1.],\n",
       "       [1., 1.]])"
      ]
     },
     "execution_count": 5,
     "metadata": {},
     "output_type": "execute_result"
    }
   ],
   "source": [
    "np.ones((3,2),dtype=float)  # three rows and two columns, type is float"
   ]
  },
  {
   "cell_type": "code",
   "execution_count": 6,
   "id": "7007903d",
   "metadata": {},
   "outputs": [
    {
     "data": {
      "text/plain": [
       "array([[3.12],\n",
       "       [3.12],\n",
       "       [3.12]])"
      ]
     },
     "execution_count": 6,
     "metadata": {},
     "output_type": "execute_result"
    }
   ],
   "source": [
    "np.full((3,1),3.12) # fillin the value we wnat"
   ]
  },
  {
   "cell_type": "code",
   "execution_count": 7,
   "id": "c246e4e8",
   "metadata": {},
   "outputs": [
    {
     "data": {
      "text/plain": [
       "array([0, 2, 4, 6, 8])"
      ]
     },
     "execution_count": 7,
     "metadata": {},
     "output_type": "execute_result"
    }
   ],
   "source": [
    "np.arange(0,10,2) # from 0 to 10, tep =2"
   ]
  },
  {
   "cell_type": "code",
   "execution_count": 8,
   "id": "de47b06f",
   "metadata": {},
   "outputs": [
    {
     "data": {
      "text/plain": [
       "array([0.  , 0.25, 0.5 , 0.75, 1.  ])"
      ]
     },
     "execution_count": 8,
     "metadata": {},
     "output_type": "execute_result"
    }
   ],
   "source": [
    "np.linspace(0,1,5)  # 5 varables evenly distributed between 0 and 1"
   ]
  },
  {
   "cell_type": "code",
   "execution_count": 9,
   "id": "e132a477",
   "metadata": {},
   "outputs": [
    {
     "data": {
      "text/plain": [
       "array([[0.91751314],\n",
       "       [0.36323862],\n",
       "       [0.87244815]])"
      ]
     },
     "execution_count": 9,
     "metadata": {},
     "output_type": "execute_result"
    }
   ],
   "source": [
    "np.random.random((3,1)) ## randomly create variables between 0 and 1. the structure will be 3 rows 1 column as setted"
   ]
  },
  {
   "cell_type": "code",
   "execution_count": 13,
   "id": "f00276c4",
   "metadata": {},
   "outputs": [
    {
     "data": {
      "text/plain": [
       "array([[-0.18755637,  0.2712861 ,  0.73638724,  1.63699711,  0.215851  ],\n",
       "       [ 0.21901084, -0.52090382, -0.12926788, -1.0492688 , -0.65978504],\n",
       "       [ 0.25758596,  1.83239293, -0.36037056,  0.55456961, -0.35947807]])"
      ]
     },
     "execution_count": 13,
     "metadata": {},
     "output_type": "execute_result"
    }
   ],
   "source": [
    "##   np.random.normal(mean,std,array size)\n",
    "# creat normal distributed varaibles in certain array structure\n",
    "np.random.normal(0,1,(3,5))  # mean 0, standard deviation 1"
   ]
  },
  {
   "cell_type": "code",
   "execution_count": 14,
   "id": "4274c2b3",
   "metadata": {
    "scrolled": true
   },
   "outputs": [
    {
     "data": {
      "text/plain": [
       "array([[2, 9, 4, 7, 4],\n",
       "       [3, 0, 4, 4, 8],\n",
       "       [6, 3, 0, 2, 8]])"
      ]
     },
     "execution_count": 14,
     "metadata": {},
     "output_type": "execute_result"
    }
   ],
   "source": [
    "## creat random int\n",
    "np.random.randint(0,10,(3,5))  # from 0 to 10 (0 inculded and 10 not included)"
   ]
  },
  {
   "cell_type": "code",
   "execution_count": 21,
   "id": "4dd20764",
   "metadata": {},
   "outputs": [
    {
     "data": {
      "text/plain": [
       "array([[[9, 6, 1, 7, 5],\n",
       "        [4, 8, 6, 5, 5],\n",
       "        [8, 3, 6, 1, 9]],\n",
       "\n",
       "       [[8, 4, 8, 7, 9],\n",
       "        [3, 1, 2, 7, 0],\n",
       "        [9, 1, 7, 5, 1]]])"
      ]
     },
     "execution_count": 21,
     "metadata": {},
     "output_type": "execute_result"
    }
   ],
   "source": [
    "n=np.random.randint(0,10,(2,3,5)) # 2 arrays, 3 rows , 5 columns \n",
    "n"
   ]
  },
  {
   "cell_type": "code",
   "execution_count": 22,
   "id": "1cfedbf3",
   "metadata": {},
   "outputs": [
    {
     "name": "stdout",
     "output_type": "stream",
     "text": [
      "(2, 3, 5)\n",
      "3\n",
      "30\n"
     ]
    }
   ],
   "source": [
    "print(n.shape) # size of every dimension\n",
    "print(n.ndim) # number of dimentions \n",
    "print(n.size) # total size of the array"
   ]
  },
  {
   "cell_type": "code",
   "execution_count": 15,
   "id": "05faa87e",
   "metadata": {},
   "outputs": [
    {
     "data": {
      "text/plain": [
       "array([[1., 0., 0.],\n",
       "       [0., 1., 0.],\n",
       "       [0., 0., 1.]])"
      ]
     },
     "execution_count": 15,
     "metadata": {},
     "output_type": "execute_result"
    }
   ],
   "source": [
    "# creat identity matrix\n",
    "np.eye(3)  # number means the dimention"
   ]
  },
  {
   "cell_type": "code",
   "execution_count": 24,
   "id": "6160aa46",
   "metadata": {},
   "outputs": [
    {
     "data": {
      "text/plain": [
       "array([[[7, 9, 5, 7, 1],\n",
       "        [5, 2, 7, 8, 9],\n",
       "        [9, 9, 6, 7, 3]],\n",
       "\n",
       "       [[5, 0, 4, 9, 0],\n",
       "        [1, 5, 6, 8, 0],\n",
       "        [1, 6, 5, 2, 5]]])"
      ]
     },
     "execution_count": 24,
     "metadata": {},
     "output_type": "execute_result"
    }
   ],
   "source": [
    "# selset variables in numpy\n",
    "n=np.random.randint(0,10,(2,3,5)) # 2 arrays, 3 rows , 5 columns \n",
    "n"
   ]
  },
  {
   "cell_type": "code",
   "execution_count": 25,
   "id": "0a8169a8",
   "metadata": {},
   "outputs": [
    {
     "data": {
      "text/plain": [
       "5"
      ]
     },
     "execution_count": 25,
     "metadata": {},
     "output_type": "execute_result"
    }
   ],
   "source": [
    "n[0,1,0]  #first array, second row, first value, should be 5"
   ]
  },
  {
   "cell_type": "code",
   "execution_count": 28,
   "id": "fb473133",
   "metadata": {},
   "outputs": [
    {
     "data": {
      "text/plain": [
       "array([[7, 9, 5, 7, 1, 5, 2, 7, 8, 9, 9, 9, 6, 7, 3, 5, 0, 4, 9, 0, 1, 5,\n",
       "        6, 8, 0, 1, 6, 5, 2, 5]])"
      ]
     },
     "execution_count": 28,
     "metadata": {},
     "output_type": "execute_result"
    }
   ],
   "source": [
    "n.reshape((1,30))  # reshape it to be 1 row and 30 columns. need to keep the size the same"
   ]
  },
  {
   "cell_type": "code",
   "execution_count": 34,
   "id": "3d6223af",
   "metadata": {},
   "outputs": [
    {
     "data": {
      "text/plain": [
       "array([1, 2, 3, 4, 5, 6])"
      ]
     },
     "execution_count": 34,
     "metadata": {},
     "output_type": "execute_result"
    }
   ],
   "source": [
    "## join arrays\n",
    "x= np.array([1,2,3])\n",
    "y=np.array([4,5,6])\n",
    "np.concatenate([x,y])  # [the first ,the second]"
   ]
  },
  {
   "cell_type": "code",
   "execution_count": 40,
   "id": "37661996",
   "metadata": {},
   "outputs": [
    {
     "data": {
      "text/plain": [
       "array([[1, 2, 3],\n",
       "       [4, 5, 6],\n",
       "       [1, 2, 3],\n",
       "       [4, 5, 6]])"
      ]
     },
     "execution_count": 40,
     "metadata": {},
     "output_type": "execute_result"
    }
   ],
   "source": [
    "ar=np.arange(1,7).reshape((2,3))\n",
    "np.concatenate([ar,ar])  ## the defalut is adding as new rows (axis=0)"
   ]
  },
  {
   "cell_type": "code",
   "execution_count": 41,
   "id": "a91c8a7f",
   "metadata": {},
   "outputs": [
    {
     "data": {
      "text/plain": [
       "array([[1, 2, 3, 1, 2, 3],\n",
       "       [4, 5, 6, 4, 5, 6]])"
      ]
     },
     "execution_count": 41,
     "metadata": {},
     "output_type": "execute_result"
    }
   ],
   "source": [
    "np.concatenate([ar,ar],axis=1)   # but we can set it to be axis=1, then they will be joint in columns"
   ]
  },
  {
   "cell_type": "code",
   "execution_count": 49,
   "id": "515df84c",
   "metadata": {},
   "outputs": [
    {
     "data": {
      "text/plain": [
       "array([[1, 2, 3],\n",
       "       [4, 5, 6]])"
      ]
     },
     "execution_count": 49,
     "metadata": {},
     "output_type": "execute_result"
    }
   ],
   "source": [
    "sa=np.full(2,99).reshape((2,1))\n",
    "sa"
   ]
  },
  {
   "cell_type": "code",
   "execution_count": 50,
   "id": "959e5047",
   "metadata": {},
   "outputs": [
    {
     "data": {
      "text/plain": [
       "array([[ 1,  2,  3, 99],\n",
       "       [ 4,  5,  6, 99]])"
      ]
     },
     "execution_count": 50,
     "metadata": {},
     "output_type": "execute_result"
    }
   ],
   "source": [
    "np.concatenate([ar,sa],axis=1)"
   ]
  },
  {
   "cell_type": "code",
   "execution_count": 54,
   "id": "3e3c772a",
   "metadata": {},
   "outputs": [
    {
     "name": "stdout",
     "output_type": "stream",
     "text": [
      "[1 2 3 4] [99 99] [5 6 7]\n"
     ]
    }
   ],
   "source": [
    "## split array\n",
    "x=[1,2,3,4,99,99,5,6,7]   ## split it to be [1,2,3,4],[99,99],[5,6,7]\n",
    "x1,x2,x3=np.split(x,[4,6])\n",
    "print(x1,x2,x3)"
   ]
  },
  {
   "cell_type": "code",
   "execution_count": 56,
   "id": "b72c9788",
   "metadata": {},
   "outputs": [
    {
     "data": {
      "text/plain": [
       "[array([[0, 1, 2, 3],\n",
       "        [4, 5, 6, 7]]),\n",
       " array([[ 8,  9, 10, 11],\n",
       "        [12, 13, 14, 15]])]"
      ]
     },
     "execution_count": 56,
     "metadata": {},
     "output_type": "execute_result"
    }
   ],
   "source": [
    "## horizental/ vertical split\n",
    "arra=np.arange(16).reshape((4,4))\n",
    "np.vsplit(arra,[2])  ## number: the plave you want to split"
   ]
  },
  {
   "cell_type": "code",
   "execution_count": 57,
   "id": "6600bd6b",
   "metadata": {},
   "outputs": [
    {
     "data": {
      "text/plain": [
       "[array([[ 0,  1],\n",
       "        [ 4,  5],\n",
       "        [ 8,  9],\n",
       "        [12, 13]]),\n",
       " array([[ 2,  3],\n",
       "        [ 6,  7],\n",
       "        [10, 11],\n",
       "        [14, 15]])]"
      ]
     },
     "execution_count": 57,
     "metadata": {},
     "output_type": "execute_result"
    }
   ],
   "source": [
    "np.hsplit(arra,[2])"
   ]
  },
  {
   "cell_type": "code",
   "execution_count": null,
   "id": "6187c0af",
   "metadata": {},
   "outputs": [],
   "source": []
  },
  {
   "cell_type": "markdown",
   "id": "8a41717d",
   "metadata": {},
   "source": [
    "### Pandas"
   ]
  },
  {
   "cell_type": "code",
   "execution_count": null,
   "id": "3f7a984e",
   "metadata": {},
   "outputs": [],
   "source": [
    "# open csv :\n",
    "import pandas as pd\n",
    "\n",
    "url = 'https://drive.google.com/uc?export=download&id=1zMZG-fBiTynZKYVhQjbDZ7GCpcvbvYnx' # example\n",
    "nobel_df = pd.read_csv(url)\n",
    "\n",
    "# if csv/excel file is in the folder\n",
    "df = pd.read_csv(\"graduation_dataset.csv\")\n",
    "df = pd.read_excel(\"sales.xlsx\")"
   ]
  },
  {
   "cell_type": "code",
   "execution_count": null,
   "id": "3784dfea",
   "metadata": {},
   "outputs": [],
   "source": [
    "with open(\"my_text.txt\",\"a\") as file:\n",
    "    file.write(\"Nice to meet you. My name is Liu.\")"
   ]
  },
  {
   "cell_type": "code",
   "execution_count": null,
   "id": "532348e7",
   "metadata": {},
   "outputs": [],
   "source": [
    "# set the name of the index column\n",
    "df = df.set_index('Name')\n",
    "# columns 加名字\n",
    "df.columns = [\"Name\", \"year\"]"
   ]
  },
  {
   "cell_type": "code",
   "execution_count": null,
   "id": "ce22d2f7",
   "metadata": {},
   "outputs": [],
   "source": [
    "# 按筛选条件选 dataframe\n",
    "df = df.loc[df[\"year\"]>2020 ]\n",
    "german = df[df[\"birth_country\"]==\"Germany\"]"
   ]
  },
  {
   "cell_type": "code",
   "execution_count": null,
   "id": "edfed997",
   "metadata": {},
   "outputs": [],
   "source": [
    "# 添加 dataframe 内容进新的列表：\n",
    "gername=german[\"name\"].tolist()\n",
    "nam=list(df[\"name\"])"
   ]
  },
  {
   "cell_type": "code",
   "execution_count": null,
   "id": "fbcec615",
   "metadata": {},
   "outputs": [],
   "source": [
    "# 按照某一column的内容排序\n",
    "df.sort_values(by=\"birth_date\")"
   ]
  },
  {
   "cell_type": "code",
   "execution_count": null,
   "id": "ffac91d1",
   "metadata": {},
   "outputs": [],
   "source": [
    "# 提取certain row\n",
    "df.loc[[\"Gertrude\"]]\n",
    "df.loc[[\"HV\",\"MD\"]]\n",
    "df.iloc[[1,2]] ## row 1 and row 2\n",
    "\n",
    "# 提取两个/多个 column\n",
    "df[['Name',\"Covid Cases\"]]\n",
    "\n",
    "# 提取 certain row 里面的 certain column\n",
    "df.loc[\"Ludwig\"][\"Weight\"]\n",
    "\n",
    "# 提取某一column里的特定行\n",
    "df.loc[:, 'Height']\n",
    "\n",
    "# 提取某些column里的特定行\n",
    "df.iloc[:3][[\"name\",\"wiki_catagories\"]]"
   ]
  },
  {
   "cell_type": "code",
   "execution_count": null,
   "id": "69a36f64",
   "metadata": {},
   "outputs": [],
   "source": [
    "## groupby\n",
    "df_grouped_by_pclass = df.groupby('pclass')\n",
    "\n",
    "## get certain group\n",
    "df_grouped_by_pclass.get_group(3)\n",
    "\n",
    "# 计算分组后每一组的数据（均值/中位数等\n",
    "df_grouped_by_pclass.mean(numeric_only=True)\n",
    "\n",
    "group=df.groupby([\"pclass\",\"adult_male\"])  ## 按多个column 分组（[]中第一个column作为分类的最外层）\n",
    "print(group[\"survived\"].mean())"
   ]
  },
  {
   "cell_type": "code",
   "execution_count": null,
   "id": "f3f9bcef",
   "metadata": {},
   "outputs": [],
   "source": [
    "### join multiple dataframes\n",
    "# Join two tables using pd.concat. You can select which way to join (horizontal or vertical) \n",
    "# by specifying the axis. axis = 0 joins vertically (on the rows) and axis = 1 joins horizontally (on the columns).\n",
    "#You can also do an \"inner\" join that is the intersection of the frames, or an \"outer\" join for the union.\n",
    "\n",
    "df_conbimed = pd.concat([df_1,df_2],axis=0, join=\"outer\")  ## axis=0  垂直（增加row）"
   ]
  },
  {
   "cell_type": "code",
   "execution_count": null,
   "id": "b4d1b797",
   "metadata": {},
   "outputs": [],
   "source": [
    "##  删除 row / columns\n",
    "df.drop([\"Covid Cases\"], axis = 1) ## 删掉column\n",
    "df.drop([\"SD\"], axis = 0)  ## 删掉 row"
   ]
  },
  {
   "cell_type": "code",
   "execution_count": null,
   "id": "2021d6ad",
   "metadata": {},
   "outputs": [],
   "source": [
    "## 删除某一column是某个值，把整个row删除\n",
    "fc = fc[~fc['pid7'].isin([8,9])]"
   ]
  },
  {
   "cell_type": "code",
   "execution_count": null,
   "id": "9816dfee",
   "metadata": {},
   "outputs": [],
   "source": [
    "## 修改 某一row 的某一 column 的内容\n",
    "df.loc[\"_row_\",\"column_name\"] = \"Zealand\""
   ]
  },
  {
   "cell_type": "code",
   "execution_count": null,
   "id": "21f9da77",
   "metadata": {},
   "outputs": [],
   "source": [
    "# Convert date to a numerical format (e.g., number of days since the start of the dataset)\n",
    "df['date_ordinal'] = (df['date'] - df['date'].min()).dt.days"
   ]
  },
  {
   "cell_type": "markdown",
   "id": "3c7987a5",
   "metadata": {},
   "source": [
    "# API:"
   ]
  },
  {
   "cell_type": "markdown",
   "id": "05e16640",
   "metadata": {},
   "source": [
    "### json"
   ]
  },
  {
   "cell_type": "code",
   "execution_count": null,
   "id": "0a792cdc",
   "metadata": {},
   "outputs": [],
   "source": [
    "#### open data from website in form of json \n",
    "import json\n",
    "import requests\n",
    "\n",
    "url = \"http://api.worldbank.org/v2/countries?per_page=304&format=json\"\n",
    "countries_data = requests.get(url)\n",
    "countries_json = countries_data.json()\n"
   ]
  },
  {
   "cell_type": "code",
   "execution_count": null,
   "id": "13ec48ff",
   "metadata": {},
   "outputs": [],
   "source": [
    "##### 需要api密码的 \n",
    "\n",
    "from urllib.parse import urlencode \n",
    "base_URL=\"https://api.nytimes.com/svc/mostpopular/v2/viewed/30.json\"\n",
    "\n",
    "query = \"\"\n",
    "api_key=\"\"\n",
    "\n",
    "params={\"q\":query,\"api-key\":api_key}\n",
    "\n",
    "get_data=requests.get(base_url+urlencode(params))"
   ]
  },
  {
   "cell_type": "code",
   "execution_count": null,
   "id": "4a04655f",
   "metadata": {},
   "outputs": [],
   "source": []
  },
  {
   "cell_type": "markdown",
   "id": "890b8b8d",
   "metadata": {},
   "source": [
    "### open files"
   ]
  },
  {
   "cell_type": "code",
   "execution_count": null,
   "id": "5361b315",
   "metadata": {},
   "outputs": [],
   "source": [
    "# 路径索引file\n",
    "import os\n",
    "with open(os.path.join(\"..\",\"week38\",\"Speech_2019.txt\"),\"r\",errors= \"ignore\") as file:\n",
    "    speech = file.read()"
   ]
  },
  {
   "cell_type": "code",
   "execution_count": null,
   "id": "ee313a26",
   "metadata": {},
   "outputs": [],
   "source": []
  },
  {
   "cell_type": "markdown",
   "id": "2839571e",
   "metadata": {},
   "source": [
    "### Web scraping"
   ]
  },
  {
   "cell_type": "markdown",
   "id": "b9f3a768",
   "metadata": {},
   "source": [
    "#### Beautiful soup"
   ]
  },
  {
   "cell_type": "code",
   "execution_count": null,
   "id": "5769b3cc",
   "metadata": {},
   "outputs": [],
   "source": [
    "import requests as rq\n",
    "from bs4 import BeautifulSoup\n",
    "\n",
    "content=rq.get(\" url we need \")\n",
    "content_html =content.text\n",
    "content_soup = BeautifulSoup(content_html)\n",
    "\n",
    "# Inspect ppl_soup object in human-friendly structure\n",
    "print(ppl_soup.prettify())"
   ]
  },
  {
   "cell_type": "code",
   "execution_count": null,
   "id": "e9ed12a6",
   "metadata": {},
   "outputs": [],
   "source": [
    "## 索引certain content\n",
    "soup.div.h1.text\n",
    "\n",
    "soup.img[\"src\"]\n",
    "\n",
    "x = soup.find_all(\"h2\")[1].text\n",
    "m = soup.find(\"div\",class_=\"cds-9 css-kts6x cds-11 cds-grid-item cds-53\")"
   ]
  },
  {
   "cell_type": "code",
   "execution_count": null,
   "id": "a54e1773",
   "metadata": {},
   "outputs": [],
   "source": [
    "#当想提取的两种信息在同一个标签下：\n",
    "names = []\n",
    "values = []\n",
    "# loop through all of the 'td' elements, keeping track of the number via enumerate\n",
    "for cell_number, cell in enumerate(bc_soup.find_all('td')):\n",
    "    if cell_number % 2 == 0:\n",
    "        names.append(cell.text)\n",
    "    else:\n",
    "        values.append(cell.text)\n",
    "\n",
    "\n",
    "# 当想提取的多种信息在同一个标签下：\n",
    "\n",
    "# Loop through cells and append them to relevant list\n",
    "counter = 0\n",
    "for cell in bc_soup.find_all('table')[2].find_all('td'):\n",
    "    if counter == 0:\n",
    "        names.append(cell.text)\n",
    "        counter +=1\n",
    "    elif counter == 1:\n",
    "        raw_n.append(cell.text)\n",
    "        counter += 1\n",
    "    else:\n",
    "        share.append(cell.text)\n",
    "        counter = 0"
   ]
  },
  {
   "cell_type": "code",
   "execution_count": null,
   "id": "54c77c7b",
   "metadata": {},
   "outputs": [],
   "source": [
    "##   selenium  点击按钮 load more\n",
    "soup_list = []\n",
    "\n",
    "## initialize the webdriver and wait\n",
    "options = Options()\n",
    "options.add_argument(\"--incognito\")  \n",
    "options.headless = False  \n",
    "browser = webdriver.Edge(options=options)\n",
    "wait = WebDriverWait(browser, 10)\n",
    "\n",
    "\n",
    "browser.get(\"https://money.usnews.com/careers/best-jobs/rankings/the-100-best-jobs\")\n",
    "\n",
    "button = wait.until(EC.presence_of_element_located((By.XPATH, \"//button[contains(text(), 'Agree')]\")))\n",
    "button.click()\n",
    "\n",
    "try:\n",
    "    while True:\n",
    "        # Find the 'Load More' button\n",
    "        load_more_button = wait.until(EC.presence_of_element_located((By.XPATH, \"//button[contains(text(), 'Load More')]\")))\n",
    "        sleep(5)\n",
    "        # Click the 'Load More' button\n",
    "        #load_more_button.click()\n",
    "        browser.execute_script(\"arguments[0].click();\", load_more_button)\n",
    "        sleep(5)\n",
    "        soup_list.append(bs(browser.page_source, 'html.parser'))\n",
    "        \n",
    "except Exception as e:\n",
    "    # When the 'Load More' button is no longer found, it raises an exception\n",
    "    print(\"No more 'Load More' button found.\")\n",
    "    \n",
    "driver.quit()"
   ]
  },
  {
   "cell_type": "markdown",
   "id": "008e5d26",
   "metadata": {},
   "source": [
    "### Regular Expressions"
   ]
  },
  {
   "cell_type": "code",
   "execution_count": null,
   "id": "21d27d8e",
   "metadata": {},
   "outputs": [],
   "source": [
    "import re\n",
    "# findall\n",
    "people = some_text.text\n",
    "emails=re.findall(r'mailto:.*\">.*@.*.ku.dk', people)\n",
    "search_result = re.search(r'\\.txt$', element)\n",
    "sub_re = re.sub(r'\\s[a-z].*$','',element) # 删除element 里面的特定内容"
   ]
  },
  {
   "cell_type": "markdown",
   "id": "6627640b",
   "metadata": {},
   "source": [
    "#### useful cleaning skills:"
   ]
  },
  {
   "cell_type": "code",
   "execution_count": null,
   "id": "d2266133",
   "metadata": {},
   "outputs": [],
   "source": [
    "# Convert one or more carriage returns to a single new line\n",
    "bc_text = re.sub('\\r+', '\\n', bc_soup.text)\n",
    "\n",
    "# # Convert multiple new line to a single new line\n",
    "bc_text = re.sub('\\n+', '\\n', bc_text)\n",
    "\n",
    "# # Split up string at line breaks\n",
    "bc_text = re.split('\\n', bc_text)\n",
    "\n",
    "# # Remove leading and trailing white spaces\n",
    "bc_text = [string.strip() for string in bc_text]\n",
    "\n",
    "# # Remove list items without word characters or digits, incl. empty strings\n",
    "bc_text = [string for string in bc_text if re.search('\\w|\\d',string)]\n",
    "\n",
    "# # Condense multiple spaces to one\n",
    "bc_text = [re.sub('\\s+', ' ', string) for string in bc_text]\n",
    "\n",
    "# First remove string literals\n",
    "cleaned_names = re.sub(r'\\r+|\\n+','', string)\n",
    "\n",
    "# Then remove leadign and trailing white space, and transform to lower\n",
    "cleaned_names = [string.strip() for string in cleaned_names]\n",
    "\n",
    "# Then replace any remaining white space with underscores\n",
    "cleaned_names = [re.sub(r'\\s+','_', string) for string in cleaned_names]\n",
    "\n",
    "# Finally, remove empty list elements\n",
    "cleaned_names = [string for string in cleaned_names if string != '']\n",
    "\n",
    "# Clean up names / type of information\n",
    "cleaned_names = [re.sub(r'\\\\r+|\\\\n+','', string) for string in names]\n",
    "cleaned_names = [string.strip().lower() for string in cleaned_names]\n",
    "cleaned_names = [re.sub(r'\\s+','_', string) for string in cleaned_names]\n",
    "\n",
    "# Clean up raw numbers and turn them into integers\n",
    "cleaned_raw_n = [int(re.sub(r'\\D+', '', string)) for string in raw_n]"
   ]
  },
  {
   "cell_type": "markdown",
   "id": "b259f05e",
   "metadata": {},
   "source": [
    "### matplotlib"
   ]
  },
  {
   "cell_type": "code",
   "execution_count": null,
   "id": "096f0184",
   "metadata": {},
   "outputs": [],
   "source": [
    "import pandas as pd\n",
    "import matplotlib.pyplot as plt\n",
    "us_deaths_2016 = pd.read_csv('nchs_death_causes.csv')\n",
    "\n",
    "# then plot\n",
    "plt.plot(ny_deaths['Age-adjusted Death Rate'])\n",
    "plt.show()"
   ]
  },
  {
   "cell_type": "markdown",
   "id": "bd5a7fa9",
   "metadata": {},
   "source": [
    "###### line graghs"
   ]
  },
  {
   "cell_type": "code",
   "execution_count": null,
   "id": "8278d639",
   "metadata": {},
   "outputs": [],
   "source": [
    "# plot the data (x and y axis)\n",
    "plt.plot(ny_deaths['Year'], ny_deaths['Age-adjusted Death Rate'])\n",
    "\n",
    "# 展示数据的mean/ str /。。。\n",
    "plt.plot(annual_flu_rates[[('Age-adjusted Death Rate', 'mean'), ('Age-adjusted Death Rate', 'std')]])\n",
    "\n",
    "### can also be done by pandas:\n",
    "annual_flu_rates.plot(y = [('Age-adjusted Death Rate', 'mean'), ('Age-adjusted Death Rate', 'std')],\n",
    "                      # add title\n",
    "                      title = \"Mean and standard deviation\\nfor state-level flu/pneumonia death rates by year\",\n",
    "                      # add x-axis label\n",
    "                      xlabel = \"Year\",\n",
    "                      # add y-axis label\n",
    "                      ylabel = \"Deaths per 100,000\"\n",
    "                     )\n",
    "plt.show()"
   ]
  },
  {
   "cell_type": "code",
   "execution_count": null,
   "id": "ea97b3fe",
   "metadata": {},
   "outputs": [],
   "source": [
    "# add title / x/y-axis label / xticks\n",
    "plt.title(\"NY flu/pneumonia death rate by year\")\n",
    "plt.xlabel(\"Year\")\n",
    "plt.ylabel(\"Deaths per 100,000\")\n",
    "plt.xticks(ny_deaths['Year'], # define axis ticks\n",
    "           labels = ny_deaths['Year'], # define lables\n",
    "           rotation = 45) #set orientation of labels\n",
    "\n",
    "plt.show()\n",
    "\n",
    "\n",
    "#############   or    ################3\n",
    "\n",
    "ny_deaths=df\n",
    "ny_deaths.plot(y='Age-adjusted Death Rate',\n",
    "               x='Year',\n",
    "               # add title\n",
    "               title=\"NY flu/pneumonia death rate by year\",\n",
    "               # add x-axis label\n",
    "               xlabel=\"Year\",\n",
    "               # add y-axis label\n",
    "               ylabel=\"Deaths per 100,000\",\n",
    "               legend=None,\n",
    "               rot=90)\n",
    "plt.show()"
   ]
  },
  {
   "cell_type": "code",
   "execution_count": null,
   "id": "754ea7c0",
   "metadata": {},
   "outputs": [],
   "source": [
    "## 改样式\n",
    "import seaborn as sns\n",
    "\n",
    "# Set the style for the Seaborn plot\n",
    "sns.set(style=\"darkgrid\") #<-- easy to change style (e.g., \"darkgrid\", \"ticks\", \"whitegrid\", \"dark\")\n",
    "\n",
    "# Create the Seaborn plot\n",
    "sns.lineplot(data=ny_deaths, x='Year', y='Age-adjusted Death Rate')\n",
    "\n",
    "plt.title(\"NY flu/pneumonia death rate by year\")\n",
    "plt.xlabel(\"Year\")\n",
    "plt.ylabel(\"Deaths per 100,000\")\n",
    "plt.xticks(ny_deaths['Year'], # define axis ticks\n",
    "           labels = ny_deaths['Year'], # define lables\n",
    "           rotation = 90) #set orientation of labels\n",
    "\n",
    "# Display the plot\n",
    "plt.show()"
   ]
  },
  {
   "cell_type": "markdown",
   "id": "10f47f0a",
   "metadata": {},
   "source": [
    "###### bar"
   ]
  },
  {
   "cell_type": "code",
   "execution_count": null,
   "id": "317acf8c",
   "metadata": {},
   "outputs": [],
   "source": [
    "plt.bar(flu_death_rates['State'], # x-axis value/position\n",
    "        flu_death_rates['Age-adjusted Death Rate'])\n",
    "\n",
    "# change figure size–i.e. set up blank canvas with these dimensions\n",
    "plt.figure(figsize=(14, 8))"
   ]
  },
  {
   "cell_type": "markdown",
   "id": "d514117e",
   "metadata": {},
   "source": [
    "###### scatter"
   ]
  },
  {
   "cell_type": "code",
   "execution_count": null,
   "id": "e8062021",
   "metadata": {},
   "outputs": [],
   "source": [
    "plt.scatter()\n",
    "## change 样式\n",
    "plt.scatter(flu_accidental_deaths.loc[(flu_accidental_deaths['Cause Name'] == 'Unintentional injuries'), 'Age-adjusted Death Rate'],\n",
    "         flu_accidental_deaths.loc[(flu_accidental_deaths['Cause Name'] == 'Influenza and pneumonia'), 'Age-adjusted Death Rate'],\n",
    "           marker='+', color='red', alpha=0.6)"
   ]
  },
  {
   "cell_type": "markdown",
   "id": "7de537ac",
   "metadata": {},
   "source": [
    "###### Histograms"
   ]
  },
  {
   "cell_type": "code",
   "execution_count": null,
   "id": "7769d72f",
   "metadata": {},
   "outputs": [],
   "source": [
    "plt.hist(flu_death_rates['Age-adjusted Death Rate'])\n",
    "plt.figure(figsize=(10, 7), dpi= 200)"
   ]
  },
  {
   "cell_type": "markdown",
   "id": "f101216e",
   "metadata": {},
   "source": [
    "### save image"
   ]
  },
  {
   "cell_type": "code",
   "execution_count": null,
   "id": "54cfe836",
   "metadata": {},
   "outputs": [],
   "source": [
    "plt.savefig(\"Scatterplot_Flu_Accidental_Deaths_US_2016.png\")"
   ]
  },
  {
   "cell_type": "markdown",
   "id": "c4bce653",
   "metadata": {},
   "source": [
    "# ...............STATISTICS..................."
   ]
  },
  {
   "cell_type": "code",
   "execution_count": 2,
   "id": "12057869",
   "metadata": {},
   "outputs": [],
   "source": [
    "## basic imports\n",
    "import numpy as np\n",
    "import pandas as pd\n",
    "import seaborn as sns\n",
    "import matplotlib.pyplot as plt"
   ]
  },
  {
   "cell_type": "code",
   "execution_count": 4,
   "id": "6f4bab92",
   "metadata": {},
   "outputs": [],
   "source": [
    "##  binomial distribution\n",
    "\n",
    "np.random.seed(0)  # to ensure that we get the same numbers every time\n",
    "\n",
    "n = 150   #Number of trials (each \"trial\" is corresponding to a single arrival event)\n",
    "p = 0.075 #Success probability\n",
    "M = 100     #Number of realizations\n",
    "\n",
    "admissions=pd.Series(np.random.binomial(n,p,M))"
   ]
  },
  {
   "cell_type": "code",
   "execution_count": 10,
   "id": "549d230d",
   "metadata": {},
   "outputs": [
    {
     "data": {
      "image/png": "[encoded data removed]",
      "text/plain": [
       "<Figure size 640x480 with 1 Axes>"
      ]
     },
     "metadata": {},
     "output_type": "display_data"
    }
   ],
   "source": [
    "# Visualize the distribution of admissions across the 100 days\n",
    "ax = sns.histplot(x=admissions,discrete=True)\n",
    "ax.set(xlabel='Number of admissions', ylabel='Number of Realizations');"
   ]
  },
  {
   "cell_type": "code",
   "execution_count": 11,
   "id": "95ae0afe",
   "metadata": {},
   "outputs": [
    {
     "name": "stdout",
     "output_type": "stream",
     "text": [
      "10.98\n",
      "0.2\n",
      "18.010000000000005\n"
     ]
    }
   ],
   "source": [
    "# Summary statistics\n",
    "#\"Mean number of admissions per day:\"\n",
    "print(admissions.mean())\n",
    "\n",
    "#\"Share of days with more than 13 admissions:\"\n",
    "print((admissions > 13).mean())\n",
    "\n",
    "#\"99th percentile:\"\n",
    "print(admissions.quantile(0.99))"
   ]
  },
  {
   "cell_type": "code",
   "execution_count": 12,
   "id": "74604cb4",
   "metadata": {},
   "outputs": [
    {
     "data": {
      "text/plain": [
       "0     153\n",
       "1     159\n",
       "2     151\n",
       "3     148\n",
       "4     153\n",
       "     ... \n",
       "95    158\n",
       "96    124\n",
       "97    158\n",
       "98    159\n",
       "99    151\n",
       "Length: 100, dtype: int32"
      ]
     },
     "execution_count": 12,
     "metadata": {},
     "output_type": "execute_result"
    }
   ],
   "source": [
    "# Poisson distribution\n",
    "lam = 150 # expected arrival rate\n",
    "M = 100 # Number of days\n",
    "arrivals = pd.Series(np.random.poisson(lam, M)) # Simulate\n",
    "arrivals"
   ]
  },
  {
   "cell_type": "code",
   "execution_count": 13,
   "id": "a58ab9ed",
   "metadata": {},
   "outputs": [
    {
     "data": {
      "image/png": "[encoded data removed]",
      "text/plain": [
       "<Figure size 640x480 with 1 Axes>"
      ]
     },
     "metadata": {},
     "output_type": "display_data"
    }
   ],
   "source": [
    "np.random.seed(0)\n",
    "M = int(50000)\n",
    "pois_sims = np.random.poisson(8,M)\n",
    "ax = sns.histplot(x=pois_sims,discrete=True)\n",
    "ax.set(xlabel='Realized value', ylabel='Number of Realizations');"
   ]
  },
  {
   "cell_type": "code",
   "execution_count": 14,
   "id": "c8f526d2",
   "metadata": {},
   "outputs": [
    {
     "data": {
      "image/png": "[encoded data removed]",
      "text/plain": [
       "<Figure size 640x480 with 1 Axes>"
      ]
     },
     "metadata": {},
     "output_type": "display_data"
    }
   ],
   "source": [
    "# 给参数推测模型\n",
    "M = int(5000)\n",
    "lam = 75\n",
    "p = 0.075\n",
    "\n",
    "data = pd.DataFrame({'arrivals': np.random.poisson(lam, M)})\n",
    "data['admissions'] = np.random.binomial(data['arrivals'], p, M)\n",
    "\n",
    "#### 画表\n",
    "ax = sns.histplot(x=data[\"admissions\"],discrete=True)\n",
    "ax.set(xlabel='Realized value', ylabel='Number of Realizations');"
   ]
  },
  {
   "cell_type": "markdown",
   "id": "c94bfe0c",
   "metadata": {},
   "source": [
    "预计p值和miiu：\n"
   ]
  },
  {
   "cell_type": "code",
   "execution_count": null,
   "id": "35e862c2",
   "metadata": {},
   "outputs": [],
   "source": [
    "def p_estimator(data):\n",
    "    return data['admissions'].sum() / data['arrivals'].sum()\n",
    "def lam_estimator(data) :\n",
    "    return data['arrivals'].mean()"
   ]
  },
  {
   "cell_type": "code",
   "execution_count": null,
   "id": "255910f1",
   "metadata": {},
   "outputs": [],
   "source": [
    "def sim_arrivals(lam_est,p_est) :\n",
    "    sim = pd.DataFrame({'arrivals':np.random.poisson(lam_est,M)})\n",
    "    sim['admissions'] = np.random.binomial(sim['arrivals'],p_est,sim.shape[0])\n",
    "    #sim['sim_id'] = sim_id\n",
    "    return sim\n",
    "\n",
    "np.random.seed(0)\n",
    "lam_est = 40.44\n",
    "p_est = 0.048\n",
    "sim_arrivals(lam_est,p_est)"
   ]
  },
  {
   "cell_type": "code",
   "execution_count": null,
   "id": "4594553b",
   "metadata": {},
   "outputs": [],
   "source": [
    "### 展示一组表格\n",
    "np.random.seed(0)\n",
    "arrivals_sims = [sim_arrivals(lam_est,p_est) for i in range(0,5)]  #做5组simulation\n",
    "#Make list, which contains the observed data and the simulated data\n",
    "arrivals_dat_sim = [arrivals_dat] + arrivals_sims\n",
    "fig,ax = plt.subplots(6,2,figsize=(10,24))\n",
    "for i in range(0,6) :\n",
    "    dat = arrivals_dat_sim[i]\n",
    "    sns.histplot(x=dat['arrivals'],discrete=True,ax=ax[i,0])\n",
    "    sns.histplot(x=dat['admissions'],discrete=True,ax=ax[i,1])\n",
    "    ax[i,0].set(xlabel='Total Number of arrivals',xlim=[20,60])\n",
    "    ax[i,1].set(xlabel='Number of admissions',xlim=[-1,9])"
   ]
  },
  {
   "cell_type": "code",
   "execution_count": null,
   "id": "d187477d",
   "metadata": {},
   "outputs": [],
   "source": [
    "## 检查模型是否与原数据有很大出入：\n",
    "sims_3 = pd.concat([sim_arrivals(lam_est_2,p_est_2) for i in range(0,M)])\n",
    "sims_3['sim_id']=np.repeat(range(0,M),104) #Make column with ids to distinguish the different realizatio\n",
    "\n",
    "days0arrivals = arrivals_sims_3.groupby('sim_id').apply(lambda g : (g['admissions']==0).mean())\n",
    "#Calculate the proportion of the realizations where 25% or more of days has 0 admissions\n",
    "(days0arrivals >= 0.25).mean()"
   ]
  },
  {
   "cell_type": "markdown",
   "id": "6e07e4ed",
   "metadata": {},
   "source": [
    "............distribution........."
   ]
  },
  {
   "cell_type": "code",
   "execution_count": null,
   "id": "51d7d7af",
   "metadata": {},
   "outputs": [],
   "source": [
    "##  normal distribution\n",
    "np.random.seed(0)\n",
    "M = int(5e4) # individuals\n",
    "exp = 3.5 # expected value\n",
    "sd = 0.5 # standard deviation\n",
    "\n",
    "incomes = pd.Series(np.random.normal(exp, sd, M))\n",
    "\n",
    "\n",
    "############def###############\n",
    "def simulate_income(mu, sigma, M):\n",
    "    sim = pd.DataFrame({'income':np.random.normal(mu, sigma, M)})\n",
    "    return sim\n",
    "\n",
    "###############################\n",
    "\n",
    "# Plot the distribution of income\n",
    "ax = sns.histplot(incomes)\n",
    "## draw lines in the graph\n",
    "ax.axvline(exp, color=\"black\", label=\"Mean $\\mu$\")\n",
    "ax.axvline(exp - 1.96 * sd, color=\"maroon\", label=\"$\\mu \\pm 1.96 \\sigma$\")\n",
    "ax.axvline(exp + 1.96 * sd, color=\"maroon\")\n",
    "\n",
    "ax.legend()\n",
    "ax.set(xlabel='Income');"
   ]
  },
  {
   "cell_type": "code",
   "execution_count": null,
   "id": "39229b95",
   "metadata": {},
   "outputs": [],
   "source": [
    "#### linear regression\n",
    "#   Y = E + recidual\n",
    "# calculate E\n",
    "\n",
    "# then calculate recudual\n",
    "np.random.seed(0)\n",
    "res_sd = 0.5 # Standard deviation of the residual\n",
    "data['res'] = np.random.normal(0, res_sd, data.shape[0])\n",
    "\n",
    "## y 的估计值\n",
    "data['income'] = data['exp_income'] + data['res']\n",
    "\n",
    "fig, ax = plt.subplots(1,2,figsize=(14,4))\n",
    "sns.histplot(data=data, x='income',ax=ax[0]).set_title(\n",
    "    \"Marginal distribution\")\n",
    "\n",
    "## 分组展示分布\n",
    "sns.histplot(data=data, x='income',hue='recent_unemployment',ax=ax[1]).set_title(\n",
    "    \"Conditional distribution\")\n",
    "for avr in data.groupby('recent_unemployment')['income'].mean():\n",
    "    ax[1].axvline(avr,color='black',linewidth=3)"
   ]
  },
  {
   "cell_type": "markdown",
   "id": "4deb5f30",
   "metadata": {},
   "source": [
    "线性回归  \n",
    "𝑌𝑖=𝛽0+𝛽1𝑋𝑖+𝜖𝑖"
   ]
  },
  {
   "cell_type": "code",
   "execution_count": null,
   "id": "e78263a6",
   "metadata": {},
   "outputs": [],
   "source": [
    "###   𝛽0 𝛽1\n",
    "est_mod = ols('y~bmi+sex+age', data=diab).fit()\n",
    "est_mod.params.round(2)\n",
    "np.sqrt(est_mod.scale).round(2)## 残差标准差"
   ]
  },
  {
   "cell_type": "code",
   "execution_count": null,
   "id": "18ecc005",
   "metadata": {},
   "outputs": [],
   "source": [
    "# center covariates around their sample average (except for y).\n",
    "for c  in ['age', 'bmi', 'bp', 's1', 's2', 's3', 's4', 's5', 's6'] : \n",
    "    diab[c] = diab[c] - diab[c].mean()"
   ]
  },
  {
   "cell_type": "code",
   "execution_count": null,
   "id": "ae349444",
   "metadata": {},
   "outputs": [],
   "source": [
    "##  qq plot\n",
    "ax = sm.qqplot(diab_estmod['err'], line='r');"
   ]
  },
  {
   "cell_type": "code",
   "execution_count": null,
   "id": "966821d4",
   "metadata": {},
   "outputs": [],
   "source": [
    "## 展示ols的参数table\n",
    "est_mod = ols('vote~growth',data=elections).fit()\n",
    "est_mod.summary().tables[1]"
   ]
  }
 ],
 "metadata": {
  "kernelspec": {
   "display_name": "Python 3 (ipykernel)",
   "language": "python",
   "name": "python3"
  },
  "language_info": {
   "codemirror_mode": {
    "name": "ipython",
    "version": 3
   },
   "file_extension": ".py",
   "mimetype": "text/x-python",
   "name": "python",
   "nbconvert_exporter": "python",
   "pygments_lexer": "ipython3",
   "version": "3.11.4"
  }
 },
 "nbformat": 4,
 "nbformat_minor": 5
}
